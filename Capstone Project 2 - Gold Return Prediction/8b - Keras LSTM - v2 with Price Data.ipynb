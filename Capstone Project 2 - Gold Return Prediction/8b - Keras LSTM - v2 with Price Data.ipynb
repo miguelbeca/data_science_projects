{
 "cells": [
  {
   "cell_type": "code",
   "execution_count": 2,
   "metadata": {},
   "outputs": [],
   "source": [
    "#Ref - https://towardsdatascience.com/random-forest-in-python-24d0893d51c0\n",
    "import pandas as pd\n",
    "import numpy as np\n",
    "import datetime\n",
    "import talib as ta\n",
    "import matplotlib.pyplot as plt\n",
    "import seaborn as sns\n",
    "import talib as ta"
   ]
  },
  {
   "cell_type": "code",
   "execution_count": 3,
   "metadata": {},
   "outputs": [],
   "source": [
    "#Read data\n",
    "data = pd.read_csv('data/analysis/D1_XAUUSD_Returns.csv', parse_dates=[0], index_col='Date')\n",
    "#print(data.head())"
   ]
  },
  {
   "cell_type": "code",
   "execution_count": 4,
   "metadata": {},
   "outputs": [],
   "source": [
    "#Date related features\n",
    "data['Week'] = data.index.week\n",
    "data['Day_Week'] = data.index.dayofweek\n",
    "data['daily_return'] = data.Close.pct_change().mul(100)\n",
    "data['day_week_sin'] = np.sin(data.Day_Week*(2.*np.pi/7))\n",
    "data['day_week_cos'] = np.cos(data.Day_Week*(2.*np.pi/7))\n",
    "data['week_sin'] = np.sin((data.Week-1)*(2.*np.pi/52))\n",
    "data['week_cos'] = np.cos((data.Week-1)*(2.*np.pi/52))\n",
    "data['yearday_sin'] = np.sin((data.Yearday)*(2.*np.pi/365.25))\n",
    "data['yearday_cos'] = np.cos((data.Yearday)*(2.*np.pi/365.25))\n",
    "#Simple Moving Average - 50 day\n",
    "data['SMA_50'] = ta.SMA(data.Close, timeperiod = 50)\n",
    "#Simple Moving Average - 200 day\n",
    "data['SMA_200'] = ta.SMA(data.Close, timeperiod = 200)\n",
    "# Exponential Moving Average - 9 day\n",
    "data['EMA_9'] = ta.EMA(data.Close, timeperiod = 9)\n",
    "# Exponential Moving Average - 21 day\n",
    "data['EMA_21'] = ta.EMA(data.Close, timeperiod = 21)\n",
    "# MACD\n",
    "data['macd'], data['macdsignal'], data['macdhist'] = ta.MACD(data.Close, fastperiod=12, slowperiod=200, signalperiod=9)\n",
    "# RSI\n",
    "data['RSI'] = ta.RSI(data.Close, timeperiod=14)\n",
    "#Define relative indicators\n",
    "data['SMA_Delta'] = (data['SMA_50'] - data['SMA_200']) / data['Close']\n",
    "#Define relative indicators\n",
    "data['EMA_Delta'] = (data['EMA_9'] - data['EMA_21']) / data['Close']"
   ]
  },
  {
   "cell_type": "code",
   "execution_count": 5,
   "metadata": {},
   "outputs": [
    {
     "name": "stdout",
     "output_type": "stream",
     "text": [
      "               Open     High      Low    Close  Volume   Weekday  Yearday  \\\n",
      "Date                                                                        \n",
      "2019-04-25  1274.63  1282.53  1273.31  1278.56   97134  Thursday      115   \n",
      "2019-04-26  1278.56  1288.61  1273.72  1285.69  107326    Friday      116   \n",
      "2019-04-28  1286.28  1286.62  1285.63  1285.80    1913    Sunday      118   \n",
      "2019-04-29  1285.79  1286.57  1277.99  1280.33   80222    Monday      119   \n",
      "2019-04-30  1280.32  1286.12  1279.84  1283.11  103615   Tuesday      120   \n",
      "\n",
      "            Daily_return  Log_daily_Return  Week  ...     SMA_50     SMA_200  \\\n",
      "Date                                              ...                          \n",
      "2019-04-25      0.308325          0.003079    17  ...  1295.9396  1260.27820   \n",
      "2019-04-26      0.557659          0.005561    17  ...  1295.0698  1260.74670   \n",
      "2019-04-28      0.008556          0.000086    17  ...  1294.3640  1261.19035   \n",
      "2019-04-29     -0.425416         -0.004263    18  ...  1293.6878  1261.58645   \n",
      "2019-04-30      0.217132          0.002169    18  ...  1293.4888  1262.02385   \n",
      "\n",
      "                  EMA_9       EMA_21      macd  macdsignal  macdhist  \\\n",
      "Date                                                                   \n",
      "2019-04-25  1278.448829  1285.274469  3.007698    8.169469 -5.161771   \n",
      "2019-04-26  1279.897063  1285.312244  3.743673    7.284309 -3.540636   \n",
      "2019-04-28  1281.077650  1285.356586  4.370322    6.701512 -2.331190   \n",
      "2019-04-29  1280.928120  1284.899623  4.101487    6.181507 -2.080020   \n",
      "2019-04-30  1281.364496  1284.736930  4.270027    5.799211 -1.529184   \n",
      "\n",
      "                  RSI  SMA_Delta  EMA_Delta  \n",
      "Date                                         \n",
      "2019-04-25  41.209393   0.027892  -0.005339  \n",
      "2019-04-26  48.267119   0.026696  -0.004212  \n",
      "2019-04-28  48.370097   0.025800  -0.003328  \n",
      "2019-04-29  43.710538   0.025073  -0.003102  \n",
      "2019-04-30  46.529716   0.024522  -0.002628  \n",
      "\n",
      "[5 rows x 28 columns]\n"
     ]
    }
   ],
   "source": [
    "print(data.tail())"
   ]
  },
  {
   "cell_type": "code",
   "execution_count": 6,
   "metadata": {},
   "outputs": [],
   "source": [
    "#Choosing target variable\n",
    "#data['Large_return'] = np.where(data['daily_return']>=0.5, 1, (np.where(data['daily_return']<=-0.5, -1, 0)))\n",
    "data['Large_return'] = np.where(data['daily_return']>0, 1, 0)"
   ]
  },
  {
   "cell_type": "code",
   "execution_count": 7,
   "metadata": {},
   "outputs": [],
   "source": [
    "#Drop rows with nan values\n",
    "data.dropna(inplace=True)"
   ]
  },
  {
   "cell_type": "code",
   "execution_count": 8,
   "metadata": {},
   "outputs": [
    {
     "data": {
      "text/html": [
       "<div>\n",
       "<style scoped>\n",
       "    .dataframe tbody tr th:only-of-type {\n",
       "        vertical-align: middle;\n",
       "    }\n",
       "\n",
       "    .dataframe tbody tr th {\n",
       "        vertical-align: top;\n",
       "    }\n",
       "\n",
       "    .dataframe thead th {\n",
       "        text-align: right;\n",
       "    }\n",
       "</style>\n",
       "<table border=\"1\" class=\"dataframe\">\n",
       "  <thead>\n",
       "    <tr style=\"text-align: right;\">\n",
       "      <th></th>\n",
       "      <th>Open</th>\n",
       "      <th>High</th>\n",
       "      <th>Low</th>\n",
       "      <th>Close</th>\n",
       "      <th>Volume</th>\n",
       "      <th>day_week_sin</th>\n",
       "      <th>day_week_cos</th>\n",
       "      <th>week_sin</th>\n",
       "      <th>week_cos</th>\n",
       "      <th>yearday_sin</th>\n",
       "      <th>yearday_cos</th>\n",
       "      <th>macdhist</th>\n",
       "      <th>RSI</th>\n",
       "      <th>SMA_Delta</th>\n",
       "      <th>EMA_Delta</th>\n",
       "    </tr>\n",
       "    <tr>\n",
       "      <th>Date</th>\n",
       "      <th></th>\n",
       "      <th></th>\n",
       "      <th></th>\n",
       "      <th></th>\n",
       "      <th></th>\n",
       "      <th></th>\n",
       "      <th></th>\n",
       "      <th></th>\n",
       "      <th></th>\n",
       "      <th></th>\n",
       "      <th></th>\n",
       "      <th></th>\n",
       "      <th></th>\n",
       "      <th></th>\n",
       "      <th></th>\n",
       "    </tr>\n",
       "  </thead>\n",
       "  <tbody>\n",
       "    <tr>\n",
       "      <th>2004-01-12</th>\n",
       "      <td>425.85</td>\n",
       "      <td>428.46</td>\n",
       "      <td>422.22</td>\n",
       "      <td>424.60</td>\n",
       "      <td>20736</td>\n",
       "      <td>0.000000</td>\n",
       "      <td>1.000000</td>\n",
       "      <td>0.239316</td>\n",
       "      <td>0.970942</td>\n",
       "      <td>0.204966</td>\n",
       "      <td>0.978769</td>\n",
       "      <td>2.239954</td>\n",
       "      <td>70.847411</td>\n",
       "      <td>0.071611</td>\n",
       "      <td>0.011534</td>\n",
       "    </tr>\n",
       "    <tr>\n",
       "      <th>2004-01-13</th>\n",
       "      <td>424.60</td>\n",
       "      <td>426.39</td>\n",
       "      <td>421.65</td>\n",
       "      <td>423.70</td>\n",
       "      <td>21473</td>\n",
       "      <td>0.781831</td>\n",
       "      <td>0.623490</td>\n",
       "      <td>0.239316</td>\n",
       "      <td>0.970942</td>\n",
       "      <td>0.221772</td>\n",
       "      <td>0.975099</td>\n",
       "      <td>1.835514</td>\n",
       "      <td>68.227339</td>\n",
       "      <td>0.072198</td>\n",
       "      <td>0.010996</td>\n",
       "    </tr>\n",
       "    <tr>\n",
       "      <th>2004-01-14</th>\n",
       "      <td>423.39</td>\n",
       "      <td>424.40</td>\n",
       "      <td>416.78</td>\n",
       "      <td>419.30</td>\n",
       "      <td>20415</td>\n",
       "      <td>0.974928</td>\n",
       "      <td>-0.222521</td>\n",
       "      <td>0.239316</td>\n",
       "      <td>0.970942</td>\n",
       "      <td>0.238513</td>\n",
       "      <td>0.971139</td>\n",
       "      <td>0.945729</td>\n",
       "      <td>57.107955</td>\n",
       "      <td>0.073547</td>\n",
       "      <td>0.009352</td>\n",
       "    </tr>\n",
       "    <tr>\n",
       "      <th>2004-01-15</th>\n",
       "      <td>418.98</td>\n",
       "      <td>421.10</td>\n",
       "      <td>406.91</td>\n",
       "      <td>408.45</td>\n",
       "      <td>22449</td>\n",
       "      <td>0.433884</td>\n",
       "      <td>-0.900969</td>\n",
       "      <td>0.239316</td>\n",
       "      <td>0.970942</td>\n",
       "      <td>0.255182</td>\n",
       "      <td>0.966893</td>\n",
       "      <td>-0.982156</td>\n",
       "      <td>39.857679</td>\n",
       "      <td>0.075568</td>\n",
       "      <td>0.005214</td>\n",
       "    </tr>\n",
       "    <tr>\n",
       "      <th>2004-01-16</th>\n",
       "      <td>408.55</td>\n",
       "      <td>410.40</td>\n",
       "      <td>404.43</td>\n",
       "      <td>406.30</td>\n",
       "      <td>19571</td>\n",
       "      <td>-0.433884</td>\n",
       "      <td>-0.900969</td>\n",
       "      <td>0.239316</td>\n",
       "      <td>0.970942</td>\n",
       "      <td>0.271777</td>\n",
       "      <td>0.962360</td>\n",
       "      <td>-2.539018</td>\n",
       "      <td>37.444023</td>\n",
       "      <td>0.076086</td>\n",
       "      <td>0.001362</td>\n",
       "    </tr>\n",
       "  </tbody>\n",
       "</table>\n",
       "</div>"
      ],
      "text/plain": [
       "              Open    High     Low   Close  Volume  day_week_sin  \\\n",
       "Date                                                               \n",
       "2004-01-12  425.85  428.46  422.22  424.60   20736      0.000000   \n",
       "2004-01-13  424.60  426.39  421.65  423.70   21473      0.781831   \n",
       "2004-01-14  423.39  424.40  416.78  419.30   20415      0.974928   \n",
       "2004-01-15  418.98  421.10  406.91  408.45   22449      0.433884   \n",
       "2004-01-16  408.55  410.40  404.43  406.30   19571     -0.433884   \n",
       "\n",
       "            day_week_cos  week_sin  week_cos  yearday_sin  yearday_cos  \\\n",
       "Date                                                                     \n",
       "2004-01-12      1.000000  0.239316  0.970942     0.204966     0.978769   \n",
       "2004-01-13      0.623490  0.239316  0.970942     0.221772     0.975099   \n",
       "2004-01-14     -0.222521  0.239316  0.970942     0.238513     0.971139   \n",
       "2004-01-15     -0.900969  0.239316  0.970942     0.255182     0.966893   \n",
       "2004-01-16     -0.900969  0.239316  0.970942     0.271777     0.962360   \n",
       "\n",
       "            macdhist        RSI  SMA_Delta  EMA_Delta  \n",
       "Date                                                   \n",
       "2004-01-12  2.239954  70.847411   0.071611   0.011534  \n",
       "2004-01-13  1.835514  68.227339   0.072198   0.010996  \n",
       "2004-01-14  0.945729  57.107955   0.073547   0.009352  \n",
       "2004-01-15 -0.982156  39.857679   0.075568   0.005214  \n",
       "2004-01-16 -2.539018  37.444023   0.076086   0.001362  "
      ]
     },
     "execution_count": 8,
     "metadata": {},
     "output_type": "execute_result"
    }
   ],
   "source": [
    "#Pick features\n",
    "features_list = ['Open', 'High', 'Low', 'Close', 'Volume','day_week_sin','day_week_cos','week_sin','week_cos','yearday_sin','yearday_cos',\n",
    "                 'macdhist', 'RSI', 'SMA_Delta','EMA_Delta']\n",
    "features = data[features_list]\n",
    "features.head()"
   ]
  },
  {
   "cell_type": "code",
   "execution_count": 9,
   "metadata": {},
   "outputs": [
    {
     "name": "stdout",
     "output_type": "stream",
     "text": [
      "               Open     High      Low    Close  Volume  day_week_sin  \\\n",
      "Date                                                                   \n",
      "2019-04-24  1271.37  1278.47  1268.70  1274.63   97655      0.974928   \n",
      "2019-04-25  1274.63  1282.53  1273.31  1278.56   97134      0.433884   \n",
      "2019-04-26  1278.56  1288.61  1273.72  1285.69  107326     -0.433884   \n",
      "2019-04-28  1286.28  1286.62  1285.63  1285.80    1913     -0.781831   \n",
      "2019-04-29  1285.79  1286.57  1277.99  1280.33   80222      0.000000   \n",
      "\n",
      "            day_week_cos  week_sin  week_cos  yearday_sin  yearday_cos  \\\n",
      "Date                                                                     \n",
      "2019-04-24     -0.222521  0.935016 -0.354605     0.924803    -0.380447   \n",
      "2019-04-25     -0.900969  0.935016 -0.354605     0.918121    -0.396299   \n",
      "2019-04-26     -0.900969  0.935016 -0.354605     0.911169    -0.412034   \n",
      "2019-04-28      0.623490  0.935016 -0.354605     0.896456    -0.443132   \n",
      "2019-04-29      1.000000  0.885456 -0.464723     0.888701    -0.458487   \n",
      "\n",
      "            macdhist        RSI  SMA_Delta  EMA_Delta  \n",
      "Date                                                   \n",
      "2019-04-24 -6.111534  36.796126   0.029050  -0.005904  \n",
      "2019-04-25 -5.161771  41.209393   0.027892  -0.005339  \n",
      "2019-04-26 -3.540636  48.267119   0.026696  -0.004212  \n",
      "2019-04-28 -2.331190  48.370097   0.025800  -0.003328  \n",
      "2019-04-29 -2.080020  43.710538   0.025073  -0.003102  \n",
      "Date\n",
      "2019-04-24    1.0\n",
      "2019-04-25    1.0\n",
      "2019-04-26    1.0\n",
      "2019-04-28    0.0\n",
      "2019-04-29    1.0\n",
      "Name: Large_return, dtype: float64\n"
     ]
    }
   ],
   "source": [
    "#Pick target variable \n",
    "target_unshifted = data['Large_return']\n",
    "#Add shift so we can predict target on time t=1 with features from time t\n",
    "target = target_unshifted.shift(-1)\n",
    "#Drop last value from features and target (Nan)\n",
    "features = features[:-1]\n",
    "target = target[:-1]\n",
    "print(features.tail())\n",
    "print(target.tail())"
   ]
  },
  {
   "cell_type": "code",
   "execution_count": 10,
   "metadata": {},
   "outputs": [],
   "source": [
    "def split_train_test(data, train_ratio):\n",
    "    indices = np.arange(len(data))\n",
    "    train_set_size = int(len(data) * train_ratio)\n",
    "    train_indices = indices[:train_set_size]\n",
    "    test_indices = indices[train_set_size:]\n",
    "    return data.iloc[train_indices], data.iloc[test_indices]\n",
    "\n",
    "X_train_set, X_test_set = split_train_test(features, 0.8)"
   ]
  },
  {
   "cell_type": "code",
   "execution_count": 11,
   "metadata": {},
   "outputs": [
    {
     "name": "stdout",
     "output_type": "stream",
     "text": [
      "3816\n",
      "955\n",
      "Training Series: \n",
      "               Open    High     Low   Close  Volume  day_week_sin  \\\n",
      "Date                                                               \n",
      "2004-01-12  425.85  428.46  422.22  424.60   20736      0.000000   \n",
      "2004-01-13  424.60  426.39  421.65  423.70   21473      0.781831   \n",
      "2004-01-14  423.39  424.40  416.78  419.30   20415      0.974928   \n",
      "2004-01-15  418.98  421.10  406.91  408.45   22449      0.433884   \n",
      "2004-01-16  408.55  410.40  404.43  406.30   19571     -0.433884   \n",
      "\n",
      "            day_week_cos  week_sin  week_cos  yearday_sin  yearday_cos  \\\n",
      "Date                                                                     \n",
      "2004-01-12      1.000000  0.239316  0.970942     0.204966     0.978769   \n",
      "2004-01-13      0.623490  0.239316  0.970942     0.221772     0.975099   \n",
      "2004-01-14     -0.222521  0.239316  0.970942     0.238513     0.971139   \n",
      "2004-01-15     -0.900969  0.239316  0.970942     0.255182     0.966893   \n",
      "2004-01-16     -0.900969  0.239316  0.970942     0.271777     0.962360   \n",
      "\n",
      "            macdhist        RSI  SMA_Delta  EMA_Delta  \n",
      "Date                                                   \n",
      "2004-01-12  2.239954  70.847411   0.071611   0.011534  \n",
      "2004-01-13  1.835514  68.227339   0.072198   0.010996  \n",
      "2004-01-14  0.945729  57.107955   0.073547   0.009352  \n",
      "2004-01-15 -0.982156  39.857679   0.075568   0.005214  \n",
      "2004-01-16 -2.539018  37.444023   0.076086   0.001362   \n",
      "\n",
      "Training Series: \n",
      "                Open     High      Low    Close  Volume  day_week_sin  \\\n",
      "Date                                                                   \n",
      "2016-03-28  1213.67  1223.06  1208.07  1222.59  163054      0.000000   \n",
      "2016-03-29  1222.58  1242.88  1215.29  1239.00  177431      0.781831   \n",
      "2016-03-30  1239.00  1244.03  1223.17  1226.78  185024      0.974928   \n",
      "2016-03-31  1226.73  1240.35  1223.84  1231.69  191773      0.433884   \n",
      "2016-04-01  1231.69  1235.26  1209.00  1221.45  199015     -0.433884   \n",
      "\n",
      "            day_week_cos  week_sin  week_cos  yearday_sin  yearday_cos  \\\n",
      "Date                                                                     \n",
      "2016-03-28      1.000000  0.992709  0.120537     0.998377     0.056952   \n",
      "2016-03-29      0.623490  0.992709  0.120537     0.999209     0.039770   \n",
      "2016-03-30     -0.222521  0.992709  0.120537     0.999745     0.022576   \n",
      "2016-03-31     -0.900969  0.992709  0.120537     0.999986     0.005376   \n",
      "2016-04-01     -0.900969  0.992709  0.120537     0.999930    -0.011826   \n",
      "\n",
      "             macdhist        RSI  SMA_Delta  EMA_Delta  \n",
      "Date                                                    \n",
      "2016-03-28 -11.034913  45.548094   0.067394  -0.003803  \n",
      "2016-03-29  -8.917838  52.016394   0.067835  -0.002765  \n",
      "2016-03-30  -8.706344  47.492148   0.069732  -0.003103  \n",
      "2016-03-31  -7.804452  49.396645   0.070571  -0.002825  \n",
      "2016-04-01  -8.211869  45.675771   0.072172  -0.003516   \n",
      "\n",
      "Testing Series: \n",
      "                Open     High      Low    Close  Volume  day_week_sin  \\\n",
      "Date                                                                   \n",
      "2016-04-03  1220.10  1220.88  1217.89  1220.38   11194     -0.781831   \n",
      "2016-04-04  1220.37  1222.55  1214.55  1215.14  178141      0.000000   \n",
      "2016-04-05  1215.14  1236.75  1214.84  1230.82  216759      0.781831   \n",
      "2016-04-06  1230.82  1232.18  1216.48  1225.15  189784      0.974928   \n",
      "2016-04-07  1225.15  1243.20  1223.58  1238.59  221913      0.433884   \n",
      "\n",
      "            day_week_cos  week_sin      week_cos  yearday_sin  yearday_cos  \\\n",
      "Date                                                                         \n",
      "2016-04-03      0.623490  0.992709  1.205367e-01     0.998932    -0.046215   \n",
      "2016-04-04      1.000000  1.000000  6.123234e-17     0.997989    -0.063391   \n",
      "2016-04-05      0.623490  1.000000  6.123234e-17     0.996751    -0.080549   \n",
      "2016-04-06     -0.222521  1.000000  6.123234e-17     0.995218    -0.097683   \n",
      "2016-04-07     -0.900969  1.000000  6.123234e-17     0.993390    -0.114788   \n",
      "\n",
      "            macdhist        RSI  SMA_Delta  EMA_Delta  \n",
      "Date                                                   \n",
      "2016-04-03 -8.424911  45.291855   0.073051  -0.004037  \n",
      "2016-04-04 -8.977970  43.369359   0.073910  -0.004829  \n",
      "2016-04-05 -7.329286  50.183595   0.073469  -0.003848  \n",
      "2016-04-06 -6.716044  47.937329   0.074342  -0.003628  \n",
      "2016-04-07 -4.615459  53.276080   0.073800  -0.002168  \n",
      "Testing Series: \n",
      "                Open     High      Low    Close  Volume  day_week_sin  \\\n",
      "Date                                                                   \n",
      "2019-04-24  1271.37  1278.47  1268.70  1274.63   97655      0.974928   \n",
      "2019-04-25  1274.63  1282.53  1273.31  1278.56   97134      0.433884   \n",
      "2019-04-26  1278.56  1288.61  1273.72  1285.69  107326     -0.433884   \n",
      "2019-04-28  1286.28  1286.62  1285.63  1285.80    1913     -0.781831   \n",
      "2019-04-29  1285.79  1286.57  1277.99  1280.33   80222      0.000000   \n",
      "\n",
      "            day_week_cos  week_sin  week_cos  yearday_sin  yearday_cos  \\\n",
      "Date                                                                     \n",
      "2019-04-24     -0.222521  0.935016 -0.354605     0.924803    -0.380447   \n",
      "2019-04-25     -0.900969  0.935016 -0.354605     0.918121    -0.396299   \n",
      "2019-04-26     -0.900969  0.935016 -0.354605     0.911169    -0.412034   \n",
      "2019-04-28      0.623490  0.935016 -0.354605     0.896456    -0.443132   \n",
      "2019-04-29      1.000000  0.885456 -0.464723     0.888701    -0.458487   \n",
      "\n",
      "            macdhist        RSI  SMA_Delta  EMA_Delta  \n",
      "Date                                                   \n",
      "2019-04-24 -6.111534  36.796126   0.029050  -0.005904  \n",
      "2019-04-25 -5.161771  41.209393   0.027892  -0.005339  \n",
      "2019-04-26 -3.540636  48.267119   0.026696  -0.004212  \n",
      "2019-04-28 -2.331190  48.370097   0.025800  -0.003328  \n",
      "2019-04-29 -2.080020  43.710538   0.025073  -0.003102  \n"
     ]
    }
   ],
   "source": [
    "print(len(X_train_set))\n",
    "print(len(X_test_set))\n",
    "print(\"Training Series:\", \"\\n\", X_train_set.head(), \"\\n\")\n",
    "print(\"Training Series:\", \"\\n\", X_train_set.tail(), \"\\n\")\n",
    "print(\"Testing Series:\", \"\\n\", X_test_set.head())\n",
    "print(\"Testing Series:\", \"\\n\", X_test_set.tail())"
   ]
  },
  {
   "cell_type": "code",
   "execution_count": 12,
   "metadata": {},
   "outputs": [],
   "source": [
    "y_train_set, y_test_set = split_train_test(target, 0.8)"
   ]
  },
  {
   "cell_type": "code",
   "execution_count": 13,
   "metadata": {},
   "outputs": [
    {
     "name": "stdout",
     "output_type": "stream",
     "text": [
      "3816\n",
      "955\n",
      "Training Series: \n",
      " Date\n",
      "2004-01-12    0.0\n",
      "2004-01-13    0.0\n",
      "2004-01-14    0.0\n",
      "2004-01-15    0.0\n",
      "2004-01-16    0.0\n",
      "Name: Large_return, dtype: float64 \n",
      "\n",
      "Training Series: \n",
      " Date\n",
      "2016-03-28    1.0\n",
      "2016-03-29    0.0\n",
      "2016-03-30    1.0\n",
      "2016-03-31    0.0\n",
      "2016-04-01    0.0\n",
      "Name: Large_return, dtype: float64 \n",
      "\n",
      "Testing Series: \n",
      " Date\n",
      "2016-04-03    0.0\n",
      "2016-04-04    1.0\n",
      "2016-04-05    0.0\n",
      "2016-04-06    1.0\n",
      "2016-04-07    1.0\n",
      "Name: Large_return, dtype: float64\n",
      "Testing Series: \n",
      " Date\n",
      "2019-04-24    1.0\n",
      "2019-04-25    1.0\n",
      "2019-04-26    1.0\n",
      "2019-04-28    0.0\n",
      "2019-04-29    1.0\n",
      "Name: Large_return, dtype: float64\n"
     ]
    }
   ],
   "source": [
    "#SKIP\n",
    "print(len(y_train_set))\n",
    "print(len(y_test_set))\n",
    "print(\"Training Series:\", \"\\n\", y_train_set.head(), \"\\n\")\n",
    "print(\"Training Series:\", \"\\n\", y_train_set.tail(), \"\\n\")\n",
    "print(\"Testing Series:\", \"\\n\", y_test_set.head())\n",
    "print(\"Testing Series:\", \"\\n\", y_test_set.tail())"
   ]
  },
  {
   "cell_type": "code",
   "execution_count": 21,
   "metadata": {},
   "outputs": [
    {
     "name": "stdout",
     "output_type": "stream",
     "text": [
      "15\n"
     ]
    }
   ],
   "source": [
    "print(X_train_set.shape[1])"
   ]
  },
  {
   "cell_type": "code",
   "execution_count": 26,
   "metadata": {},
   "outputs": [
    {
     "name": "stderr",
     "output_type": "stream",
     "text": [
      "C:\\Users\\mbeca\\Continuum\\anaconda3\\envs\\keras\\lib\\site-packages\\ipykernel_launcher.py:9: UserWarning: The `input_dim` and `input_length` arguments in recurrent layers are deprecated. Use `input_shape` instead.\n",
      "  if __name__ == '__main__':\n",
      "C:\\Users\\mbeca\\Continuum\\anaconda3\\envs\\keras\\lib\\site-packages\\ipykernel_launcher.py:9: UserWarning: Update your `LSTM` call to the Keras 2 API: `LSTM(50, input_shape=(None, 15))`\n",
      "  if __name__ == '__main__':\n"
     ]
    },
    {
     "ename": "ValueError",
     "evalue": "Error when checking input: expected lstm_3_input to have 3 dimensions, but got array with shape (3816, 15)",
     "output_type": "error",
     "traceback": [
      "\u001b[1;31m---------------------------------------------------------------------------\u001b[0m",
      "\u001b[1;31mValueError\u001b[0m                                Traceback (most recent call last)",
      "\u001b[1;32m<ipython-input-26-0cf9acd0305e>\u001b[0m in \u001b[0;36m<module>\u001b[1;34m\u001b[0m\n\u001b[0;32m     25\u001b[0m \u001b[1;31m#model.compile(loss='mae', optimizer='adam')\u001b[0m\u001b[1;33m\u001b[0m\u001b[1;33m\u001b[0m\u001b[1;33m\u001b[0m\u001b[0m\n\u001b[0;32m     26\u001b[0m \u001b[1;31m# fit network\u001b[0m\u001b[1;33m\u001b[0m\u001b[1;33m\u001b[0m\u001b[1;33m\u001b[0m\u001b[0m\n\u001b[1;32m---> 27\u001b[1;33m \u001b[0mhistory\u001b[0m \u001b[1;33m=\u001b[0m \u001b[0mmodel\u001b[0m\u001b[1;33m.\u001b[0m\u001b[0mfit\u001b[0m\u001b[1;33m(\u001b[0m\u001b[0mX_train_set\u001b[0m\u001b[1;33m,\u001b[0m\u001b[0my_train_set\u001b[0m\u001b[1;33m.\u001b[0m\u001b[0mvalues\u001b[0m\u001b[1;33m.\u001b[0m\u001b[0mravel\u001b[0m\u001b[1;33m(\u001b[0m\u001b[1;33m)\u001b[0m\u001b[1;33m,\u001b[0m \u001b[0mepochs\u001b[0m\u001b[1;33m=\u001b[0m\u001b[1;36m50\u001b[0m\u001b[1;33m,\u001b[0m \u001b[0mbatch_size\u001b[0m\u001b[1;33m=\u001b[0m\u001b[1;36m72\u001b[0m\u001b[1;33m,\u001b[0m \u001b[0mvalidation_data\u001b[0m\u001b[1;33m=\u001b[0m\u001b[1;33m(\u001b[0m\u001b[0mX_test_set\u001b[0m\u001b[1;33m,\u001b[0m \u001b[0my_test_set\u001b[0m\u001b[1;33m)\u001b[0m\u001b[1;33m,\u001b[0m \u001b[0mverbose\u001b[0m\u001b[1;33m=\u001b[0m\u001b[1;36m2\u001b[0m\u001b[1;33m,\u001b[0m \u001b[0mshuffle\u001b[0m\u001b[1;33m=\u001b[0m\u001b[1;32mFalse\u001b[0m\u001b[1;33m)\u001b[0m\u001b[1;33m\u001b[0m\u001b[1;33m\u001b[0m\u001b[0m\n\u001b[0m\u001b[0;32m     28\u001b[0m \u001b[1;33m\u001b[0m\u001b[0m\n\u001b[0;32m     29\u001b[0m \u001b[1;33m\u001b[0m\u001b[0m\n",
      "\u001b[1;32m~\\Continuum\\anaconda3\\envs\\keras\\lib\\site-packages\\keras\\engine\\training.py\u001b[0m in \u001b[0;36mfit\u001b[1;34m(self, x, y, batch_size, epochs, verbose, callbacks, validation_split, validation_data, shuffle, class_weight, sample_weight, initial_epoch, steps_per_epoch, validation_steps, **kwargs)\u001b[0m\n\u001b[0;32m    950\u001b[0m             \u001b[0msample_weight\u001b[0m\u001b[1;33m=\u001b[0m\u001b[0msample_weight\u001b[0m\u001b[1;33m,\u001b[0m\u001b[1;33m\u001b[0m\u001b[1;33m\u001b[0m\u001b[0m\n\u001b[0;32m    951\u001b[0m             \u001b[0mclass_weight\u001b[0m\u001b[1;33m=\u001b[0m\u001b[0mclass_weight\u001b[0m\u001b[1;33m,\u001b[0m\u001b[1;33m\u001b[0m\u001b[1;33m\u001b[0m\u001b[0m\n\u001b[1;32m--> 952\u001b[1;33m             batch_size=batch_size)\n\u001b[0m\u001b[0;32m    953\u001b[0m         \u001b[1;31m# Prepare validation data.\u001b[0m\u001b[1;33m\u001b[0m\u001b[1;33m\u001b[0m\u001b[1;33m\u001b[0m\u001b[0m\n\u001b[0;32m    954\u001b[0m         \u001b[0mdo_validation\u001b[0m \u001b[1;33m=\u001b[0m \u001b[1;32mFalse\u001b[0m\u001b[1;33m\u001b[0m\u001b[1;33m\u001b[0m\u001b[0m\n",
      "\u001b[1;32m~\\Continuum\\anaconda3\\envs\\keras\\lib\\site-packages\\keras\\engine\\training.py\u001b[0m in \u001b[0;36m_standardize_user_data\u001b[1;34m(self, x, y, sample_weight, class_weight, check_array_lengths, batch_size)\u001b[0m\n\u001b[0;32m    749\u001b[0m             \u001b[0mfeed_input_shapes\u001b[0m\u001b[1;33m,\u001b[0m\u001b[1;33m\u001b[0m\u001b[1;33m\u001b[0m\u001b[0m\n\u001b[0;32m    750\u001b[0m             \u001b[0mcheck_batch_axis\u001b[0m\u001b[1;33m=\u001b[0m\u001b[1;32mFalse\u001b[0m\u001b[1;33m,\u001b[0m  \u001b[1;31m# Don't enforce the batch size.\u001b[0m\u001b[1;33m\u001b[0m\u001b[1;33m\u001b[0m\u001b[0m\n\u001b[1;32m--> 751\u001b[1;33m             exception_prefix='input')\n\u001b[0m\u001b[0;32m    752\u001b[0m \u001b[1;33m\u001b[0m\u001b[0m\n\u001b[0;32m    753\u001b[0m         \u001b[1;32mif\u001b[0m \u001b[0my\u001b[0m \u001b[1;32mis\u001b[0m \u001b[1;32mnot\u001b[0m \u001b[1;32mNone\u001b[0m\u001b[1;33m:\u001b[0m\u001b[1;33m\u001b[0m\u001b[1;33m\u001b[0m\u001b[0m\n",
      "\u001b[1;32m~\\Continuum\\anaconda3\\envs\\keras\\lib\\site-packages\\keras\\engine\\training_utils.py\u001b[0m in \u001b[0;36mstandardize_input_data\u001b[1;34m(data, names, shapes, check_batch_axis, exception_prefix)\u001b[0m\n\u001b[0;32m    126\u001b[0m                         \u001b[1;34m': expected '\u001b[0m \u001b[1;33m+\u001b[0m \u001b[0mnames\u001b[0m\u001b[1;33m[\u001b[0m\u001b[0mi\u001b[0m\u001b[1;33m]\u001b[0m \u001b[1;33m+\u001b[0m \u001b[1;34m' to have '\u001b[0m \u001b[1;33m+\u001b[0m\u001b[1;33m\u001b[0m\u001b[1;33m\u001b[0m\u001b[0m\n\u001b[0;32m    127\u001b[0m                         \u001b[0mstr\u001b[0m\u001b[1;33m(\u001b[0m\u001b[0mlen\u001b[0m\u001b[1;33m(\u001b[0m\u001b[0mshape\u001b[0m\u001b[1;33m)\u001b[0m\u001b[1;33m)\u001b[0m \u001b[1;33m+\u001b[0m \u001b[1;34m' dimensions, but got array '\u001b[0m\u001b[1;33m\u001b[0m\u001b[1;33m\u001b[0m\u001b[0m\n\u001b[1;32m--> 128\u001b[1;33m                         'with shape ' + str(data_shape))\n\u001b[0m\u001b[0;32m    129\u001b[0m                 \u001b[1;32mif\u001b[0m \u001b[1;32mnot\u001b[0m \u001b[0mcheck_batch_axis\u001b[0m\u001b[1;33m:\u001b[0m\u001b[1;33m\u001b[0m\u001b[1;33m\u001b[0m\u001b[0m\n\u001b[0;32m    130\u001b[0m                     \u001b[0mdata_shape\u001b[0m \u001b[1;33m=\u001b[0m \u001b[0mdata_shape\u001b[0m\u001b[1;33m[\u001b[0m\u001b[1;36m1\u001b[0m\u001b[1;33m:\u001b[0m\u001b[1;33m]\u001b[0m\u001b[1;33m\u001b[0m\u001b[1;33m\u001b[0m\u001b[0m\n",
      "\u001b[1;31mValueError\u001b[0m: Error when checking input: expected lstm_3_input to have 3 dimensions, but got array with shape (3816, 15)"
     ]
    }
   ],
   "source": [
    "# Ref - https://machinelearningmastery.com/multivariate-time-series-forecasting-lstms-keras/\n",
    "from keras.models import Sequential\n",
    "from keras.layers import Dense\n",
    "from keras.layers import LSTM\n",
    "\n",
    "# define model\n",
    "model = Sequential()\n",
    "#model.add(Dense(100, activation='relu', input_dim=X_train_set.shape[1]))\n",
    "model.add(LSTM(50, input_dim=X_train_set.shape[1]))\n",
    "model.add(Dense(1))\n",
    "model.compile(optimizer='adam', loss='mse')\n",
    "# fit model\n",
    "#history = model.fit(X_train_set,y_train_set.values.ravel(), epochs=2000, verbose=0)\n",
    "\n",
    "# demonstrate prediction\n",
    "#x_input = array([50, 60, 70])\n",
    "#x_input = x_input.reshape((1, 3))\n",
    "#yhat = model.predict(x_input, verbose=0)\n",
    "#print(yhat)\n",
    "\n",
    "# design network\n",
    "#model = Sequential()\n",
    "#model.add(LSTM(50, input_shape=(1, X_train_set.shape[1])))\n",
    "#model.add(Dense(1))\n",
    "#model.compile(loss='mae', optimizer='adam')\n",
    "# fit network\n",
    "history = model.fit(X_train_set,y_train_set.values.ravel(), epochs=50, batch_size=72, validation_data=(X_test_set, y_test_set), verbose=2, shuffle=False)\n",
    "\n",
    "\n"
   ]
  },
  {
   "cell_type": "code",
   "execution_count": 25,
   "metadata": {},
   "outputs": [
    {
     "ename": "KeyError",
     "evalue": "'val_loss'",
     "output_type": "error",
     "traceback": [
      "\u001b[1;31m---------------------------------------------------------------------------\u001b[0m",
      "\u001b[1;31mKeyError\u001b[0m                                  Traceback (most recent call last)",
      "\u001b[1;32m<ipython-input-25-16b435b16438>\u001b[0m in \u001b[0;36m<module>\u001b[1;34m\u001b[0m\n\u001b[0;32m      1\u001b[0m \u001b[1;31m# plot history\u001b[0m\u001b[1;33m\u001b[0m\u001b[1;33m\u001b[0m\u001b[1;33m\u001b[0m\u001b[0m\n\u001b[0;32m      2\u001b[0m \u001b[0mplt\u001b[0m\u001b[1;33m.\u001b[0m\u001b[0mplot\u001b[0m\u001b[1;33m(\u001b[0m\u001b[0mhistory\u001b[0m\u001b[1;33m.\u001b[0m\u001b[0mhistory\u001b[0m\u001b[1;33m[\u001b[0m\u001b[1;34m'loss'\u001b[0m\u001b[1;33m]\u001b[0m\u001b[1;33m,\u001b[0m \u001b[0mlabel\u001b[0m\u001b[1;33m=\u001b[0m\u001b[1;34m'train'\u001b[0m\u001b[1;33m)\u001b[0m\u001b[1;33m\u001b[0m\u001b[1;33m\u001b[0m\u001b[0m\n\u001b[1;32m----> 3\u001b[1;33m \u001b[0mplt\u001b[0m\u001b[1;33m.\u001b[0m\u001b[0mplot\u001b[0m\u001b[1;33m(\u001b[0m\u001b[0mhistory\u001b[0m\u001b[1;33m.\u001b[0m\u001b[0mhistory\u001b[0m\u001b[1;33m[\u001b[0m\u001b[1;34m'val_loss'\u001b[0m\u001b[1;33m]\u001b[0m\u001b[1;33m,\u001b[0m \u001b[0mlabel\u001b[0m\u001b[1;33m=\u001b[0m\u001b[1;34m'test'\u001b[0m\u001b[1;33m)\u001b[0m\u001b[1;33m\u001b[0m\u001b[1;33m\u001b[0m\u001b[0m\n\u001b[0m\u001b[0;32m      4\u001b[0m \u001b[0mplt\u001b[0m\u001b[1;33m.\u001b[0m\u001b[0mlegend\u001b[0m\u001b[1;33m(\u001b[0m\u001b[1;33m)\u001b[0m\u001b[1;33m\u001b[0m\u001b[1;33m\u001b[0m\u001b[0m\n\u001b[0;32m      5\u001b[0m \u001b[0mplt\u001b[0m\u001b[1;33m.\u001b[0m\u001b[0mshow\u001b[0m\u001b[1;33m(\u001b[0m\u001b[1;33m)\u001b[0m\u001b[1;33m\u001b[0m\u001b[1;33m\u001b[0m\u001b[0m\n",
      "\u001b[1;31mKeyError\u001b[0m: 'val_loss'"
     ]
    },
    {
     "data": {
      "image/png": "[encoded data removed]",
      "text/plain": [
       "<Figure size 432x288 with 1 Axes>"
      ]
     },
     "metadata": {
      "needs_background": "light"
     },
     "output_type": "display_data"
    }
   ],
   "source": [
    "# plot history\n",
    "plt.plot(history.history['loss'], label='train')\n",
    "plt.plot(history.history['val_loss'], label='test')\n",
    "plt.legend()\n",
    "plt.show()"
   ]
  },
  {
   "cell_type": "code",
   "execution_count": 117,
   "metadata": {},
   "outputs": [
    {
     "name": "stdout",
     "output_type": "stream",
     "text": [
      "{'max_features': 'auto', 'min_samples_split': 10, 'n_estimators': 500}\n",
      "0.4990184643598094\n"
     ]
    }
   ],
   "source": [
    "print (CV_rfc.best_params_)\n",
    "print (CV_rfc.best_score_)"
   ]
  },
  {
   "cell_type": "code",
   "execution_count": 118,
   "metadata": {},
   "outputs": [
    {
     "name": "stdout",
     "output_type": "stream",
     "text": [
      "              precision    recall  f1-score   support\n",
      "\n",
      "         0.0       0.54      0.47      0.50       513\n",
      "         1.0       0.47      0.54      0.50       442\n",
      "\n",
      "   micro avg       0.50      0.50      0.50       955\n",
      "   macro avg       0.50      0.50      0.50       955\n",
      "weighted avg       0.51      0.50      0.50       955\n",
      "\n"
     ]
    }
   ],
   "source": [
    "from sklearn import metrics\n",
    "print(metrics.classification_report(y_model, y_test_set))"
   ]
  },
  {
   "cell_type": "code",
   "execution_count": 119,
   "metadata": {},
   "outputs": [
    {
     "data": {
      "image/png": "[encoded data removed]",
      "text/plain": [
       "<Figure size 432x288 with 1 Axes>"
      ]
     },
     "metadata": {
      "needs_background": "light"
     },
     "output_type": "display_data"
    }
   ],
   "source": [
    "from sklearn.metrics import confusion_matrix\n",
    "mat = confusion_matrix(y_model, y_test_set)\n",
    "sns.heatmap(mat.T, square=True, annot=True, fmt='d', cbar=False)\n",
    "plt.xlabel('true label')\n",
    "plt.ylabel('predicted label');"
   ]
  },
  {
   "cell_type": "code",
   "execution_count": 22,
   "metadata": {},
   "outputs": [
    {
     "data": {
      "text/plain": [
       "['accuracy',\n",
       " 'adjusted_mutual_info_score',\n",
       " 'adjusted_rand_score',\n",
       " 'average_precision',\n",
       " 'balanced_accuracy',\n",
       " 'brier_score_loss',\n",
       " 'completeness_score',\n",
       " 'explained_variance',\n",
       " 'f1',\n",
       " 'f1_macro',\n",
       " 'f1_micro',\n",
       " 'f1_samples',\n",
       " 'f1_weighted',\n",
       " 'fowlkes_mallows_score',\n",
       " 'homogeneity_score',\n",
       " 'mutual_info_score',\n",
       " 'neg_log_loss',\n",
       " 'neg_mean_absolute_error',\n",
       " 'neg_mean_squared_error',\n",
       " 'neg_mean_squared_log_error',\n",
       " 'neg_median_absolute_error',\n",
       " 'normalized_mutual_info_score',\n",
       " 'precision',\n",
       " 'precision_macro',\n",
       " 'precision_micro',\n",
       " 'precision_samples',\n",
       " 'precision_weighted',\n",
       " 'r2',\n",
       " 'recall',\n",
       " 'recall_macro',\n",
       " 'recall_micro',\n",
       " 'recall_samples',\n",
       " 'recall_weighted',\n",
       " 'roc_auc',\n",
       " 'v_measure_score']"
      ]
     },
     "execution_count": 22,
     "metadata": {},
     "output_type": "execute_result"
    }
   ],
   "source": [
    "from sklearn.metrics import SCORERS\n",
    "sorted(SCORERS.keys())"
   ]
  },
  {
   "cell_type": "code",
   "execution_count": null,
   "metadata": {},
   "outputs": [],
   "source": []
  },
  {
   "cell_type": "code",
   "execution_count": null,
   "metadata": {},
   "outputs": [],
   "source": []
  }
 ],
 "metadata": {
  "kernelspec": {
   "display_name": "Python 3",
   "language": "python",
   "name": "python3"
  },
  "language_info": {
   "codemirror_mode": {
    "name": "ipython",
    "version": 3
   },
   "file_extension": ".py",
   "mimetype": "text/x-python",
   "name": "python",
   "nbconvert_exporter": "python",
   "pygments_lexer": "ipython3",
   "version": "3.6.8"
  }
 },
 "nbformat": 4,
 "nbformat_minor": 2
}
