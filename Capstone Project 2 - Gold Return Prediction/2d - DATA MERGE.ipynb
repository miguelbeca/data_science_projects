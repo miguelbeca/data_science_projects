{
 "cells": [
  {
   "cell_type": "code",
   "execution_count": 1,
   "metadata": {},
   "outputs": [],
   "source": [
    "import pandas as pd\n",
    "import numpy as np\n",
    "import datetime\n",
    "import talib as ta\n",
    "import matplotlib.pyplot as plt\n",
    "import seaborn as sns\n",
    "import talib as ta"
   ]
  },
  {
   "cell_type": "code",
   "execution_count": 2,
   "metadata": {},
   "outputs": [],
   "source": [
    "#Read data\n",
    "data_xau = pd.read_csv('data/analysis/D1_XAUUSD_Returns.csv', parse_dates=[0], index_col='Date')\n",
    "data_xag = pd.read_csv('data/analysis/D1_XAGUSD_Returns.csv', parse_dates=[0], index_col='Date')\n",
    "data_eur = pd.read_csv('data/analysis/D1_EURUSD_Returns.csv', parse_dates=[0], index_col='Date')\n"
   ]
  },
  {
   "cell_type": "code",
   "execution_count": 3,
   "metadata": {},
   "outputs": [
    {
     "name": "stdout",
     "output_type": "stream",
     "text": [
      "              Open    High     Low   Close  Volume    Weekday  Yearday  \\\n",
      "Date                                                                     \n",
      "2003-05-05  340.35  342.59  339.73  341.31   11948     Monday      125   \n",
      "2003-05-06  341.53  344.21  340.28  343.28   12161    Tuesday      126   \n",
      "2003-05-07  343.45  344.19  339.00  341.23   11588  Wednesday      127   \n",
      "2003-05-08  341.28  348.13  339.96  347.38   12108   Thursday      128   \n",
      "2003-05-09  347.33  348.58  345.82  347.92   11539     Friday      129   \n",
      "\n",
      "            Daily_return  Log_daily_Return  \n",
      "Date                                        \n",
      "2003-05-05           NaN               NaN  \n",
      "2003-05-06      0.577188          0.005755  \n",
      "2003-05-07     -0.597180         -0.005990  \n",
      "2003-05-08      1.802303          0.017863  \n",
      "2003-05-09      0.155449          0.001553  \n",
      "            Open_XAG  High_XAG  Low_XAG  Close_XAG  Volume_XAG Weekday_XAG  \\\n",
      "Date                                                                         \n",
      "2003-08-08     4.966     5.066    4.750      4.884        6015      Friday   \n",
      "2003-08-10     4.925     4.964    4.786      4.855          33      Sunday   \n",
      "2003-08-11     4.915     5.039    4.752      4.912        2142      Monday   \n",
      "2003-08-12     4.925     5.030    4.655      4.765        2281     Tuesday   \n",
      "2003-08-13     4.741     5.084    4.646      4.899        2746   Wednesday   \n",
      "\n",
      "            Yearday_XAG  Daily_return_XAG  Log_daily_Return_XAG  \n",
      "Date                                                             \n",
      "2003-08-08          220               NaN                   NaN  \n",
      "2003-08-10          222         -0.593776             -0.005955  \n",
      "2003-08-11          223          1.174047              0.011672  \n",
      "2003-08-12          224         -2.992671             -0.030384  \n",
      "2003-08-13          225          2.812172              0.027734  \n",
      "            Open_EUR  High_EUR  Low_EUR  Close_EUR  Volume_EUR Weekday_EUR  \\\n",
      "Date                                                                         \n",
      "2003-05-05   1.12161   1.13009  1.12014    1.12924     1279436      Monday   \n",
      "2003-05-06   1.12921   1.14506  1.12723    1.14234     1284882     Tuesday   \n",
      "2003-05-07   1.14218   1.14323  1.13265    1.13494     1275988   Wednesday   \n",
      "2003-05-08   1.13507   1.15077  1.13006    1.14820     1269876    Thursday   \n",
      "2003-05-09   1.14831   1.15366  1.14346    1.14877     1192012      Friday   \n",
      "\n",
      "            Yearday_EUR  Daily_return_EUR  Log_daily_Return_EUR  \n",
      "Date                                                             \n",
      "2003-05-05          125               NaN                   NaN  \n",
      "2003-05-06          126          1.160072              0.011534  \n",
      "2003-05-07          127         -0.647793             -0.006499  \n",
      "2003-05-08          128          1.168344              0.011616  \n",
      "2003-05-09          129          0.049643              0.000496  \n"
     ]
    }
   ],
   "source": [
    "print(data_xau.head())\n",
    "print(data_xag.head())\n",
    "print(data_eur.head())"
   ]
  },
  {
   "cell_type": "code",
   "execution_count": 4,
   "metadata": {},
   "outputs": [
    {
     "name": "stdout",
     "output_type": "stream",
     "text": [
      "              Open    High     Low   Close   Volume    Weekday  Yearday  \\\n",
      "Date                                                                      \n",
      "2003-05-05  340.35  342.59  339.73  341.31  11948.0     Monday    125.0   \n",
      "2003-05-06  341.53  344.21  340.28  343.28  12161.0    Tuesday    126.0   \n",
      "2003-05-07  343.45  344.19  339.00  341.23  11588.0  Wednesday    127.0   \n",
      "2003-05-08  341.28  348.13  339.96  347.38  12108.0   Thursday    128.0   \n",
      "2003-05-09  347.33  348.58  345.82  347.92  11539.0     Friday    129.0   \n",
      "\n",
      "            Daily_return  Log_daily_Return  Open_XAG  ...  \\\n",
      "Date                                                  ...   \n",
      "2003-05-05           NaN               NaN       NaN  ...   \n",
      "2003-05-06      0.577188          0.005755       NaN  ...   \n",
      "2003-05-07     -0.597180         -0.005990       NaN  ...   \n",
      "2003-05-08      1.802303          0.017863       NaN  ...   \n",
      "2003-05-09      0.155449          0.001553       NaN  ...   \n",
      "\n",
      "            Log_daily_Return_XAG  Open_EUR  High_EUR  Low_EUR Close_EUR  \\\n",
      "Date                                                                      \n",
      "2003-05-05                   NaN   1.12161   1.13009  1.12014   1.12924   \n",
      "2003-05-06                   NaN   1.12921   1.14506  1.12723   1.14234   \n",
      "2003-05-07                   NaN   1.14218   1.14323  1.13265   1.13494   \n",
      "2003-05-08                   NaN   1.13507   1.15077  1.13006   1.14820   \n",
      "2003-05-09                   NaN   1.14831   1.15366  1.14346   1.14877   \n",
      "\n",
      "            Volume_EUR  Weekday_EUR  Yearday_EUR  Daily_return_EUR  \\\n",
      "Date                                                                 \n",
      "2003-05-05   1279436.0       Monday        125.0               NaN   \n",
      "2003-05-06   1284882.0      Tuesday        126.0          1.160072   \n",
      "2003-05-07   1275988.0    Wednesday        127.0         -0.647793   \n",
      "2003-05-08   1269876.0     Thursday        128.0          1.168344   \n",
      "2003-05-09   1192012.0       Friday        129.0          0.049643   \n",
      "\n",
      "            Log_daily_Return_EUR  \n",
      "Date                              \n",
      "2003-05-05                   NaN  \n",
      "2003-05-06              0.011534  \n",
      "2003-05-07             -0.006499  \n",
      "2003-05-08              0.011616  \n",
      "2003-05-09              0.000496  \n",
      "\n",
      "[5 rows x 27 columns]\n"
     ]
    }
   ],
   "source": [
    "#Merge the 3 datasets\n",
    "data_temp1 = pd.concat([data_xau, data_xag, data_eur], axis=1)\n",
    "print(data_temp1.head())"
   ]
  },
  {
   "cell_type": "code",
   "execution_count": 5,
   "metadata": {},
   "outputs": [
    {
     "name": "stdout",
     "output_type": "stream",
     "text": [
      "Index(['Open', 'High', 'Low', 'Close', 'Volume', 'Weekday', 'Yearday',\n",
      "       'Daily_return', 'Log_daily_Return', 'Open_XAG', 'High_XAG', 'Low_XAG',\n",
      "       'Close_XAG', 'Volume_XAG', 'Weekday_XAG', 'Yearday_XAG',\n",
      "       'Daily_return_XAG', 'Log_daily_Return_XAG', 'Open_EUR', 'High_EUR',\n",
      "       'Low_EUR', 'Close_EUR', 'Volume_EUR', 'Weekday_EUR', 'Yearday_EUR',\n",
      "       'Daily_return_EUR', 'Log_daily_Return_EUR'],\n",
      "      dtype='object')\n"
     ]
    }
   ],
   "source": [
    "print(data_temp1.columns)"
   ]
  },
  {
   "cell_type": "code",
   "execution_count": 6,
   "metadata": {},
   "outputs": [
    {
     "name": "stdout",
     "output_type": "stream",
     "text": [
      "              Open    High     Low   Close   Volume    Weekday  Yearday  \\\n",
      "Date                                                                      \n",
      "2003-05-05  340.35  342.59  339.73  341.31  11948.0     Monday    125.0   \n",
      "2003-05-06  341.53  344.21  340.28  343.28  12161.0    Tuesday    126.0   \n",
      "2003-05-07  343.45  344.19  339.00  341.23  11588.0  Wednesday    127.0   \n",
      "2003-05-08  341.28  348.13  339.96  347.38  12108.0   Thursday    128.0   \n",
      "2003-05-09  347.33  348.58  345.82  347.92  11539.0     Friday    129.0   \n",
      "\n",
      "            Daily_return  Log_daily_Return  Open_XAG  ...  Volume_XAG  \\\n",
      "Date                                                  ...               \n",
      "2003-05-05           NaN               NaN       NaN  ...         NaN   \n",
      "2003-05-06      0.577188          0.005755       NaN  ...         NaN   \n",
      "2003-05-07     -0.597180         -0.005990       NaN  ...         NaN   \n",
      "2003-05-08      1.802303          0.017863       NaN  ...         NaN   \n",
      "2003-05-09      0.155449          0.001553       NaN  ...         NaN   \n",
      "\n",
      "            Daily_return_XAG  Log_daily_Return_XAG  Open_EUR  High_EUR  \\\n",
      "Date                                                                     \n",
      "2003-05-05               NaN                   NaN   1.12161   1.13009   \n",
      "2003-05-06               NaN                   NaN   1.12921   1.14506   \n",
      "2003-05-07               NaN                   NaN   1.14218   1.14323   \n",
      "2003-05-08               NaN                   NaN   1.13507   1.15077   \n",
      "2003-05-09               NaN                   NaN   1.14831   1.15366   \n",
      "\n",
      "            Low_EUR  Close_EUR  Volume_EUR  Daily_return_EUR  \\\n",
      "Date                                                           \n",
      "2003-05-05  1.12014    1.12924   1279436.0               NaN   \n",
      "2003-05-06  1.12723    1.14234   1284882.0          1.160072   \n",
      "2003-05-07  1.13265    1.13494   1275988.0         -0.647793   \n",
      "2003-05-08  1.13006    1.14820   1269876.0          1.168344   \n",
      "2003-05-09  1.14346    1.14877   1192012.0          0.049643   \n",
      "\n",
      "            Log_daily_Return_EUR  \n",
      "Date                              \n",
      "2003-05-05                   NaN  \n",
      "2003-05-06              0.011534  \n",
      "2003-05-07             -0.006499  \n",
      "2003-05-08              0.011616  \n",
      "2003-05-09              0.000496  \n",
      "\n",
      "[5 rows x 23 columns]\n"
     ]
    }
   ],
   "source": [
    "#Drop repeat columns\n",
    "data_temp1.drop(columns=['Weekday_XAG','Yearday_XAG','Weekday_EUR','Yearday_EUR'], inplace=True)\n",
    "print(data_temp1.head())"
   ]
  },
  {
   "cell_type": "code",
   "execution_count": 7,
   "metadata": {},
   "outputs": [],
   "source": [
    "#Remove empty rows from Silver Data\n",
    "data_temp2 = data_temp1[data_temp1.index>='2003-08-08']"
   ]
  },
  {
   "cell_type": "code",
   "execution_count": 8,
   "metadata": {},
   "outputs": [
    {
     "name": "stdout",
     "output_type": "stream",
     "text": [
      "              Open    High     Low   Close   Volume    Weekday  Yearday  \\\n",
      "Date                                                                      \n",
      "2003-08-08  352.30  357.19  351.68  356.30  17176.0     Friday    220.0   \n",
      "2003-08-10  355.80  355.80  355.21  355.27    352.0     Sunday    222.0   \n",
      "2003-08-11  355.80  361.78  355.17  361.57  18463.0     Monday    223.0   \n",
      "2003-08-12  361.60  361.71  357.36  358.48  20332.0    Tuesday    224.0   \n",
      "2003-08-13  357.92  363.60  354.95  361.35  20764.0  Wednesday    225.0   \n",
      "\n",
      "            Daily_return  Log_daily_Return  Open_XAG  ...  Volume_XAG  \\\n",
      "Date                                                  ...               \n",
      "2003-08-08      1.184222          0.011773     4.966  ...      6015.0   \n",
      "2003-08-10     -0.289082         -0.002895     4.925  ...        33.0   \n",
      "2003-08-11      1.773299          0.017578     4.915  ...      2142.0   \n",
      "2003-08-12     -0.854606         -0.008583     4.925  ...      2281.0   \n",
      "2003-08-13      0.800603          0.007974     4.741  ...      2746.0   \n",
      "\n",
      "            Daily_return_XAG  Log_daily_Return_XAG  Open_EUR  High_EUR  \\\n",
      "Date                                                                     \n",
      "2003-08-08               NaN                   NaN   1.13632   1.13774   \n",
      "2003-08-10         -0.593776             -0.005955       NaN       NaN   \n",
      "2003-08-11          1.174047              0.011672   1.12882   1.13788   \n",
      "2003-08-12         -2.992671             -0.030384   1.13535   1.13709   \n",
      "2003-08-13          2.812172              0.027734   1.12724   1.13302   \n",
      "\n",
      "            Low_EUR  Close_EUR  Volume_EUR  Daily_return_EUR  \\\n",
      "Date                                                           \n",
      "2003-08-08  1.12861    1.13053   1182154.0         -0.516543   \n",
      "2003-08-10      NaN        NaN         NaN               NaN   \n",
      "2003-08-11  1.12615    1.13544   1335802.0          0.434310   \n",
      "2003-08-12  1.12659    1.12727   1344121.0         -0.719545   \n",
      "2003-08-13  1.12169    1.13093   1356096.0          0.324678   \n",
      "\n",
      "            Log_daily_Return_EUR  \n",
      "Date                              \n",
      "2003-08-08             -0.005179  \n",
      "2003-08-10                   NaN  \n",
      "2003-08-11              0.004334  \n",
      "2003-08-12             -0.007221  \n",
      "2003-08-13              0.003242  \n",
      "\n",
      "[5 rows x 23 columns]\n"
     ]
    }
   ],
   "source": [
    "print(data_temp2.head())"
   ]
  },
  {
   "cell_type": "code",
   "execution_count": 9,
   "metadata": {},
   "outputs": [],
   "source": [
    "#Fill na values (forward fill)\n",
    "data = data_temp2.fillna(method='ffill')"
   ]
  },
  {
   "cell_type": "code",
   "execution_count": 10,
   "metadata": {},
   "outputs": [
    {
     "name": "stdout",
     "output_type": "stream",
     "text": [
      "              Open    High     Low   Close   Volume    Weekday  Yearday  \\\n",
      "Date                                                                      \n",
      "2003-08-08  352.30  357.19  351.68  356.30  17176.0     Friday    220.0   \n",
      "2003-08-10  355.80  355.80  355.21  355.27    352.0     Sunday    222.0   \n",
      "2003-08-11  355.80  361.78  355.17  361.57  18463.0     Monday    223.0   \n",
      "2003-08-12  361.60  361.71  357.36  358.48  20332.0    Tuesday    224.0   \n",
      "2003-08-13  357.92  363.60  354.95  361.35  20764.0  Wednesday    225.0   \n",
      "\n",
      "            Daily_return  Log_daily_Return  Open_XAG  ...  Volume_XAG  \\\n",
      "Date                                                  ...               \n",
      "2003-08-08      1.184222          0.011773     4.966  ...      6015.0   \n",
      "2003-08-10     -0.289082         -0.002895     4.925  ...        33.0   \n",
      "2003-08-11      1.773299          0.017578     4.915  ...      2142.0   \n",
      "2003-08-12     -0.854606         -0.008583     4.925  ...      2281.0   \n",
      "2003-08-13      0.800603          0.007974     4.741  ...      2746.0   \n",
      "\n",
      "            Daily_return_XAG  Log_daily_Return_XAG  Open_EUR  High_EUR  \\\n",
      "Date                                                                     \n",
      "2003-08-08               NaN                   NaN   1.13632   1.13774   \n",
      "2003-08-10         -0.593776             -0.005955   1.13632   1.13774   \n",
      "2003-08-11          1.174047              0.011672   1.12882   1.13788   \n",
      "2003-08-12         -2.992671             -0.030384   1.13535   1.13709   \n",
      "2003-08-13          2.812172              0.027734   1.12724   1.13302   \n",
      "\n",
      "            Low_EUR  Close_EUR  Volume_EUR  Daily_return_EUR  \\\n",
      "Date                                                           \n",
      "2003-08-08  1.12861    1.13053   1182154.0         -0.516543   \n",
      "2003-08-10  1.12861    1.13053   1182154.0         -0.516543   \n",
      "2003-08-11  1.12615    1.13544   1335802.0          0.434310   \n",
      "2003-08-12  1.12659    1.12727   1344121.0         -0.719545   \n",
      "2003-08-13  1.12169    1.13093   1356096.0          0.324678   \n",
      "\n",
      "            Log_daily_Return_EUR  \n",
      "Date                              \n",
      "2003-08-08             -0.005179  \n",
      "2003-08-10             -0.005179  \n",
      "2003-08-11              0.004334  \n",
      "2003-08-12             -0.007221  \n",
      "2003-08-13              0.003242  \n",
      "\n",
      "[5 rows x 23 columns]\n"
     ]
    }
   ],
   "source": [
    "print(data.head())"
   ]
  },
  {
   "cell_type": "code",
   "execution_count": 11,
   "metadata": {},
   "outputs": [],
   "source": [
    "#Save data for analysis\n",
    "data.to_csv('data/Analysis/D1_XAUXAGEUR_Returns.csv')"
   ]
  }
 ],
 "metadata": {
  "kernelspec": {
   "display_name": "Python 3",
   "language": "python",
   "name": "python3"
  },
  "language_info": {
   "codemirror_mode": {
    "name": "ipython",
    "version": 3
   },
   "file_extension": ".py",
   "mimetype": "text/x-python",
   "name": "python",
   "nbconvert_exporter": "python",
   "pygments_lexer": "ipython3",
   "version": "3.6.8"
  }
 },
 "nbformat": 4,
 "nbformat_minor": 2
}
