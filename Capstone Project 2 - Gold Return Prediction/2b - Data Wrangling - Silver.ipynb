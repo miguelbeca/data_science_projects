{
 "cells": [
  {
   "cell_type": "code",
   "execution_count": 1,
   "metadata": {},
   "outputs": [],
   "source": [
    "import pandas as pd\n",
    "import numpy as np\n",
    "import datetime"
   ]
  },
  {
   "cell_type": "code",
   "execution_count": 2,
   "metadata": {},
   "outputs": [
    {
     "name": "stdout",
     "output_type": "stream",
     "text": [
      "           Date      1       2       3       4       5      6\n",
      "4815 2019-04-25  00:00  14.919  15.005  14.850  14.946  20115\n",
      "4816 2019-04-26  00:00  14.946  15.075  14.839  15.040  19974\n",
      "4817 2019-04-28  00:00  15.060  15.063  15.041  15.051    316\n",
      "4818 2019-04-29  00:00  15.045  15.056  14.859  14.919  14531\n",
      "4819 2019-04-30  00:00  14.920  15.003  14.806  14.940  18002\n"
     ]
    }
   ],
   "source": [
    "#Read data\n",
    "data = pd.read_csv('data/D1_XAGUSD.csv', parse_dates={'Date' : [0]},  header=None)\n",
    "print(data.tail())"
   ]
  },
  {
   "cell_type": "code",
   "execution_count": 3,
   "metadata": {},
   "outputs": [
    {
     "name": "stdout",
     "output_type": "stream",
     "text": [
      "<class 'pandas.core.frame.DataFrame'>\n",
      "RangeIndex: 4820 entries, 0 to 4819\n",
      "Data columns (total 7 columns):\n",
      "Date    4820 non-null datetime64[ns]\n",
      "1       4820 non-null object\n",
      "2       4820 non-null float64\n",
      "3       4820 non-null float64\n",
      "4       4820 non-null float64\n",
      "5       4820 non-null float64\n",
      "6       4820 non-null int64\n",
      "dtypes: datetime64[ns](1), float64(4), int64(1), object(1)\n",
      "memory usage: 263.7+ KB\n"
     ]
    }
   ],
   "source": [
    "data.info()"
   ]
  },
  {
   "cell_type": "code",
   "execution_count": 4,
   "metadata": {},
   "outputs": [
    {
     "name": "stdout",
     "output_type": "stream",
     "text": [
      "        Date      2      3      4      5     6\n",
      "0 2003-08-08  4.966  5.066  4.750  4.884  6015\n",
      "1 2003-08-10  4.925  4.964  4.786  4.855    33\n",
      "2 2003-08-11  4.915  5.039  4.752  4.912  2142\n",
      "3 2003-08-12  4.925  5.030  4.655  4.765  2281\n",
      "4 2003-08-13  4.741  5.084  4.646  4.899  2746\n"
     ]
    }
   ],
   "source": [
    "#Clean dataframe\n",
    "data.drop([1], axis=1, inplace=True)\n",
    "print(data.head()) "
   ]
  },
  {
   "cell_type": "code",
   "execution_count": 5,
   "metadata": {},
   "outputs": [
    {
     "name": "stdout",
     "output_type": "stream",
     "text": [
      "        Date  Open_XAG  High_XAG  Low_XAG  Close_XAG  Volume_XAG\n",
      "0 2003-08-08     4.966     5.066    4.750      4.884        6015\n",
      "1 2003-08-10     4.925     4.964    4.786      4.855          33\n",
      "2 2003-08-11     4.915     5.039    4.752      4.912        2142\n",
      "3 2003-08-12     4.925     5.030    4.655      4.765        2281\n",
      "4 2003-08-13     4.741     5.084    4.646      4.899        2746\n"
     ]
    }
   ],
   "source": [
    "data.columns = ['Date', 'Open_XAG', 'High_XAG', 'Low_XAG', 'Close_XAG', 'Volume_XAG'] \n",
    "print(data.head())"
   ]
  },
  {
   "cell_type": "code",
   "execution_count": 6,
   "metadata": {},
   "outputs": [
    {
     "name": "stdout",
     "output_type": "stream",
     "text": [
      "            Open_XAG  High_XAG  Low_XAG  Close_XAG  Volume_XAG\n",
      "Date                                                          \n",
      "2003-08-08     4.966     5.066    4.750      4.884        6015\n",
      "2003-08-10     4.925     4.964    4.786      4.855          33\n",
      "2003-08-11     4.915     5.039    4.752      4.912        2142\n",
      "2003-08-12     4.925     5.030    4.655      4.765        2281\n",
      "2003-08-13     4.741     5.084    4.646      4.899        2746\n"
     ]
    }
   ],
   "source": [
    "data.set_index('Date',inplace=True)\n",
    "print(data.head())"
   ]
  },
  {
   "cell_type": "code",
   "execution_count": 7,
   "metadata": {
    "scrolled": true
   },
   "outputs": [
    {
     "data": {
      "text/html": [
       "<div>\n",
       "<style scoped>\n",
       "    .dataframe tbody tr th:only-of-type {\n",
       "        vertical-align: middle;\n",
       "    }\n",
       "\n",
       "    .dataframe tbody tr th {\n",
       "        vertical-align: top;\n",
       "    }\n",
       "\n",
       "    .dataframe thead th {\n",
       "        text-align: right;\n",
       "    }\n",
       "</style>\n",
       "<table border=\"1\" class=\"dataframe\">\n",
       "  <thead>\n",
       "    <tr style=\"text-align: right;\">\n",
       "      <th></th>\n",
       "      <th>Open_XAG</th>\n",
       "      <th>High_XAG</th>\n",
       "      <th>Low_XAG</th>\n",
       "      <th>Close_XAG</th>\n",
       "      <th>Volume_XAG</th>\n",
       "    </tr>\n",
       "  </thead>\n",
       "  <tbody>\n",
       "    <tr>\n",
       "      <th>count</th>\n",
       "      <td>4820.000000</td>\n",
       "      <td>4820.000000</td>\n",
       "      <td>4820.000000</td>\n",
       "      <td>4820.000000</td>\n",
       "      <td>4820.00000</td>\n",
       "    </tr>\n",
       "    <tr>\n",
       "      <th>mean</th>\n",
       "      <td>17.022197</td>\n",
       "      <td>17.257865</td>\n",
       "      <td>16.755352</td>\n",
       "      <td>17.015561</td>\n",
       "      <td>17093.49668</td>\n",
       "    </tr>\n",
       "    <tr>\n",
       "      <th>std</th>\n",
       "      <td>7.903512</td>\n",
       "      <td>7.990641</td>\n",
       "      <td>7.802300</td>\n",
       "      <td>7.905884</td>\n",
       "      <td>16810.75733</td>\n",
       "    </tr>\n",
       "    <tr>\n",
       "      <th>min</th>\n",
       "      <td>4.685000</td>\n",
       "      <td>4.835000</td>\n",
       "      <td>4.532000</td>\n",
       "      <td>4.699000</td>\n",
       "      <td>2.00000</td>\n",
       "    </tr>\n",
       "    <tr>\n",
       "      <th>25%</th>\n",
       "      <td>12.749000</td>\n",
       "      <td>12.952750</td>\n",
       "      <td>12.440750</td>\n",
       "      <td>12.737000</td>\n",
       "      <td>4745.25000</td>\n",
       "    </tr>\n",
       "    <tr>\n",
       "      <th>50%</th>\n",
       "      <td>16.253000</td>\n",
       "      <td>16.416000</td>\n",
       "      <td>16.076000</td>\n",
       "      <td>16.243500</td>\n",
       "      <td>11327.00000</td>\n",
       "    </tr>\n",
       "    <tr>\n",
       "      <th>75%</th>\n",
       "      <td>19.355000</td>\n",
       "      <td>19.517250</td>\n",
       "      <td>19.074250</td>\n",
       "      <td>19.353250</td>\n",
       "      <td>25232.50000</td>\n",
       "    </tr>\n",
       "    <tr>\n",
       "      <th>max</th>\n",
       "      <td>48.284000</td>\n",
       "      <td>49.774000</td>\n",
       "      <td>47.481000</td>\n",
       "      <td>48.273000</td>\n",
       "      <td>111984.00000</td>\n",
       "    </tr>\n",
       "  </tbody>\n",
       "</table>\n",
       "</div>"
      ],
      "text/plain": [
       "          Open_XAG     High_XAG      Low_XAG    Close_XAG    Volume_XAG\n",
       "count  4820.000000  4820.000000  4820.000000  4820.000000    4820.00000\n",
       "mean     17.022197    17.257865    16.755352    17.015561   17093.49668\n",
       "std       7.903512     7.990641     7.802300     7.905884   16810.75733\n",
       "min       4.685000     4.835000     4.532000     4.699000       2.00000\n",
       "25%      12.749000    12.952750    12.440750    12.737000    4745.25000\n",
       "50%      16.253000    16.416000    16.076000    16.243500   11327.00000\n",
       "75%      19.355000    19.517250    19.074250    19.353250   25232.50000\n",
       "max      48.284000    49.774000    47.481000    48.273000  111984.00000"
      ]
     },
     "execution_count": 7,
     "metadata": {},
     "output_type": "execute_result"
    }
   ],
   "source": [
    "data.describe()"
   ]
  },
  {
   "cell_type": "code",
   "execution_count": 8,
   "metadata": {},
   "outputs": [
    {
     "name": "stdout",
     "output_type": "stream",
     "text": [
      "            Open_XAG  High_XAG  Low_XAG  Close_XAG  Volume_XAG Weekday_XAG  \\\n",
      "Date                                                                         \n",
      "2003-08-08     4.966     5.066    4.750      4.884        6015      Friday   \n",
      "2003-08-10     4.925     4.964    4.786      4.855          33      Sunday   \n",
      "2003-08-11     4.915     5.039    4.752      4.912        2142      Monday   \n",
      "2003-08-12     4.925     5.030    4.655      4.765        2281     Tuesday   \n",
      "2003-08-13     4.741     5.084    4.646      4.899        2746   Wednesday   \n",
      "\n",
      "            Yearday_XAG  \n",
      "Date                     \n",
      "2003-08-08          220  \n",
      "2003-08-10          222  \n",
      "2003-08-11          223  \n",
      "2003-08-12          224  \n",
      "2003-08-13          225  \n"
     ]
    }
   ],
   "source": [
    "#Add week day & Day of the year\n",
    "\n",
    "data['Weekday_XAG'] = data.index.day_name()\n",
    "data['Yearday_XAG'] = data.index.dayofyear\n",
    "\n",
    "print(data.head())"
   ]
  },
  {
   "cell_type": "code",
   "execution_count": 9,
   "metadata": {},
   "outputs": [],
   "source": [
    "#Save file for later analysis\n",
    "#Save minute data\n",
    "data.to_csv('data/Analysis/D1_XAGUSD_Clean.csv')"
   ]
  }
 ],
 "metadata": {
  "kernelspec": {
   "display_name": "Python 3",
   "language": "python",
   "name": "python3"
  },
  "language_info": {
   "codemirror_mode": {
    "name": "ipython",
    "version": 3
   },
   "file_extension": ".py",
   "mimetype": "text/x-python",
   "name": "python",
   "nbconvert_exporter": "python",
   "pygments_lexer": "ipython3",
   "version": "3.6.8"
  }
 },
 "nbformat": 4,
 "nbformat_minor": 2
}
