{
 "cells": [
  {
   "cell_type": "code",
   "execution_count": 22,
   "metadata": {},
   "outputs": [],
   "source": [
    "#Ref - https://towardsdatascience.com/building-a-logistic-regression-in-python-step-by-step-becd4d56c9c8\n",
    "import pandas as pd\n",
    "import numpy as np\n",
    "import datetime\n",
    "import talib as ta\n",
    "import matplotlib.pyplot as plt\n",
    "import seaborn as sns\n",
    "import talib as ta\n",
    "import warnings\n",
    "warnings.filterwarnings('ignore')"
   ]
  },
  {
   "cell_type": "code",
   "execution_count": 2,
   "metadata": {},
   "outputs": [],
   "source": [
    "#Read data\n",
    "data = pd.read_csv('data/analysis/D1_XAUUSD_Returns.csv', parse_dates=[0], index_col='Date')\n",
    "#print(data.head())"
   ]
  },
  {
   "cell_type": "code",
   "execution_count": 3,
   "metadata": {},
   "outputs": [],
   "source": [
    "#Date related features\n",
    "data['Week'] = data.index.week\n",
    "data['Day_Week'] = data.index.dayofweek\n",
    "data['daily_return'] = data.Close.pct_change().mul(100)\n",
    "data['day_week_sin'] = np.sin(data.Day_Week*(2.*np.pi/7))\n",
    "data['day_week_cos'] = np.cos(data.Day_Week*(2.*np.pi/7))\n",
    "data['week_sin'] = np.sin((data.Week-1)*(2.*np.pi/52))\n",
    "data['week_cos'] = np.cos((data.Week-1)*(2.*np.pi/52))\n",
    "data['yearday_sin'] = np.sin((data.Yearday)*(2.*np.pi/365.25))\n",
    "data['yearday_cos'] = np.cos((data.Yearday)*(2.*np.pi/365.25))\n",
    "#Simple Moving Average - 50 day\n",
    "data['SMA_50'] = ta.SMA(data.Close, timeperiod = 50)\n",
    "#Simple Moving Average - 200 day\n",
    "data['SMA_200'] = ta.SMA(data.Close, timeperiod = 200)\n",
    "# Exponential Moving Average - 9 day\n",
    "data['EMA_9'] = ta.EMA(data.Close, timeperiod = 9)\n",
    "# Exponential Moving Average - 21 day\n",
    "data['EMA_21'] = ta.EMA(data.Close, timeperiod = 21)\n",
    "# MACD\n",
    "data['macd'], data['macdsignal'], data['macdhist'] = ta.MACD(data.Close, fastperiod=12, slowperiod=200, signalperiod=9)\n",
    "# RSI\n",
    "data['RSI'] = ta.RSI(data.Close, timeperiod=14)\n",
    "#Define relative indicators\n",
    "data['SMA_Delta'] = (data['SMA_50'] - data['SMA_200']) / data['Close']\n",
    "#Define relative indicators\n",
    "data['EMA_Delta'] = (data['EMA_9'] - data['EMA_21']) / data['Close']"
   ]
  },
  {
   "cell_type": "code",
   "execution_count": 4,
   "metadata": {},
   "outputs": [
    {
     "name": "stdout",
     "output_type": "stream",
     "text": [
      "               Open     High      Low    Close  Volume   Weekday  Yearday  \\\n",
      "Date                                                                        \n",
      "2019-04-25  1274.63  1282.53  1273.31  1278.56   97134  Thursday      115   \n",
      "2019-04-26  1278.56  1288.61  1273.72  1285.69  107326    Friday      116   \n",
      "2019-04-28  1286.28  1286.62  1285.63  1285.80    1913    Sunday      118   \n",
      "2019-04-29  1285.79  1286.57  1277.99  1280.33   80222    Monday      119   \n",
      "2019-04-30  1280.32  1286.12  1279.84  1283.11  103615   Tuesday      120   \n",
      "\n",
      "            Daily_return  Log_daily_Return  Week  ...     SMA_50     SMA_200  \\\n",
      "Date                                              ...                          \n",
      "2019-04-25      0.308325          0.003079    17  ...  1295.9396  1260.27820   \n",
      "2019-04-26      0.557659          0.005561    17  ...  1295.0698  1260.74670   \n",
      "2019-04-28      0.008556          0.000086    17  ...  1294.3640  1261.19035   \n",
      "2019-04-29     -0.425416         -0.004263    18  ...  1293.6878  1261.58645   \n",
      "2019-04-30      0.217132          0.002169    18  ...  1293.4888  1262.02385   \n",
      "\n",
      "                  EMA_9       EMA_21      macd  macdsignal  macdhist  \\\n",
      "Date                                                                   \n",
      "2019-04-25  1278.448829  1285.274469  3.007698    8.169469 -5.161771   \n",
      "2019-04-26  1279.897063  1285.312244  3.743673    7.284309 -3.540636   \n",
      "2019-04-28  1281.077650  1285.356586  4.370322    6.701512 -2.331190   \n",
      "2019-04-29  1280.928120  1284.899623  4.101487    6.181507 -2.080020   \n",
      "2019-04-30  1281.364496  1284.736930  4.270027    5.799211 -1.529184   \n",
      "\n",
      "                  RSI  SMA_Delta  EMA_Delta  \n",
      "Date                                         \n",
      "2019-04-25  41.209393   0.027892  -0.005339  \n",
      "2019-04-26  48.267119   0.026696  -0.004212  \n",
      "2019-04-28  48.370097   0.025800  -0.003328  \n",
      "2019-04-29  43.710538   0.025073  -0.003102  \n",
      "2019-04-30  46.529716   0.024522  -0.002628  \n",
      "\n",
      "[5 rows x 28 columns]\n"
     ]
    }
   ],
   "source": [
    "print(data.tail())"
   ]
  },
  {
   "cell_type": "code",
   "execution_count": 5,
   "metadata": {},
   "outputs": [],
   "source": [
    "#Choosing target variable\n",
    "data['Large_return'] = np.where(data['daily_return']>=0.1, 1, 0)"
   ]
  },
  {
   "cell_type": "code",
   "execution_count": 6,
   "metadata": {},
   "outputs": [],
   "source": [
    "#Drop rows with nan values\n",
    "data.dropna(inplace=True)"
   ]
  },
  {
   "cell_type": "code",
   "execution_count": 7,
   "metadata": {},
   "outputs": [
    {
     "data": {
      "text/html": [
       "<div>\n",
       "<style scoped>\n",
       "    .dataframe tbody tr th:only-of-type {\n",
       "        vertical-align: middle;\n",
       "    }\n",
       "\n",
       "    .dataframe tbody tr th {\n",
       "        vertical-align: top;\n",
       "    }\n",
       "\n",
       "    .dataframe thead th {\n",
       "        text-align: right;\n",
       "    }\n",
       "</style>\n",
       "<table border=\"1\" class=\"dataframe\">\n",
       "  <thead>\n",
       "    <tr style=\"text-align: right;\">\n",
       "      <th></th>\n",
       "      <th>Volume</th>\n",
       "      <th>day_week_sin</th>\n",
       "      <th>day_week_cos</th>\n",
       "      <th>week_sin</th>\n",
       "      <th>week_cos</th>\n",
       "      <th>yearday_sin</th>\n",
       "      <th>yearday_cos</th>\n",
       "      <th>macdhist</th>\n",
       "      <th>RSI</th>\n",
       "      <th>SMA_Delta</th>\n",
       "      <th>EMA_Delta</th>\n",
       "    </tr>\n",
       "    <tr>\n",
       "      <th>Date</th>\n",
       "      <th></th>\n",
       "      <th></th>\n",
       "      <th></th>\n",
       "      <th></th>\n",
       "      <th></th>\n",
       "      <th></th>\n",
       "      <th></th>\n",
       "      <th></th>\n",
       "      <th></th>\n",
       "      <th></th>\n",
       "      <th></th>\n",
       "    </tr>\n",
       "  </thead>\n",
       "  <tbody>\n",
       "    <tr>\n",
       "      <th>2004-01-12</th>\n",
       "      <td>20736</td>\n",
       "      <td>0.000000</td>\n",
       "      <td>1.000000</td>\n",
       "      <td>0.239316</td>\n",
       "      <td>0.970942</td>\n",
       "      <td>0.204966</td>\n",
       "      <td>0.978769</td>\n",
       "      <td>2.239954</td>\n",
       "      <td>70.847411</td>\n",
       "      <td>0.071611</td>\n",
       "      <td>0.011534</td>\n",
       "    </tr>\n",
       "    <tr>\n",
       "      <th>2004-01-13</th>\n",
       "      <td>21473</td>\n",
       "      <td>0.781831</td>\n",
       "      <td>0.623490</td>\n",
       "      <td>0.239316</td>\n",
       "      <td>0.970942</td>\n",
       "      <td>0.221772</td>\n",
       "      <td>0.975099</td>\n",
       "      <td>1.835514</td>\n",
       "      <td>68.227339</td>\n",
       "      <td>0.072198</td>\n",
       "      <td>0.010996</td>\n",
       "    </tr>\n",
       "    <tr>\n",
       "      <th>2004-01-14</th>\n",
       "      <td>20415</td>\n",
       "      <td>0.974928</td>\n",
       "      <td>-0.222521</td>\n",
       "      <td>0.239316</td>\n",
       "      <td>0.970942</td>\n",
       "      <td>0.238513</td>\n",
       "      <td>0.971139</td>\n",
       "      <td>0.945729</td>\n",
       "      <td>57.107955</td>\n",
       "      <td>0.073547</td>\n",
       "      <td>0.009352</td>\n",
       "    </tr>\n",
       "    <tr>\n",
       "      <th>2004-01-15</th>\n",
       "      <td>22449</td>\n",
       "      <td>0.433884</td>\n",
       "      <td>-0.900969</td>\n",
       "      <td>0.239316</td>\n",
       "      <td>0.970942</td>\n",
       "      <td>0.255182</td>\n",
       "      <td>0.966893</td>\n",
       "      <td>-0.982156</td>\n",
       "      <td>39.857679</td>\n",
       "      <td>0.075568</td>\n",
       "      <td>0.005214</td>\n",
       "    </tr>\n",
       "    <tr>\n",
       "      <th>2004-01-16</th>\n",
       "      <td>19571</td>\n",
       "      <td>-0.433884</td>\n",
       "      <td>-0.900969</td>\n",
       "      <td>0.239316</td>\n",
       "      <td>0.970942</td>\n",
       "      <td>0.271777</td>\n",
       "      <td>0.962360</td>\n",
       "      <td>-2.539018</td>\n",
       "      <td>37.444023</td>\n",
       "      <td>0.076086</td>\n",
       "      <td>0.001362</td>\n",
       "    </tr>\n",
       "  </tbody>\n",
       "</table>\n",
       "</div>"
      ],
      "text/plain": [
       "            Volume  day_week_sin  day_week_cos  week_sin  week_cos  \\\n",
       "Date                                                                 \n",
       "2004-01-12   20736      0.000000      1.000000  0.239316  0.970942   \n",
       "2004-01-13   21473      0.781831      0.623490  0.239316  0.970942   \n",
       "2004-01-14   20415      0.974928     -0.222521  0.239316  0.970942   \n",
       "2004-01-15   22449      0.433884     -0.900969  0.239316  0.970942   \n",
       "2004-01-16   19571     -0.433884     -0.900969  0.239316  0.970942   \n",
       "\n",
       "            yearday_sin  yearday_cos  macdhist        RSI  SMA_Delta  \\\n",
       "Date                                                                   \n",
       "2004-01-12     0.204966     0.978769  2.239954  70.847411   0.071611   \n",
       "2004-01-13     0.221772     0.975099  1.835514  68.227339   0.072198   \n",
       "2004-01-14     0.238513     0.971139  0.945729  57.107955   0.073547   \n",
       "2004-01-15     0.255182     0.966893 -0.982156  39.857679   0.075568   \n",
       "2004-01-16     0.271777     0.962360 -2.539018  37.444023   0.076086   \n",
       "\n",
       "            EMA_Delta  \n",
       "Date                   \n",
       "2004-01-12   0.011534  \n",
       "2004-01-13   0.010996  \n",
       "2004-01-14   0.009352  \n",
       "2004-01-15   0.005214  \n",
       "2004-01-16   0.001362  "
      ]
     },
     "execution_count": 7,
     "metadata": {},
     "output_type": "execute_result"
    }
   ],
   "source": [
    "#Pick features\n",
    "features_list = ['Volume','day_week_sin','day_week_cos','week_sin','week_cos','yearday_sin','yearday_cos',\n",
    "                 'macdhist', 'RSI', 'SMA_Delta','EMA_Delta']\n",
    "features = data[features_list]\n",
    "features.head()"
   ]
  },
  {
   "cell_type": "code",
   "execution_count": 8,
   "metadata": {},
   "outputs": [
    {
     "name": "stdout",
     "output_type": "stream",
     "text": [
      "            Volume  day_week_sin  day_week_cos  week_sin  week_cos  \\\n",
      "Date                                                                 \n",
      "2019-04-24   97655      0.974928     -0.222521  0.935016 -0.354605   \n",
      "2019-04-25   97134      0.433884     -0.900969  0.935016 -0.354605   \n",
      "2019-04-26  107326     -0.433884     -0.900969  0.935016 -0.354605   \n",
      "2019-04-28    1913     -0.781831      0.623490  0.935016 -0.354605   \n",
      "2019-04-29   80222      0.000000      1.000000  0.885456 -0.464723   \n",
      "\n",
      "            yearday_sin  yearday_cos  macdhist        RSI  SMA_Delta  \\\n",
      "Date                                                                   \n",
      "2019-04-24     0.924803    -0.380447 -6.111534  36.796126   0.029050   \n",
      "2019-04-25     0.918121    -0.396299 -5.161771  41.209393   0.027892   \n",
      "2019-04-26     0.911169    -0.412034 -3.540636  48.267119   0.026696   \n",
      "2019-04-28     0.896456    -0.443132 -2.331190  48.370097   0.025800   \n",
      "2019-04-29     0.888701    -0.458487 -2.080020  43.710538   0.025073   \n",
      "\n",
      "            EMA_Delta  \n",
      "Date                   \n",
      "2019-04-24  -0.005904  \n",
      "2019-04-25  -0.005339  \n",
      "2019-04-26  -0.004212  \n",
      "2019-04-28  -0.003328  \n",
      "2019-04-29  -0.003102  \n",
      "Date\n",
      "2019-04-24    1.0\n",
      "2019-04-25    1.0\n",
      "2019-04-26    0.0\n",
      "2019-04-28    0.0\n",
      "2019-04-29    1.0\n",
      "Name: Large_return, dtype: float64\n"
     ]
    }
   ],
   "source": [
    "#Pick target variable \n",
    "target_unshifted = data['Large_return']\n",
    "#Add shift so we can predict target on time t=1 with features from time t\n",
    "target = target_unshifted.shift(-1)\n",
    "#Drop last value from features and target (Nan)\n",
    "features = features[:-1]\n",
    "target = target[:-1]\n",
    "print(features.tail())\n",
    "print(target.tail())"
   ]
  },
  {
   "cell_type": "code",
   "execution_count": 9,
   "metadata": {},
   "outputs": [
    {
     "data": {
      "text/plain": [
       "0.0    2607\n",
       "1.0    2164\n",
       "Name: Large_return, dtype: int64"
      ]
     },
     "execution_count": 9,
     "metadata": {},
     "output_type": "execute_result"
    }
   ],
   "source": [
    "target.value_counts()"
   ]
  },
  {
   "cell_type": "code",
   "execution_count": 10,
   "metadata": {},
   "outputs": [],
   "source": [
    "def split_train_test(data, train_ratio):\n",
    "    indices = np.arange(len(data))\n",
    "    train_set_size = int(len(data) * train_ratio)\n",
    "    train_indices = indices[:train_set_size]\n",
    "    test_indices = indices[train_set_size:]\n",
    "    return data.iloc[train_indices], data.iloc[test_indices]\n",
    "\n",
    "X_train_set, X_test_set = split_train_test(features, 0.8)"
   ]
  },
  {
   "cell_type": "code",
   "execution_count": 11,
   "metadata": {},
   "outputs": [
    {
     "name": "stdout",
     "output_type": "stream",
     "text": [
      "3816\n",
      "955\n",
      "Training Series: \n",
      "             Volume  day_week_sin  day_week_cos  week_sin  week_cos  \\\n",
      "Date                                                                 \n",
      "2004-01-12   20736      0.000000      1.000000  0.239316  0.970942   \n",
      "2004-01-13   21473      0.781831      0.623490  0.239316  0.970942   \n",
      "2004-01-14   20415      0.974928     -0.222521  0.239316  0.970942   \n",
      "2004-01-15   22449      0.433884     -0.900969  0.239316  0.970942   \n",
      "2004-01-16   19571     -0.433884     -0.900969  0.239316  0.970942   \n",
      "\n",
      "            yearday_sin  yearday_cos  macdhist        RSI  SMA_Delta  \\\n",
      "Date                                                                   \n",
      "2004-01-12     0.204966     0.978769  2.239954  70.847411   0.071611   \n",
      "2004-01-13     0.221772     0.975099  1.835514  68.227339   0.072198   \n",
      "2004-01-14     0.238513     0.971139  0.945729  57.107955   0.073547   \n",
      "2004-01-15     0.255182     0.966893 -0.982156  39.857679   0.075568   \n",
      "2004-01-16     0.271777     0.962360 -2.539018  37.444023   0.076086   \n",
      "\n",
      "            EMA_Delta  \n",
      "Date                   \n",
      "2004-01-12   0.011534  \n",
      "2004-01-13   0.010996  \n",
      "2004-01-14   0.009352  \n",
      "2004-01-15   0.005214  \n",
      "2004-01-16   0.001362   \n",
      "\n",
      "Training Series: \n",
      "             Volume  day_week_sin  day_week_cos  week_sin  week_cos  \\\n",
      "Date                                                                 \n",
      "2016-03-28  163054      0.000000      1.000000  0.992709  0.120537   \n",
      "2016-03-29  177431      0.781831      0.623490  0.992709  0.120537   \n",
      "2016-03-30  185024      0.974928     -0.222521  0.992709  0.120537   \n",
      "2016-03-31  191773      0.433884     -0.900969  0.992709  0.120537   \n",
      "2016-04-01  199015     -0.433884     -0.900969  0.992709  0.120537   \n",
      "\n",
      "            yearday_sin  yearday_cos   macdhist        RSI  SMA_Delta  \\\n",
      "Date                                                                    \n",
      "2016-03-28     0.998377     0.056952 -11.034913  45.548094   0.067394   \n",
      "2016-03-29     0.999209     0.039770  -8.917838  52.016394   0.067835   \n",
      "2016-03-30     0.999745     0.022576  -8.706344  47.492148   0.069732   \n",
      "2016-03-31     0.999986     0.005376  -7.804452  49.396645   0.070571   \n",
      "2016-04-01     0.999930    -0.011826  -8.211869  45.675771   0.072172   \n",
      "\n",
      "            EMA_Delta  \n",
      "Date                   \n",
      "2016-03-28  -0.003803  \n",
      "2016-03-29  -0.002765  \n",
      "2016-03-30  -0.003103  \n",
      "2016-03-31  -0.002825  \n",
      "2016-04-01  -0.003516   \n",
      "\n",
      "Testing Series: \n",
      "             Volume  day_week_sin  day_week_cos  week_sin      week_cos  \\\n",
      "Date                                                                     \n",
      "2016-04-03   11194     -0.781831      0.623490  0.992709  1.205367e-01   \n",
      "2016-04-04  178141      0.000000      1.000000  1.000000  6.123234e-17   \n",
      "2016-04-05  216759      0.781831      0.623490  1.000000  6.123234e-17   \n",
      "2016-04-06  189784      0.974928     -0.222521  1.000000  6.123234e-17   \n",
      "2016-04-07  221913      0.433884     -0.900969  1.000000  6.123234e-17   \n",
      "\n",
      "            yearday_sin  yearday_cos  macdhist        RSI  SMA_Delta  \\\n",
      "Date                                                                   \n",
      "2016-04-03     0.998932    -0.046215 -8.424911  45.291855   0.073051   \n",
      "2016-04-04     0.997989    -0.063391 -8.977970  43.369359   0.073910   \n",
      "2016-04-05     0.996751    -0.080549 -7.329286  50.183595   0.073469   \n",
      "2016-04-06     0.995218    -0.097683 -6.716044  47.937329   0.074342   \n",
      "2016-04-07     0.993390    -0.114788 -4.615459  53.276080   0.073800   \n",
      "\n",
      "            EMA_Delta  \n",
      "Date                   \n",
      "2016-04-03  -0.004037  \n",
      "2016-04-04  -0.004829  \n",
      "2016-04-05  -0.003848  \n",
      "2016-04-06  -0.003628  \n",
      "2016-04-07  -0.002168  \n",
      "Testing Series: \n",
      "             Volume  day_week_sin  day_week_cos  week_sin  week_cos  \\\n",
      "Date                                                                 \n",
      "2019-04-24   97655      0.974928     -0.222521  0.935016 -0.354605   \n",
      "2019-04-25   97134      0.433884     -0.900969  0.935016 -0.354605   \n",
      "2019-04-26  107326     -0.433884     -0.900969  0.935016 -0.354605   \n",
      "2019-04-28    1913     -0.781831      0.623490  0.935016 -0.354605   \n",
      "2019-04-29   80222      0.000000      1.000000  0.885456 -0.464723   \n",
      "\n",
      "            yearday_sin  yearday_cos  macdhist        RSI  SMA_Delta  \\\n",
      "Date                                                                   \n",
      "2019-04-24     0.924803    -0.380447 -6.111534  36.796126   0.029050   \n",
      "2019-04-25     0.918121    -0.396299 -5.161771  41.209393   0.027892   \n",
      "2019-04-26     0.911169    -0.412034 -3.540636  48.267119   0.026696   \n",
      "2019-04-28     0.896456    -0.443132 -2.331190  48.370097   0.025800   \n",
      "2019-04-29     0.888701    -0.458487 -2.080020  43.710538   0.025073   \n",
      "\n",
      "            EMA_Delta  \n",
      "Date                   \n",
      "2019-04-24  -0.005904  \n",
      "2019-04-25  -0.005339  \n",
      "2019-04-26  -0.004212  \n",
      "2019-04-28  -0.003328  \n",
      "2019-04-29  -0.003102  \n"
     ]
    }
   ],
   "source": [
    "print(len(X_train_set))\n",
    "print(len(X_test_set))\n",
    "print(\"Training Series:\", \"\\n\", X_train_set.head(), \"\\n\")\n",
    "print(\"Training Series:\", \"\\n\", X_train_set.tail(), \"\\n\")\n",
    "print(\"Testing Series:\", \"\\n\", X_test_set.head())\n",
    "print(\"Testing Series:\", \"\\n\", X_test_set.tail())"
   ]
  },
  {
   "cell_type": "code",
   "execution_count": 12,
   "metadata": {},
   "outputs": [],
   "source": [
    "y_train_set, y_test_set = split_train_test(target, 0.8)"
   ]
  },
  {
   "cell_type": "code",
   "execution_count": 13,
   "metadata": {},
   "outputs": [
    {
     "name": "stdout",
     "output_type": "stream",
     "text": [
      "3816\n",
      "955\n",
      "Training Series: \n",
      " Date\n",
      "2004-01-12    0.0\n",
      "2004-01-13    0.0\n",
      "2004-01-14    0.0\n",
      "2004-01-15    0.0\n",
      "2004-01-16    0.0\n",
      "Name: Large_return, dtype: float64 \n",
      "\n",
      "Training Series: \n",
      " Date\n",
      "2016-03-28    1.0\n",
      "2016-03-29    0.0\n",
      "2016-03-30    1.0\n",
      "2016-03-31    0.0\n",
      "2016-04-01    0.0\n",
      "Name: Large_return, dtype: float64 \n",
      "\n",
      "Testing Series: \n",
      " Date\n",
      "2016-04-03    0.0\n",
      "2016-04-04    1.0\n",
      "2016-04-05    0.0\n",
      "2016-04-06    1.0\n",
      "2016-04-07    0.0\n",
      "Name: Large_return, dtype: float64\n",
      "Testing Series: \n",
      " Date\n",
      "2019-04-24    1.0\n",
      "2019-04-25    1.0\n",
      "2019-04-26    0.0\n",
      "2019-04-28    0.0\n",
      "2019-04-29    1.0\n",
      "Name: Large_return, dtype: float64\n"
     ]
    }
   ],
   "source": [
    "print(len(y_train_set))\n",
    "print(len(y_test_set))\n",
    "print(\"Training Series:\", \"\\n\", y_train_set.head(), \"\\n\")\n",
    "print(\"Training Series:\", \"\\n\", y_train_set.tail(), \"\\n\")\n",
    "print(\"Testing Series:\", \"\\n\", y_test_set.head())\n",
    "print(\"Testing Series:\", \"\\n\", y_test_set.tail())"
   ]
  },
  {
   "cell_type": "code",
   "execution_count": 14,
   "metadata": {},
   "outputs": [
    {
     "name": "stdout",
     "output_type": "stream",
     "text": [
      "length of oversampled data is  4152\n",
      "Number of no subscription in oversampled data 2076\n",
      "Number of positive returns 2076\n",
      "Proportion of pos. returns data in oversampled data is  0.5\n",
      "Proportion of pos. returns data in oversampled data is  0.5\n"
     ]
    }
   ],
   "source": [
    "#SMOTE to balance data\n",
    "from imblearn.over_sampling import SMOTE\n",
    "os = SMOTE(random_state=0)\n",
    "\n",
    "columns = X_train_set.columns\n",
    "\n",
    "os_data_X,os_data_y=os.fit_sample(X_train_set, y_train_set.values.ravel())\n",
    "os_data_X = pd.DataFrame(data=os_data_X,columns=columns )\n",
    "os_data_y= pd.DataFrame(data=os_data_y,columns=['y'])\n",
    "# we can Check the numbers of our data\n",
    "print(\"length of oversampled data is \",len(os_data_X))\n",
    "print(\"Number of no subscription in oversampled data\",len(os_data_y[os_data_y['y']==0]))\n",
    "print(\"Number of positive returns\",len(os_data_y[os_data_y['y']==1]))\n",
    "print(\"Proportion of pos. returns data in oversampled data is \",len(os_data_y[os_data_y['y']==0])/len(os_data_X))\n",
    "print(\"Proportion of pos. returns data in oversampled data is \",len(os_data_y[os_data_y['y']==1])/len(os_data_X))"
   ]
  },
  {
   "cell_type": "code",
   "execution_count": 15,
   "metadata": {},
   "outputs": [
    {
     "name": "stdout",
     "output_type": "stream",
     "text": [
      "[ True  True  True  True  True  True  True  True  True  True  True]\n",
      "[1 1 1 1 1 1 1 1 1 1 1]\n"
     ]
    },
    {
     "name": "stderr",
     "output_type": "stream",
     "text": [
      "C:\\Users\\mbeca\\Continuum\\anaconda3\\envs\\keras\\lib\\site-packages\\sklearn\\linear_model\\logistic.py:433: FutureWarning: Default solver will be changed to 'lbfgs' in 0.22. Specify a solver to silence this warning.\n",
      "  FutureWarning)\n"
     ]
    }
   ],
   "source": [
    "from sklearn.feature_selection import RFE\n",
    "from sklearn.linear_model import LogisticRegression\n",
    "logreg = LogisticRegression()\n",
    "rfe = RFE(logreg, 12)\n",
    "rfe = rfe.fit(os_data_X, os_data_y.values.ravel())\n",
    "print(rfe.support_)\n",
    "print(rfe.ranking_)"
   ]
  },
  {
   "cell_type": "code",
   "execution_count": 16,
   "metadata": {},
   "outputs": [],
   "source": [
    "#Use SMOTE data\n",
    "\n",
    "X_train_set, X_test_set = split_train_test(os_data_X, 0.8)\n",
    "y_train_set, y_test_set = split_train_test(os_data_y, 0.8)"
   ]
  },
  {
   "cell_type": "code",
   "execution_count": 17,
   "metadata": {},
   "outputs": [
    {
     "name": "stdout",
     "output_type": "stream",
     "text": [
      "3321\n",
      "831\n",
      "Training Series: \n",
      "     Volume  day_week_sin  day_week_cos  week_sin  week_cos  yearday_sin  \\\n",
      "0  20736.0      0.000000      1.000000  0.239316  0.970942     0.204966   \n",
      "1  21473.0      0.781831      0.623490  0.239316  0.970942     0.221772   \n",
      "2  20415.0      0.974928     -0.222521  0.239316  0.970942     0.238513   \n",
      "3  22449.0      0.433884     -0.900969  0.239316  0.970942     0.255182   \n",
      "4  19571.0     -0.433884     -0.900969  0.239316  0.970942     0.271777   \n",
      "\n",
      "   yearday_cos  macdhist        RSI  SMA_Delta  EMA_Delta  \n",
      "0     0.978769  2.239954  70.847411   0.071611   0.011534  \n",
      "1     0.975099  1.835514  68.227339   0.072198   0.010996  \n",
      "2     0.971139  0.945729  57.107955   0.073547   0.009352  \n",
      "3     0.966893 -0.982156  39.857679   0.075568   0.005214  \n",
      "4     0.962360 -2.539018  37.444023   0.076086   0.001362   \n",
      "\n",
      "Training Series: \n",
      "        Volume  day_week_sin  day_week_cos  week_sin  week_cos  yearday_sin  \\\n",
      "3316  60928.0     -0.433884     -0.900969 -0.748511 -0.663123    -0.773138   \n",
      "3317  51414.0      0.000000      1.000000 -0.822984 -0.568065    -0.804826   \n",
      "3318  71423.0      0.781831      0.623490 -0.822984 -0.568065    -0.814916   \n",
      "3319  54018.0      0.974928     -0.222521 -0.822984 -0.568065    -0.824765   \n",
      "3320  76730.0      0.433884     -0.900969 -0.822984 -0.568065    -0.834370   \n",
      "\n",
      "      yearday_cos  macdhist        RSI  SMA_Delta  EMA_Delta  \n",
      "3316    -0.634237 -5.476103  35.656083   0.010148  -0.004503  \n",
      "3317    -0.593511 -6.460425  33.291877   0.009289  -0.005513  \n",
      "3318    -0.579579 -6.338537  37.915757   0.008485  -0.005700  \n",
      "3319    -0.565476 -5.762934  40.100704   0.007797  -0.005534  \n",
      "3320    -0.551205 -4.363284  46.161899   0.006979  -0.004697   \n",
      "\n",
      "Testing Series: \n",
      "        Volume  day_week_sin  day_week_cos  week_sin  week_cos  yearday_sin  \\\n",
      "3321  50190.0     -0.433884     -0.900969 -0.822984 -0.568065    -0.843728   \n",
      "3322   1451.0     -0.781831      0.623490 -0.822984 -0.568065    -0.861693   \n",
      "3323  27969.0      0.000000      1.000000 -0.885456 -0.464723    -0.870294   \n",
      "3324  79042.0      0.781831      0.623490 -0.885456 -0.464723    -0.878637   \n",
      "3325  71392.0      0.974928     -0.222521 -0.885456 -0.464723    -0.886721   \n",
      "\n",
      "      yearday_cos  macdhist        RSI  SMA_Delta  EMA_Delta  \n",
      "3321    -0.536771 -3.685463  43.706076   0.006205  -0.004344  \n",
      "3322    -0.507430 -3.107892  43.630328   0.005376  -0.004008  \n",
      "3323    -0.492533 -2.635577  43.424022   0.004623  -0.003715  \n",
      "3324    -0.477489 -4.472958  32.012867   0.003701  -0.005175  \n",
      "3325    -0.462305 -5.263602  34.280740   0.002851  -0.005884  \n",
      "Testing Series: \n",
      "             Volume  day_week_sin  day_week_cos  week_sin  week_cos  \\\n",
      "4147  46560.707247      0.012958      0.993760 -0.903427  0.352694   \n",
      "4148   1440.597224     -0.781831      0.623490 -0.785995  0.354007   \n",
      "4149   1510.282011     -0.781831      0.623490  0.780197  0.372806   \n",
      "4150  50072.983671      0.974928     -0.222521 -0.719156  0.337369   \n",
      "4151   5067.808723     -0.781831      0.623490 -0.259294  0.505957   \n",
      "\n",
      "      yearday_sin  yearday_cos   macdhist        RSI  SMA_Delta  EMA_Delta  \n",
      "4147    -0.890729     0.382926  -2.293637  48.268725   0.048474  -0.000214  \n",
      "4148    -0.740839     0.425589  -4.663739  43.345683  -0.036692   0.000632  \n",
      "4149     0.803618     0.321624 -10.614964  39.353486   0.025484  -0.010831  \n",
      "4150    -0.702190     0.373502   7.430742  60.041849  -0.024089   0.016172  \n",
      "4151    -0.246508     0.543193   4.014039  50.533199  -0.005448   0.004391  \n"
     ]
    }
   ],
   "source": [
    "print(len(X_train_set))\n",
    "print(len(X_test_set))\n",
    "print(\"Training Series:\", \"\\n\", X_train_set.head(), \"\\n\")\n",
    "print(\"Training Series:\", \"\\n\", X_train_set.tail(), \"\\n\")\n",
    "print(\"Testing Series:\", \"\\n\", X_test_set.head())\n",
    "print(\"Testing Series:\", \"\\n\", X_test_set.tail())"
   ]
  },
  {
   "cell_type": "code",
   "execution_count": 18,
   "metadata": {},
   "outputs": [
    {
     "name": "stdout",
     "output_type": "stream",
     "text": [
      "3321\n",
      "831\n",
      "Training Series: \n",
      "      y\n",
      "0  0.0\n",
      "1  0.0\n",
      "2  0.0\n",
      "3  0.0\n",
      "4  0.0 \n",
      "\n",
      "Training Series: \n",
      "         y\n",
      "3316  0.0\n",
      "3317  1.0\n",
      "3318  1.0\n",
      "3319  1.0\n",
      "3320  0.0 \n",
      "\n",
      "Testing Series: \n",
      "         y\n",
      "3321  0.0\n",
      "3322  0.0\n",
      "3323  0.0\n",
      "3324  1.0\n",
      "3325  0.0\n",
      "Testing Series: \n",
      "         y\n",
      "4147  1.0\n",
      "4148  1.0\n",
      "4149  1.0\n",
      "4150  1.0\n",
      "4151  1.0\n"
     ]
    }
   ],
   "source": [
    "print(len(y_train_set))\n",
    "print(len(y_test_set))\n",
    "print(\"Training Series:\", \"\\n\", y_train_set.head(), \"\\n\")\n",
    "print(\"Training Series:\", \"\\n\", y_train_set.tail(), \"\\n\")\n",
    "print(\"Testing Series:\", \"\\n\", y_test_set.head())\n",
    "print(\"Testing Series:\", \"\\n\", y_test_set.tail())"
   ]
  },
  {
   "cell_type": "code",
   "execution_count": 23,
   "metadata": {},
   "outputs": [
    {
     "name": "stdout",
     "output_type": "stream",
     "text": [
      "Tuned Logistic Regression Parameters: {'C': 268.2695795279727}\n",
      "Best score is 0.5408009635651913\n",
      "Accuracy of logistic regression classifier on test set: 0.36\n"
     ]
    }
   ],
   "source": [
    "#Datacamp example\n",
    "from sklearn.model_selection import GridSearchCV\n",
    "\n",
    "# Setup the hyperparameter grid\n",
    "c_space = np.logspace(-5, 8, 15)\n",
    "param_grid = {'C': c_space}\n",
    "\n",
    "logreg_cv = GridSearchCV(logreg, param_grid, cv=5)\n",
    "\n",
    "#model = LogisticRegression(solver='lbfgs', max_iter=100) \n",
    "logreg_cv.fit(X_train_set, y_train_set.values.ravel())\n",
    "\n",
    "# Print the tuned parameters and score\n",
    "print(\"Tuned Logistic Regression Parameters: {}\".format(logreg_cv.best_params_)) \n",
    "print(\"Best score is {}\".format(logreg_cv.best_score_))\n",
    "\n",
    "\n",
    "y_model = logreg_cv.predict(X_test_set)\n",
    "print('Accuracy of logistic regression classifier on test set: {:.2f}'.format(logreg_cv.score(X_test_set, y_test_set)))"
   ]
  },
  {
   "cell_type": "code",
   "execution_count": 20,
   "metadata": {},
   "outputs": [
    {
     "name": "stdout",
     "output_type": "stream",
     "text": [
      "[[301   0]\n",
      " [530   0]]\n",
      "              precision    recall  f1-score   support\n",
      "\n",
      "         0.0       0.36      1.00      0.53       301\n",
      "         1.0       0.00      0.00      0.00       530\n",
      "\n",
      "   micro avg       0.36      0.36      0.36       831\n",
      "   macro avg       0.18      0.50      0.27       831\n",
      "weighted avg       0.13      0.36      0.19       831\n",
      "\n"
     ]
    },
    {
     "name": "stderr",
     "output_type": "stream",
     "text": [
      "C:\\Users\\mbeca\\Continuum\\anaconda3\\envs\\keras\\lib\\site-packages\\sklearn\\metrics\\classification.py:1143: UndefinedMetricWarning: Precision and F-score are ill-defined and being set to 0.0 in labels with no predicted samples.\n",
      "  'precision', 'predicted', average, warn_for)\n",
      "C:\\Users\\mbeca\\Continuum\\anaconda3\\envs\\keras\\lib\\site-packages\\sklearn\\metrics\\classification.py:1143: UndefinedMetricWarning: Precision and F-score are ill-defined and being set to 0.0 in labels with no predicted samples.\n",
      "  'precision', 'predicted', average, warn_for)\n",
      "C:\\Users\\mbeca\\Continuum\\anaconda3\\envs\\keras\\lib\\site-packages\\sklearn\\metrics\\classification.py:1143: UndefinedMetricWarning: Precision and F-score are ill-defined and being set to 0.0 in labels with no predicted samples.\n",
      "  'precision', 'predicted', average, warn_for)\n"
     ]
    }
   ],
   "source": [
    "from sklearn.metrics import confusion_matrix\n",
    "from sklearn.metrics import classification_report\n",
    "confusion_matrix = confusion_matrix(y_test_set, y_model)\n",
    "print(confusion_matrix)\n",
    "print(classification_report(y_test_set, y_model))"
   ]
  },
  {
   "cell_type": "code",
   "execution_count": 21,
   "metadata": {},
   "outputs": [
    {
     "data": {
      "image/png": "[encoded data removed]",
      "text/plain": [
       "<Figure size 432x288 with 1 Axes>"
      ]
     },
     "metadata": {
      "needs_background": "light"
     },
     "output_type": "display_data"
    }
   ],
   "source": [
    "from sklearn.metrics import confusion_matrix\n",
    "mat = confusion_matrix(y_model, y_test_set)\n",
    "sns.heatmap(mat.T, square=True, annot=True, fmt='d', cbar=False)\n",
    "plt.xlabel('true label')\n",
    "plt.ylabel('predicted label');"
   ]
  },
  {
   "cell_type": "code",
   "execution_count": null,
   "metadata": {},
   "outputs": [],
   "source": []
  },
  {
   "cell_type": "code",
   "execution_count": null,
   "metadata": {},
   "outputs": [],
   "source": []
  }
 ],
 "metadata": {
  "kernelspec": {
   "display_name": "Python 3",
   "language": "python",
   "name": "python3"
  },
  "language_info": {
   "codemirror_mode": {
    "name": "ipython",
    "version": 3
   },
   "file_extension": ".py",
   "mimetype": "text/x-python",
   "name": "python",
   "nbconvert_exporter": "python",
   "pygments_lexer": "ipython3",
   "version": "3.6.8"
  }
 },
 "nbformat": 4,
 "nbformat_minor": 2
}
