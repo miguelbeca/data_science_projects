{
 "cells": [
  {
   "cell_type": "code",
   "execution_count": 1,
   "metadata": {},
   "outputs": [],
   "source": [
    "import pandas as pd\n",
    "import numpy as np\n",
    "import datetime"
   ]
  },
  {
   "cell_type": "code",
   "execution_count": 2,
   "metadata": {},
   "outputs": [
    {
     "name": "stdout",
     "output_type": "stream",
     "text": [
      "           Date      1        2        3        4        5       6\n",
      "4998 2019-04-25  00:00  1.11534  1.11623  1.11178  1.11353  349256\n",
      "4999 2019-04-26  00:00  1.11353  1.11739  1.11111  1.11429  343555\n",
      "5000 2019-04-28  00:00  1.11441  1.11516  1.11441  1.11494    8223\n",
      "5001 2019-04-29  00:00  1.11494  1.11869  1.11450  1.11848  288517\n",
      "5002 2019-04-30  00:00  1.11847  1.12290  1.11757  1.12157  324044\n"
     ]
    }
   ],
   "source": [
    "#Read data\n",
    "data = pd.read_csv('data/D1_EURUSD.csv', parse_dates={'Date' : [0]},  header=None)\n",
    "print(data.tail())"
   ]
  },
  {
   "cell_type": "code",
   "execution_count": 3,
   "metadata": {},
   "outputs": [
    {
     "name": "stdout",
     "output_type": "stream",
     "text": [
      "<class 'pandas.core.frame.DataFrame'>\n",
      "RangeIndex: 5003 entries, 0 to 5002\n",
      "Data columns (total 7 columns):\n",
      "Date    5003 non-null datetime64[ns]\n",
      "1       5003 non-null object\n",
      "2       5003 non-null float64\n",
      "3       5003 non-null float64\n",
      "4       5003 non-null float64\n",
      "5       5003 non-null float64\n",
      "6       5003 non-null int64\n",
      "dtypes: datetime64[ns](1), float64(4), int64(1), object(1)\n",
      "memory usage: 273.7+ KB\n"
     ]
    }
   ],
   "source": [
    "data.info()"
   ]
  },
  {
   "cell_type": "code",
   "execution_count": 4,
   "metadata": {},
   "outputs": [
    {
     "name": "stdout",
     "output_type": "stream",
     "text": [
      "        Date        2        3        4        5        6\n",
      "0 2003-05-05  1.12161  1.13009  1.12014  1.12924  1279436\n",
      "1 2003-05-06  1.12921  1.14506  1.12723  1.14234  1284882\n",
      "2 2003-05-07  1.14218  1.14323  1.13265  1.13494  1275988\n",
      "3 2003-05-08  1.13507  1.15077  1.13006  1.14820  1269876\n",
      "4 2003-05-09  1.14831  1.15366  1.14346  1.14877  1192012\n"
     ]
    }
   ],
   "source": [
    "#Clean dataframe\n",
    "data.drop([1], axis=1, inplace=True)\n",
    "print(data.head()) "
   ]
  },
  {
   "cell_type": "code",
   "execution_count": 5,
   "metadata": {},
   "outputs": [
    {
     "name": "stdout",
     "output_type": "stream",
     "text": [
      "        Date     Open     High      Low    Close   Volume\n",
      "0 2003-05-05  1.12161  1.13009  1.12014  1.12924  1279436\n",
      "1 2003-05-06  1.12921  1.14506  1.12723  1.14234  1284882\n",
      "2 2003-05-07  1.14218  1.14323  1.13265  1.13494  1275988\n",
      "3 2003-05-08  1.13507  1.15077  1.13006  1.14820  1269876\n",
      "4 2003-05-09  1.14831  1.15366  1.14346  1.14877  1192012\n"
     ]
    }
   ],
   "source": [
    "data.columns = ['Date', 'Open', 'High', 'Low', 'Close', 'Volume'] \n",
    "print(data.head())"
   ]
  },
  {
   "cell_type": "code",
   "execution_count": 6,
   "metadata": {},
   "outputs": [
    {
     "name": "stdout",
     "output_type": "stream",
     "text": [
      "               Open     High      Low    Close   Volume\n",
      "Date                                                   \n",
      "2003-05-05  1.12161  1.13009  1.12014  1.12924  1279436\n",
      "2003-05-06  1.12921  1.14506  1.12723  1.14234  1284882\n",
      "2003-05-07  1.14218  1.14323  1.13265  1.13494  1275988\n",
      "2003-05-08  1.13507  1.15077  1.13006  1.14820  1269876\n",
      "2003-05-09  1.14831  1.15366  1.14346  1.14877  1192012\n"
     ]
    }
   ],
   "source": [
    "data.set_index('Date',inplace=True)\n",
    "print(data.head())"
   ]
  },
  {
   "cell_type": "code",
   "execution_count": 7,
   "metadata": {
    "scrolled": true
   },
   "outputs": [
    {
     "data": {
      "text/html": [
       "<div>\n",
       "<style scoped>\n",
       "    .dataframe tbody tr th:only-of-type {\n",
       "        vertical-align: middle;\n",
       "    }\n",
       "\n",
       "    .dataframe tbody tr th {\n",
       "        vertical-align: top;\n",
       "    }\n",
       "\n",
       "    .dataframe thead th {\n",
       "        text-align: right;\n",
       "    }\n",
       "</style>\n",
       "<table border=\"1\" class=\"dataframe\">\n",
       "  <thead>\n",
       "    <tr style=\"text-align: right;\">\n",
       "      <th></th>\n",
       "      <th>Open</th>\n",
       "      <th>High</th>\n",
       "      <th>Low</th>\n",
       "      <th>Close</th>\n",
       "      <th>Volume</th>\n",
       "    </tr>\n",
       "  </thead>\n",
       "  <tbody>\n",
       "    <tr>\n",
       "      <th>count</th>\n",
       "      <td>5003.000000</td>\n",
       "      <td>5003.000000</td>\n",
       "      <td>5003.000000</td>\n",
       "      <td>5003.000000</td>\n",
       "      <td>5.003000e+03</td>\n",
       "    </tr>\n",
       "    <tr>\n",
       "      <th>mean</th>\n",
       "      <td>1.270150</td>\n",
       "      <td>1.275159</td>\n",
       "      <td>1.265265</td>\n",
       "      <td>1.270202</td>\n",
       "      <td>5.073911e+05</td>\n",
       "    </tr>\n",
       "    <tr>\n",
       "      <th>std</th>\n",
       "      <td>0.119472</td>\n",
       "      <td>0.120025</td>\n",
       "      <td>0.118771</td>\n",
       "      <td>0.119443</td>\n",
       "      <td>5.529526e+05</td>\n",
       "    </tr>\n",
       "    <tr>\n",
       "      <th>min</th>\n",
       "      <td>1.039070</td>\n",
       "      <td>1.041780</td>\n",
       "      <td>1.034030</td>\n",
       "      <td>1.039060</td>\n",
       "      <td>3.540000e+02</td>\n",
       "    </tr>\n",
       "    <tr>\n",
       "      <th>25%</th>\n",
       "      <td>1.174105</td>\n",
       "      <td>1.178050</td>\n",
       "      <td>1.169075</td>\n",
       "      <td>1.174230</td>\n",
       "      <td>1.179370e+05</td>\n",
       "    </tr>\n",
       "    <tr>\n",
       "      <th>50%</th>\n",
       "      <td>1.274620</td>\n",
       "      <td>1.279900</td>\n",
       "      <td>1.269180</td>\n",
       "      <td>1.274500</td>\n",
       "      <td>2.292350e+05</td>\n",
       "    </tr>\n",
       "    <tr>\n",
       "      <th>75%</th>\n",
       "      <td>1.352730</td>\n",
       "      <td>1.357045</td>\n",
       "      <td>1.347980</td>\n",
       "      <td>1.352560</td>\n",
       "      <td>8.552760e+05</td>\n",
       "    </tr>\n",
       "    <tr>\n",
       "      <th>max</th>\n",
       "      <td>1.597200</td>\n",
       "      <td>1.603890</td>\n",
       "      <td>1.589540</td>\n",
       "      <td>1.597210</td>\n",
       "      <td>2.704618e+06</td>\n",
       "    </tr>\n",
       "  </tbody>\n",
       "</table>\n",
       "</div>"
      ],
      "text/plain": [
       "              Open         High          Low        Close        Volume\n",
       "count  5003.000000  5003.000000  5003.000000  5003.000000  5.003000e+03\n",
       "mean      1.270150     1.275159     1.265265     1.270202  5.073911e+05\n",
       "std       0.119472     0.120025     0.118771     0.119443  5.529526e+05\n",
       "min       1.039070     1.041780     1.034030     1.039060  3.540000e+02\n",
       "25%       1.174105     1.178050     1.169075     1.174230  1.179370e+05\n",
       "50%       1.274620     1.279900     1.269180     1.274500  2.292350e+05\n",
       "75%       1.352730     1.357045     1.347980     1.352560  8.552760e+05\n",
       "max       1.597200     1.603890     1.589540     1.597210  2.704618e+06"
      ]
     },
     "execution_count": 7,
     "metadata": {},
     "output_type": "execute_result"
    }
   ],
   "source": [
    "data.describe()"
   ]
  },
  {
   "cell_type": "code",
   "execution_count": 8,
   "metadata": {},
   "outputs": [
    {
     "name": "stdout",
     "output_type": "stream",
     "text": [
      "               Open     High      Low    Close   Volume    Weekday  Yearday\n",
      "Date                                                                       \n",
      "2003-05-05  1.12161  1.13009  1.12014  1.12924  1279436     Monday      125\n",
      "2003-05-06  1.12921  1.14506  1.12723  1.14234  1284882    Tuesday      126\n",
      "2003-05-07  1.14218  1.14323  1.13265  1.13494  1275988  Wednesday      127\n",
      "2003-05-08  1.13507  1.15077  1.13006  1.14820  1269876   Thursday      128\n",
      "2003-05-09  1.14831  1.15366  1.14346  1.14877  1192012     Friday      129\n"
     ]
    }
   ],
   "source": [
    "#Add week day & Day of the year\n",
    "\n",
    "data['Weekday'] = data.index.day_name()\n",
    "data['Yearday'] = data.index.dayofyear\n",
    "\n",
    "print(data.head())"
   ]
  },
  {
   "cell_type": "code",
   "execution_count": 9,
   "metadata": {},
   "outputs": [],
   "source": [
    "#Save file for later analysis\n",
    "#Save minute data\n",
    "data.to_csv('data/Analysis/D1_EURUSD_Clean.csv')"
   ]
  }
 ],
 "metadata": {
  "kernelspec": {
   "display_name": "Python 3",
   "language": "python",
   "name": "python3"
  },
  "language_info": {
   "codemirror_mode": {
    "name": "ipython",
    "version": 3
   },
   "file_extension": ".py",
   "mimetype": "text/x-python",
   "name": "python",
   "nbconvert_exporter": "python",
   "pygments_lexer": "ipython3",
   "version": "3.6.8"
  }
 },
 "nbformat": 4,
 "nbformat_minor": 2
}
