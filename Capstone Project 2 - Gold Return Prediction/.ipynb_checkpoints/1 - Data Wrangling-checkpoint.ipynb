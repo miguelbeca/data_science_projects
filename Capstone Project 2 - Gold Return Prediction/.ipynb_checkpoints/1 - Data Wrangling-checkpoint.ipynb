{
 "cells": [
  {
   "cell_type": "code",
   "execution_count": 1,
   "metadata": {},
   "outputs": [],
   "source": [
    "import pandas as pd\n",
    "import numpy as np\n",
    "import datetime"
   ]
  },
  {
   "cell_type": "code",
   "execution_count": 2,
   "metadata": {},
   "outputs": [
    {
     "name": "stdout",
     "output_type": "stream",
     "text": [
      "           Date      1        2        3        4        5       6\n",
      "4956 2019-04-03  00:00  1291.70  1294.49  1288.34  1291.76   94534\n",
      "4957 2019-04-04  00:00  1291.76  1294.34  1280.85  1292.10   77631\n",
      "4958 2019-04-05  00:00  1292.10  1293.15  1284.33  1291.18  102223\n",
      "4959 2019-04-07  00:00  1291.31  1293.63  1291.20  1291.67    2133\n",
      "4960 2019-04-08  00:00  1291.73  1303.65  1291.58  1297.94   73029\n"
     ]
    }
   ],
   "source": [
    "#Read data\n",
    "data = pd.read_csv('data/D1_XAUUSD.csv', parse_dates={'Date' : [0]},  header=None)\n",
    "print(data.tail())"
   ]
  },
  {
   "cell_type": "code",
   "execution_count": 3,
   "metadata": {},
   "outputs": [
    {
     "name": "stdout",
     "output_type": "stream",
     "text": [
      "<class 'pandas.core.frame.DataFrame'>\n",
      "RangeIndex: 4961 entries, 0 to 4960\n",
      "Data columns (total 7 columns):\n",
      "Date    4961 non-null datetime64[ns]\n",
      "1       4961 non-null object\n",
      "2       4961 non-null float64\n",
      "3       4961 non-null float64\n",
      "4       4961 non-null float64\n",
      "5       4961 non-null float64\n",
      "6       4961 non-null int64\n",
      "dtypes: datetime64[ns](1), float64(4), int64(1), object(1)\n",
      "memory usage: 271.4+ KB\n"
     ]
    }
   ],
   "source": [
    "data.info()\n"
   ]
  },
  {
   "cell_type": "code",
   "execution_count": 4,
   "metadata": {},
   "outputs": [
    {
     "name": "stdout",
     "output_type": "stream",
     "text": [
      "        Date       2       3       4       5      6\n",
      "0 2003-05-05  340.35  342.59  339.73  341.31  11948\n",
      "1 2003-05-06  341.53  344.21  340.28  343.28  12161\n",
      "2 2003-05-07  343.45  344.19  339.00  341.23  11588\n",
      "3 2003-05-08  341.28  348.13  339.96  347.38  12108\n",
      "4 2003-05-09  347.33  348.58  345.82  347.92  11539\n"
     ]
    }
   ],
   "source": [
    "#Clean dataframe\n",
    "data.drop([1], axis=1, inplace=True)\n",
    "print(data.head()) "
   ]
  },
  {
   "cell_type": "code",
   "execution_count": 5,
   "metadata": {},
   "outputs": [
    {
     "name": "stdout",
     "output_type": "stream",
     "text": [
      "        Date    Open    High     Low   Close  Volume\n",
      "0 2003-05-05  340.35  342.59  339.73  341.31   11948\n",
      "1 2003-05-06  341.53  344.21  340.28  343.28   12161\n",
      "2 2003-05-07  343.45  344.19  339.00  341.23   11588\n",
      "3 2003-05-08  341.28  348.13  339.96  347.38   12108\n",
      "4 2003-05-09  347.33  348.58  345.82  347.92   11539\n"
     ]
    }
   ],
   "source": [
    "data.columns = ['Date', 'Open', 'High', 'Low', 'Close', 'Volume'] \n",
    "print(data.head())"
   ]
  },
  {
   "cell_type": "code",
   "execution_count": 6,
   "metadata": {},
   "outputs": [
    {
     "name": "stdout",
     "output_type": "stream",
     "text": [
      "              Open    High     Low   Close  Volume\n",
      "Date                                              \n",
      "2003-05-05  340.35  342.59  339.73  341.31   11948\n",
      "2003-05-06  341.53  344.21  340.28  343.28   12161\n",
      "2003-05-07  343.45  344.19  339.00  341.23   11588\n",
      "2003-05-08  341.28  348.13  339.96  347.38   12108\n",
      "2003-05-09  347.33  348.58  345.82  347.92   11539\n"
     ]
    }
   ],
   "source": [
    "data.set_index('Date',inplace=True)\n",
    "print(data.head())"
   ]
  },
  {
   "cell_type": "code",
   "execution_count": 7,
   "metadata": {},
   "outputs": [
    {
     "name": "stdout",
     "output_type": "stream",
     "text": [
      "<class 'pandas.core.frame.DataFrame'>\n",
      "DatetimeIndex: 4961 entries, 2003-05-05 to 2019-04-08\n",
      "Data columns (total 5 columns):\n",
      "Open      4961 non-null float64\n",
      "High      4961 non-null float64\n",
      "Low       4961 non-null float64\n",
      "Close     4961 non-null float64\n",
      "Volume    4961 non-null int64\n",
      "dtypes: float64(4), int64(1)\n",
      "memory usage: 232.5 KB\n"
     ]
    }
   ],
   "source": [
    "data.info()"
   ]
  },
  {
   "cell_type": "code",
   "execution_count": 8,
   "metadata": {
    "scrolled": true
   },
   "outputs": [
    {
     "data": {
      "text/html": [
       "<div>\n",
       "<style scoped>\n",
       "    .dataframe tbody tr th:only-of-type {\n",
       "        vertical-align: middle;\n",
       "    }\n",
       "\n",
       "    .dataframe tbody tr th {\n",
       "        vertical-align: top;\n",
       "    }\n",
       "\n",
       "    .dataframe thead th {\n",
       "        text-align: right;\n",
       "    }\n",
       "</style>\n",
       "<table border=\"1\" class=\"dataframe\">\n",
       "  <thead>\n",
       "    <tr style=\"text-align: right;\">\n",
       "      <th></th>\n",
       "      <th>Open</th>\n",
       "      <th>High</th>\n",
       "      <th>Low</th>\n",
       "      <th>Close</th>\n",
       "      <th>Volume</th>\n",
       "    </tr>\n",
       "  </thead>\n",
       "  <tbody>\n",
       "    <tr>\n",
       "      <th>count</th>\n",
       "      <td>4961.000000</td>\n",
       "      <td>4961.000000</td>\n",
       "      <td>4961.000000</td>\n",
       "      <td>4961.000000</td>\n",
       "      <td>4961.000000</td>\n",
       "    </tr>\n",
       "    <tr>\n",
       "      <th>mean</th>\n",
       "      <td>1047.044227</td>\n",
       "      <td>1053.937454</td>\n",
       "      <td>1039.867448</td>\n",
       "      <td>1047.199843</td>\n",
       "      <td>61623.476718</td>\n",
       "    </tr>\n",
       "    <tr>\n",
       "      <th>std</th>\n",
       "      <td>400.377123</td>\n",
       "      <td>402.381432</td>\n",
       "      <td>397.928167</td>\n",
       "      <td>400.255074</td>\n",
       "      <td>58346.230620</td>\n",
       "    </tr>\n",
       "    <tr>\n",
       "      <th>min</th>\n",
       "      <td>340.350000</td>\n",
       "      <td>342.590000</td>\n",
       "      <td>339.000000</td>\n",
       "      <td>341.230000</td>\n",
       "      <td>35.000000</td>\n",
       "    </tr>\n",
       "    <tr>\n",
       "      <th>25%</th>\n",
       "      <td>663.470000</td>\n",
       "      <td>668.340000</td>\n",
       "      <td>659.730000</td>\n",
       "      <td>664.150000</td>\n",
       "      <td>13977.000000</td>\n",
       "    </tr>\n",
       "    <tr>\n",
       "      <th>50%</th>\n",
       "      <td>1185.510000</td>\n",
       "      <td>1192.260000</td>\n",
       "      <td>1178.610000</td>\n",
       "      <td>1185.520000</td>\n",
       "      <td>46770.000000</td>\n",
       "    </tr>\n",
       "    <tr>\n",
       "      <th>75%</th>\n",
       "      <td>1309.640000</td>\n",
       "      <td>1315.530000</td>\n",
       "      <td>1302.540000</td>\n",
       "      <td>1309.600000</td>\n",
       "      <td>92550.000000</td>\n",
       "    </tr>\n",
       "    <tr>\n",
       "      <th>max</th>\n",
       "      <td>1909.110000</td>\n",
       "      <td>1920.660000</td>\n",
       "      <td>1879.570000</td>\n",
       "      <td>1909.080000</td>\n",
       "      <td>398293.000000</td>\n",
       "    </tr>\n",
       "  </tbody>\n",
       "</table>\n",
       "</div>"
      ],
      "text/plain": [
       "              Open         High          Low        Close         Volume\n",
       "count  4961.000000  4961.000000  4961.000000  4961.000000    4961.000000\n",
       "mean   1047.044227  1053.937454  1039.867448  1047.199843   61623.476718\n",
       "std     400.377123   402.381432   397.928167   400.255074   58346.230620\n",
       "min     340.350000   342.590000   339.000000   341.230000      35.000000\n",
       "25%     663.470000   668.340000   659.730000   664.150000   13977.000000\n",
       "50%    1185.510000  1192.260000  1178.610000  1185.520000   46770.000000\n",
       "75%    1309.640000  1315.530000  1302.540000  1309.600000   92550.000000\n",
       "max    1909.110000  1920.660000  1879.570000  1909.080000  398293.000000"
      ]
     },
     "execution_count": 8,
     "metadata": {},
     "output_type": "execute_result"
    }
   ],
   "source": [
    "data.describe()"
   ]
  },
  {
   "cell_type": "code",
   "execution_count": 41,
   "metadata": {},
   "outputs": [
    {
     "name": "stdout",
     "output_type": "stream",
     "text": [
      "              Open    High     Low   Close  Volume    Weekday  Yearday\n",
      "Date                                                                  \n",
      "2003-05-05  340.35  342.59  339.73  341.31   11948     Monday      125\n",
      "2003-05-06  341.53  344.21  340.28  343.28   12161    Tuesday      126\n",
      "2003-05-07  343.45  344.19  339.00  341.23   11588  Wednesday      127\n",
      "2003-05-08  341.28  348.13  339.96  347.38   12108   Thursday      128\n",
      "2003-05-09  347.33  348.58  345.82  347.92   11539     Friday      129\n"
     ]
    }
   ],
   "source": [
    "#Add week day & Day of the year\n",
    "\n",
    "data['Weekday'] = data.index.day_name()\n",
    "data['Yearday'] = data.index.dayofyear\n",
    "\n",
    "print(data.head())"
   ]
  },
  {
   "cell_type": "code",
   "execution_count": 21,
   "metadata": {},
   "outputs": [],
   "source": [
    "#Save file for later analysis\n",
    "#Save minute data\n",
    "data.to_csv('data/Analysis/D1_XAUUSD_Clean.csv')"
   ]
  }
 ],
 "metadata": {
  "kernelspec": {
   "display_name": "Python 3",
   "language": "python",
   "name": "python3"
  },
  "language_info": {
   "codemirror_mode": {
    "name": "ipython",
    "version": 3
   },
   "file_extension": ".py",
   "mimetype": "text/x-python",
   "name": "python",
   "nbconvert_exporter": "python",
   "pygments_lexer": "ipython3",
   "version": "3.6.8"
  }
 },
 "nbformat": 4,
 "nbformat_minor": 2
}
