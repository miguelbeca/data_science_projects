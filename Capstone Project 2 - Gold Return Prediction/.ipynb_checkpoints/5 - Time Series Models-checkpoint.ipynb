{
 "cells": [
  {
   "cell_type": "code",
   "execution_count": 1,
   "metadata": {},
   "outputs": [],
   "source": [
    "import pandas as pd\n",
    "import numpy as np\n",
    "import datetime\n",
    "import matplotlib.pyplot as plt\n",
    "import seaborn as sns\n",
    "import statsmodels.api as sm\n",
    "#import statsmodels.formula.api as smf\n",
    "#import statsmodels.tsa.api as smt\n",
    "from sklearn.metrics import mean_squared_error"
   ]
  },
  {
   "cell_type": "code",
   "execution_count": 2,
   "metadata": {},
   "outputs": [
    {
     "name": "stdout",
     "output_type": "stream",
     "text": [
      "              Open    High     Low   Close  Volume    Weekday  Yearday  \\\n",
      "Date                                                                     \n",
      "2003-05-05  340.35  342.59  339.73  341.31   11948     Monday      125   \n",
      "2003-05-06  341.53  344.21  340.28  343.28   12161    Tuesday      126   \n",
      "2003-05-07  343.45  344.19  339.00  341.23   11588  Wednesday      127   \n",
      "2003-05-08  341.28  348.13  339.96  347.38   12108   Thursday      128   \n",
      "2003-05-09  347.33  348.58  345.82  347.92   11539     Friday      129   \n",
      "\n",
      "            Return_per_day  Return_log  \n",
      "Date                                    \n",
      "2003-05-05        0.282063         NaN  \n",
      "2003-05-06        0.512400    0.005755  \n",
      "2003-05-07       -0.646382   -0.005990  \n",
      "2003-05-08        1.787389    0.017863  \n",
      "2003-05-09        0.169867    0.001553  \n"
     ]
    }
   ],
   "source": [
    "#Read data\n",
    "\n",
    "data = pd.read_csv('data/analysis/D1_XAUUSD_Returns.csv', parse_dates=[0])\n",
    "data.set_index('Date',inplace=True)\n",
    "print(data.head())"
   ]
  },
  {
   "cell_type": "code",
   "execution_count": 3,
   "metadata": {},
   "outputs": [
    {
     "data": {
      "text/plain": [
       "Timestamp('2003-05-05 00:00:00')"
      ]
     },
     "execution_count": 3,
     "metadata": {},
     "output_type": "execute_result"
    }
   ],
   "source": [
    "data.index[0]"
   ]
  },
  {
   "cell_type": "code",
   "execution_count": 4,
   "metadata": {},
   "outputs": [
    {
     "name": "stdout",
     "output_type": "stream",
     "text": [
      "<class 'pandas.core.frame.DataFrame'>\n",
      "DatetimeIndex: 4961 entries, 2003-05-05 to 2019-04-08\n",
      "Data columns (total 9 columns):\n",
      "Open              4961 non-null float64\n",
      "High              4961 non-null float64\n",
      "Low               4961 non-null float64\n",
      "Close             4961 non-null float64\n",
      "Volume            4961 non-null int64\n",
      "Weekday           4961 non-null object\n",
      "Yearday           4961 non-null int64\n",
      "Return_per_day    4961 non-null float64\n",
      "Return_log        4960 non-null float64\n",
      "dtypes: float64(6), int64(2), object(1)\n",
      "memory usage: 387.6+ KB\n"
     ]
    }
   ],
   "source": [
    "data.info()"
   ]
  },
  {
   "cell_type": "code",
   "execution_count": 5,
   "metadata": {},
   "outputs": [],
   "source": [
    "#Create a model based on price\n",
    "close_price = data.iloc[:,[3]]"
   ]
  },
  {
   "cell_type": "code",
   "execution_count": 6,
   "metadata": {},
   "outputs": [
    {
     "name": "stdout",
     "output_type": "stream",
     "text": [
      "4961\n",
      "             Close\n",
      "Date              \n",
      "2003-05-05  341.31\n",
      "2003-05-06  343.28\n",
      "2003-05-07  341.23\n",
      "2003-05-08  347.38\n",
      "2003-05-09  347.92\n",
      "<class 'pandas.core.frame.DataFrame'>\n",
      "DatetimeIndex: 4961 entries, 2003-05-05 to 2019-04-08\n",
      "Data columns (total 1 columns):\n",
      "Close    4961 non-null float64\n",
      "dtypes: float64(1)\n",
      "memory usage: 77.5 KB\n",
      "0.999623537397642\n"
     ]
    }
   ],
   "source": [
    "n_sample = data.shape[0]\n",
    "print(n_sample)\n",
    "print(close_price.head())\n",
    "close_price.info()\n",
    "autocorrelation = close_price['Close'].autocorr()\n",
    "print(autocorrelation)"
   ]
  },
  {
   "cell_type": "code",
   "execution_count": 7,
   "metadata": {},
   "outputs": [
    {
     "name": "stdout",
     "output_type": "stream",
     "text": [
      "[[ 341.31]\n",
      " [ 343.28]\n",
      " [ 341.23]\n",
      " ...\n",
      " [1291.18]\n",
      " [1291.67]\n",
      " [1297.94]]\n"
     ]
    }
   ],
   "source": [
    "#Values of Series\n",
    "X = close_price.values\n",
    "print(X)"
   ]
  },
  {
   "cell_type": "code",
   "execution_count": 8,
   "metadata": {},
   "outputs": [
    {
     "name": "stdout",
     "output_type": "stream",
     "text": [
      "(4930, 1)\n",
      "(30, 1)\n",
      "Training Series: \n",
      " [[ 343.28]\n",
      " [ 341.23]\n",
      " [ 347.38]\n",
      " ...\n",
      " [1293.06]\n",
      " [1295.16]\n",
      " [1287.03]] \n",
      "\n",
      "Testing Series: \n",
      " [[1287.88]\n",
      " [1287.1 ]\n",
      " [1285.92]\n",
      " [1298.06]\n",
      " [1297.21]\n",
      " [1292.53]\n",
      " [1301.89]\n",
      " [1309.34]\n",
      " [1296.07]\n",
      " [1301.88]\n",
      " [1300.56]\n",
      " [1303.42]\n",
      " [1306.16]\n",
      " [1315.37]\n",
      " [1308.61]\n",
      " [1313.08]\n",
      " [1311.53]\n",
      " [1321.26]\n",
      " [1316.36]\n",
      " [1309.34]\n",
      " [1291.49]\n",
      " [1291.88]\n",
      " [1291.71]\n",
      " [1287.33]\n",
      " [1291.7 ]\n",
      " [1291.76]\n",
      " [1292.1 ]\n",
      " [1291.18]\n",
      " [1291.67]\n",
      " [1297.94]]\n"
     ]
    }
   ],
   "source": [
    "# Create a training sample and testing sample before analyzing the series\n",
    "# Ref - Jeffrey Yau\n",
    "\n",
    "#n_train=int(0.98*n_sample)+1\n",
    "#n_forecast=n_sample-n_train\n",
    "\n",
    "X_train, X_test = X[1:len(X)-30], X[len(X)-30:]\n",
    "#X_train = X[:n_train]\n",
    "#X_test = X[n_train:]\n",
    "print(X_train.shape)\n",
    "print(X_test.shape)\n",
    "print(\"Training Series:\", \"\\n\", X_train, \"\\n\")\n",
    "print(\"Testing Series:\", \"\\n\", X_test)"
   ]
  },
  {
   "cell_type": "code",
   "execution_count": null,
   "metadata": {},
   "outputs": [],
   "source": []
  },
  {
   "cell_type": "code",
   "execution_count": null,
   "metadata": {},
   "outputs": [],
   "source": []
  },
  {
   "cell_type": "code",
   "execution_count": 9,
   "metadata": {},
   "outputs": [
    {
     "name": "stdout",
     "output_type": "stream",
     "text": [
      "Lag: 32\n",
      "Coefficients: [ 8.84528252e-01  9.97254513e-01  1.19064305e-02 -3.93193905e-02\n",
      "  3.37667357e-02 -1.54416263e-03  1.57744645e-02 -3.20677421e-02\n",
      " -1.27168939e-02  3.95682620e-02 -2.70038181e-04 -5.74811563e-03\n",
      " -9.28009708e-03 -1.03106744e-02  8.33050286e-03 -9.86380380e-03\n",
      "  5.72638976e-03  8.34498971e-03 -4.23403870e-03  3.93795357e-03\n",
      " -2.79593214e-02  4.92075093e-02 -5.35694049e-03 -2.51984445e-02\n",
      "  8.92103684e-03 -1.06394858e-02  1.07962830e-03 -6.50330574e-03\n",
      "  6.27380544e-03  1.91264208e-02 -3.82151324e-02  2.76156301e-02\n",
      "  1.75288076e-03]\n",
      "predicted=1287.511615, expected=1287.880000\n",
      "predicted=1286.818868, expected=1287.100000\n",
      "predicted=1286.711119, expected=1285.920000\n",
      "predicted=1286.753156, expected=1298.060000\n",
      "predicted=1287.055123, expected=1297.210000\n",
      "predicted=1287.430295, expected=1292.530000\n",
      "predicted=1287.260005, expected=1301.890000\n",
      "predicted=1287.416278, expected=1309.340000\n",
      "predicted=1287.094149, expected=1296.070000\n",
      "predicted=1287.442074, expected=1301.880000\n",
      "predicted=1288.240895, expected=1300.560000\n",
      "predicted=1288.125025, expected=1303.420000\n",
      "predicted=1288.049531, expected=1306.160000\n",
      "predicted=1288.276891, expected=1315.370000\n",
      "predicted=1288.133709, expected=1308.610000\n",
      "predicted=1288.227945, expected=1313.080000\n",
      "predicted=1288.353038, expected=1311.530000\n",
      "predicted=1288.903467, expected=1321.260000\n",
      "predicted=1288.131674, expected=1316.360000\n",
      "predicted=1288.003182, expected=1309.340000\n",
      "predicted=1288.618262, expected=1291.490000\n",
      "predicted=1288.689847, expected=1291.880000\n",
      "predicted=1289.249374, expected=1291.710000\n",
      "predicted=1289.677667, expected=1287.330000\n",
      "predicted=1290.078598, expected=1291.700000\n",
      "predicted=1290.536769, expected=1291.760000\n",
      "predicted=1290.789750, expected=1292.100000\n",
      "predicted=1291.567358, expected=1291.180000\n",
      "predicted=1291.510137, expected=1291.670000\n",
      "predicted=1291.799408, expected=1297.940000\n",
      "Test MSE: 221.202\n"
     ]
    },
    {
     "data": {
      "image/png": "[encoded data removed]",
      "text/plain": [
       "<Figure size 432x288 with 1 Axes>"
      ]
     },
     "metadata": {
      "needs_background": "light"
     },
     "output_type": "display_data"
    }
   ],
   "source": [
    "#AR model\n",
    "from statsmodels.tsa.ar_model import AR\n",
    "from sklearn.metrics import mean_squared_error\n",
    "\n",
    "model = AR(X_train)\n",
    "model_fit = model.fit()\n",
    "print('Lag: %s' % model_fit.k_ar)\n",
    "print('Coefficients: %s' % model_fit.params)\n",
    "# make predictions\n",
    "predictions = model_fit.predict(start=len(X_train), end=len(X_train)+len(X_test)-1, dynamic=False)\n",
    "for i in range(len(predictions)):\n",
    "    print('predicted=%f, expected=%f' % (predictions[i], X_test[i]))\n",
    "error = mean_squared_error(X_test, predictions)\n",
    "print('Test MSE: %.3f' % error)\n",
    "\n",
    "# plot results\n",
    "plt.plot(X_test)\n",
    "plt.plot(predictions, color='red')\n",
    "plt.show()"
   ]
  },
  {
   "cell_type": "code",
   "execution_count": 10,
   "metadata": {},
   "outputs": [
    {
     "name": "stdout",
     "output_type": "stream",
     "text": [
      "Lag: 0\n",
      "Coefficients: [1.04575416e+03 9.84035135e-01]\n",
      "predicted=1147.301667, expected=1287.880000\n",
      "predicted=1045.754155, expected=1287.100000\n",
      "predicted=1045.754155, expected=1285.920000\n",
      "predicted=1045.754155, expected=1298.060000\n",
      "predicted=1045.754155, expected=1297.210000\n",
      "predicted=1045.754155, expected=1292.530000\n",
      "predicted=1045.754155, expected=1301.890000\n",
      "predicted=1045.754155, expected=1309.340000\n",
      "predicted=1045.754155, expected=1296.070000\n",
      "predicted=1045.754155, expected=1301.880000\n",
      "predicted=1045.754155, expected=1300.560000\n",
      "predicted=1045.754155, expected=1303.420000\n",
      "predicted=1045.754155, expected=1306.160000\n",
      "predicted=1045.754155, expected=1315.370000\n",
      "predicted=1045.754155, expected=1308.610000\n",
      "predicted=1045.754155, expected=1313.080000\n",
      "predicted=1045.754155, expected=1311.530000\n",
      "predicted=1045.754155, expected=1321.260000\n",
      "predicted=1045.754155, expected=1316.360000\n",
      "predicted=1045.754155, expected=1309.340000\n",
      "predicted=1045.754155, expected=1291.490000\n",
      "predicted=1045.754155, expected=1291.880000\n",
      "predicted=1045.754155, expected=1291.710000\n",
      "predicted=1045.754155, expected=1287.330000\n",
      "predicted=1045.754155, expected=1291.700000\n",
      "predicted=1045.754155, expected=1291.760000\n",
      "predicted=1045.754155, expected=1292.100000\n",
      "predicted=1045.754155, expected=1291.180000\n",
      "predicted=1045.754155, expected=1291.670000\n",
      "predicted=1045.754155, expected=1297.940000\n",
      "Test MSE: 63141.964\n"
     ]
    },
    {
     "data": {
      "image/png": "[encoded data removed]",
      "text/plain": [
       "<Figure size 432x288 with 1 Axes>"
      ]
     },
     "metadata": {
      "needs_background": "light"
     },
     "output_type": "display_data"
    }
   ],
   "source": [
    "# MA example\n",
    "from statsmodels.tsa.arima_model import ARMA\n",
    "\n",
    "X_train, X_test = X[1:len(X)-30], X[len(X)-30:]\n",
    "\n",
    "model = ARMA(X_train, order=(0, 1))\n",
    "model_fit = model.fit()\n",
    "print('Lag: %s' % model_fit.k_ar)\n",
    "print('Coefficients: %s' % model_fit.params)\n",
    "# make predictions\n",
    "predictions = model_fit.predict(start=len(X_train), end=len(X_train)+len(X_test)-1, dynamic=False)\n",
    "for i in range(len(predictions)):\n",
    "    print('predicted=%f, expected=%f' % (predictions[i], X_test[i]))\n",
    "error = mean_squared_error(X_test, predictions)\n",
    "print('Test MSE: %.3f' % error)\n",
    "\n",
    "# plot results\n",
    "plt.plot(X_test)\n",
    "plt.plot(predictions, color='red')\n",
    "plt.show()"
   ]
  },
  {
   "cell_type": "code",
   "execution_count": 11,
   "metadata": {},
   "outputs": [
    {
     "name": "stdout",
     "output_type": "stream",
     "text": [
      "Lag: 2\n",
      "Coefficients: [9.33915697e+02 2.09200654e-01 7.90271724e-01 7.78524549e-01]\n",
      "predicted=1309.104226, expected=1291.490000\n",
      "predicted=1309.092594, expected=1291.880000\n",
      "predicted=1308.903835, expected=1291.710000\n",
      "predicted=1308.855154, expected=1287.330000\n",
      "predicted=1308.695799, expected=1291.700000\n",
      "predicted=1308.623990, expected=1291.760000\n",
      "predicted=1308.483034, expected=1292.100000\n",
      "predicted=1308.396797, expected=1291.180000\n",
      "predicted=1308.267363, expected=1291.670000\n",
      "predicted=1308.172135, expected=1297.940000\n",
      "Test MSE: 288.374\n"
     ]
    },
    {
     "data": {
      "image/png": "[encoded data removed]",
      "text/plain": [
       "<Figure size 432x288 with 1 Axes>"
      ]
     },
     "metadata": {
      "needs_background": "light"
     },
     "output_type": "display_data"
    }
   ],
   "source": [
    "# ARMA example\n",
    "from statsmodels.tsa.arima_model import ARMA\n",
    "\n",
    "X_train, X_test = X[1:len(X)-10], X[len(X)-10:]\n",
    "\n",
    "model = ARMA(X_train, order=(2, 1))\n",
    "model_fit = model.fit()\n",
    "print('Lag: %s' % model_fit.k_ar)\n",
    "print('Coefficients: %s' % model_fit.params)\n",
    "# make predictions\n",
    "predictions = model_fit.predict(start=len(X_train), end=len(X_train)+len(X_test)-1, dynamic=False)\n",
    "for i in range(len(predictions)):\n",
    "    print('predicted=%f, expected=%f' % (predictions[i], X_test[i]))\n",
    "error = mean_squared_error(X_test, predictions)\n",
    "print('Test MSE: %.3f' % error)\n",
    "\n",
    "# plot results\n",
    "plt.plot(X_test)\n",
    "plt.plot(predictions, color='red')\n",
    "plt.show()"
   ]
  },
  {
   "cell_type": "code",
   "execution_count": null,
   "metadata": {},
   "outputs": [],
   "source": []
  }
 ],
 "metadata": {
  "kernelspec": {
   "display_name": "Python 3",
   "language": "python",
   "name": "python3"
  },
  "language_info": {
   "codemirror_mode": {
    "name": "ipython",
    "version": 3
   },
   "file_extension": ".py",
   "mimetype": "text/x-python",
   "name": "python",
   "nbconvert_exporter": "python",
   "pygments_lexer": "ipython3",
   "version": "3.6.8"
  }
 },
 "nbformat": 4,
 "nbformat_minor": 2
}
