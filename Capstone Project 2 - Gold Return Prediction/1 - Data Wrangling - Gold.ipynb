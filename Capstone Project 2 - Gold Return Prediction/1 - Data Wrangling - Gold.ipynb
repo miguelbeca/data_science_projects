{
 "cells": [
  {
   "cell_type": "code",
   "execution_count": 1,
   "metadata": {},
   "outputs": [],
   "source": [
    "import pandas as pd\n",
    "import numpy as np\n",
    "import datetime"
   ]
  },
  {
   "cell_type": "code",
   "execution_count": 2,
   "metadata": {},
   "outputs": [
    {
     "name": "stdout",
     "output_type": "stream",
     "text": [
      "           Date      1        2        3        4        5       6\n",
      "4974 2019-04-25  00:00  1274.63  1282.53  1273.31  1278.56   97134\n",
      "4975 2019-04-26  00:00  1278.56  1288.61  1273.72  1285.69  107326\n",
      "4976 2019-04-28  00:00  1286.28  1286.62  1285.63  1285.80    1913\n",
      "4977 2019-04-29  00:00  1285.79  1286.57  1277.99  1280.33   80222\n",
      "4978 2019-04-30  00:00  1280.32  1286.12  1279.84  1283.11  103615\n"
     ]
    }
   ],
   "source": [
    "#Read data\n",
    "data = pd.read_csv('data/D1_XAUUSD.csv', parse_dates={'Date' : [0]},  header=None)\n",
    "print(data.tail())"
   ]
  },
  {
   "cell_type": "code",
   "execution_count": 3,
   "metadata": {},
   "outputs": [
    {
     "name": "stdout",
     "output_type": "stream",
     "text": [
      "<class 'pandas.core.frame.DataFrame'>\n",
      "RangeIndex: 4979 entries, 0 to 4978\n",
      "Data columns (total 7 columns):\n",
      "Date    4979 non-null datetime64[ns]\n",
      "1       4979 non-null object\n",
      "2       4979 non-null float64\n",
      "3       4979 non-null float64\n",
      "4       4979 non-null float64\n",
      "5       4979 non-null float64\n",
      "6       4979 non-null int64\n",
      "dtypes: datetime64[ns](1), float64(4), int64(1), object(1)\n",
      "memory usage: 272.4+ KB\n"
     ]
    }
   ],
   "source": [
    "data.info()"
   ]
  },
  {
   "cell_type": "code",
   "execution_count": 4,
   "metadata": {},
   "outputs": [
    {
     "name": "stdout",
     "output_type": "stream",
     "text": [
      "        Date       2       3       4       5      6\n",
      "0 2003-05-05  340.35  342.59  339.73  341.31  11948\n",
      "1 2003-05-06  341.53  344.21  340.28  343.28  12161\n",
      "2 2003-05-07  343.45  344.19  339.00  341.23  11588\n",
      "3 2003-05-08  341.28  348.13  339.96  347.38  12108\n",
      "4 2003-05-09  347.33  348.58  345.82  347.92  11539\n"
     ]
    }
   ],
   "source": [
    "#Clean dataframe\n",
    "data.drop([1], axis=1, inplace=True)\n",
    "print(data.head()) "
   ]
  },
  {
   "cell_type": "code",
   "execution_count": 5,
   "metadata": {},
   "outputs": [
    {
     "name": "stdout",
     "output_type": "stream",
     "text": [
      "        Date    Open    High     Low   Close  Volume\n",
      "0 2003-05-05  340.35  342.59  339.73  341.31   11948\n",
      "1 2003-05-06  341.53  344.21  340.28  343.28   12161\n",
      "2 2003-05-07  343.45  344.19  339.00  341.23   11588\n",
      "3 2003-05-08  341.28  348.13  339.96  347.38   12108\n",
      "4 2003-05-09  347.33  348.58  345.82  347.92   11539\n"
     ]
    }
   ],
   "source": [
    "data.columns = ['Date', 'Open', 'High', 'Low', 'Close', 'Volume'] \n",
    "print(data.head())"
   ]
  },
  {
   "cell_type": "code",
   "execution_count": 6,
   "metadata": {},
   "outputs": [
    {
     "name": "stdout",
     "output_type": "stream",
     "text": [
      "              Open    High     Low   Close  Volume\n",
      "Date                                              \n",
      "2003-05-05  340.35  342.59  339.73  341.31   11948\n",
      "2003-05-06  341.53  344.21  340.28  343.28   12161\n",
      "2003-05-07  343.45  344.19  339.00  341.23   11588\n",
      "2003-05-08  341.28  348.13  339.96  347.38   12108\n",
      "2003-05-09  347.33  348.58  345.82  347.92   11539\n"
     ]
    }
   ],
   "source": [
    "data.set_index('Date',inplace=True)\n",
    "print(data.head())"
   ]
  },
  {
   "cell_type": "code",
   "execution_count": 7,
   "metadata": {
    "scrolled": true
   },
   "outputs": [
    {
     "data": {
      "text/html": [
       "<div>\n",
       "<style scoped>\n",
       "    .dataframe tbody tr th:only-of-type {\n",
       "        vertical-align: middle;\n",
       "    }\n",
       "\n",
       "    .dataframe tbody tr th {\n",
       "        vertical-align: top;\n",
       "    }\n",
       "\n",
       "    .dataframe thead th {\n",
       "        text-align: right;\n",
       "    }\n",
       "</style>\n",
       "<table border=\"1\" class=\"dataframe\">\n",
       "  <thead>\n",
       "    <tr style=\"text-align: right;\">\n",
       "      <th></th>\n",
       "      <th>Open</th>\n",
       "      <th>High</th>\n",
       "      <th>Low</th>\n",
       "      <th>Close</th>\n",
       "      <th>Volume</th>\n",
       "    </tr>\n",
       "  </thead>\n",
       "  <tbody>\n",
       "    <tr>\n",
       "      <th>count</th>\n",
       "      <td>4979.000000</td>\n",
       "      <td>4979.000000</td>\n",
       "      <td>4979.000000</td>\n",
       "      <td>4979.000000</td>\n",
       "      <td>4979.000000</td>\n",
       "    </tr>\n",
       "    <tr>\n",
       "      <th>mean</th>\n",
       "      <td>1047.903732</td>\n",
       "      <td>1054.784997</td>\n",
       "      <td>1040.735489</td>\n",
       "      <td>1048.055501</td>\n",
       "      <td>61684.866037</td>\n",
       "    </tr>\n",
       "    <tr>\n",
       "      <th>std</th>\n",
       "      <td>399.907810</td>\n",
       "      <td>401.900203</td>\n",
       "      <td>397.469883</td>\n",
       "      <td>399.783736</td>\n",
       "      <td>58289.138563</td>\n",
       "    </tr>\n",
       "    <tr>\n",
       "      <th>min</th>\n",
       "      <td>340.350000</td>\n",
       "      <td>342.590000</td>\n",
       "      <td>339.000000</td>\n",
       "      <td>341.230000</td>\n",
       "      <td>35.000000</td>\n",
       "    </tr>\n",
       "    <tr>\n",
       "      <th>25%</th>\n",
       "      <td>664.945000</td>\n",
       "      <td>668.640000</td>\n",
       "      <td>659.975000</td>\n",
       "      <td>664.915000</td>\n",
       "      <td>13981.000000</td>\n",
       "    </tr>\n",
       "    <tr>\n",
       "      <th>50%</th>\n",
       "      <td>1186.250000</td>\n",
       "      <td>1193.870000</td>\n",
       "      <td>1179.590000</td>\n",
       "      <td>1186.280000</td>\n",
       "      <td>46838.000000</td>\n",
       "    </tr>\n",
       "    <tr>\n",
       "      <th>75%</th>\n",
       "      <td>1309.230000</td>\n",
       "      <td>1315.205000</td>\n",
       "      <td>1302.260000</td>\n",
       "      <td>1309.280000</td>\n",
       "      <td>92716.000000</td>\n",
       "    </tr>\n",
       "    <tr>\n",
       "      <th>max</th>\n",
       "      <td>1909.110000</td>\n",
       "      <td>1920.660000</td>\n",
       "      <td>1879.570000</td>\n",
       "      <td>1909.080000</td>\n",
       "      <td>398293.000000</td>\n",
       "    </tr>\n",
       "  </tbody>\n",
       "</table>\n",
       "</div>"
      ],
      "text/plain": [
       "              Open         High          Low        Close         Volume\n",
       "count  4979.000000  4979.000000  4979.000000  4979.000000    4979.000000\n",
       "mean   1047.903732  1054.784997  1040.735489  1048.055501   61684.866037\n",
       "std     399.907810   401.900203   397.469883   399.783736   58289.138563\n",
       "min     340.350000   342.590000   339.000000   341.230000      35.000000\n",
       "25%     664.945000   668.640000   659.975000   664.915000   13981.000000\n",
       "50%    1186.250000  1193.870000  1179.590000  1186.280000   46838.000000\n",
       "75%    1309.230000  1315.205000  1302.260000  1309.280000   92716.000000\n",
       "max    1909.110000  1920.660000  1879.570000  1909.080000  398293.000000"
      ]
     },
     "execution_count": 7,
     "metadata": {},
     "output_type": "execute_result"
    }
   ],
   "source": [
    "data.describe()"
   ]
  },
  {
   "cell_type": "code",
   "execution_count": 8,
   "metadata": {},
   "outputs": [
    {
     "name": "stdout",
     "output_type": "stream",
     "text": [
      "              Open    High     Low   Close  Volume    Weekday  Yearday\n",
      "Date                                                                  \n",
      "2003-05-05  340.35  342.59  339.73  341.31   11948     Monday      125\n",
      "2003-05-06  341.53  344.21  340.28  343.28   12161    Tuesday      126\n",
      "2003-05-07  343.45  344.19  339.00  341.23   11588  Wednesday      127\n",
      "2003-05-08  341.28  348.13  339.96  347.38   12108   Thursday      128\n",
      "2003-05-09  347.33  348.58  345.82  347.92   11539     Friday      129\n"
     ]
    }
   ],
   "source": [
    "#Add week day & Day of the year\n",
    "\n",
    "data['Weekday'] = data.index.day_name()\n",
    "data['Yearday'] = data.index.dayofyear\n",
    "\n",
    "print(data.head())"
   ]
  },
  {
   "cell_type": "code",
   "execution_count": 9,
   "metadata": {},
   "outputs": [],
   "source": [
    "#Save file for later analysis\n",
    "#Save minute data\n",
    "data.to_csv('data/Analysis/D1_XAUUSD_Clean.csv')"
   ]
  }
 ],
 "metadata": {
  "kernelspec": {
   "display_name": "Python 3",
   "language": "python",
   "name": "python3"
  },
  "language_info": {
   "codemirror_mode": {
    "name": "ipython",
    "version": 3
   },
   "file_extension": ".py",
   "mimetype": "text/x-python",
   "name": "python",
   "nbconvert_exporter": "python",
   "pygments_lexer": "ipython3",
   "version": "3.6.8"
  }
 },
 "nbformat": 4,
 "nbformat_minor": 2
}
