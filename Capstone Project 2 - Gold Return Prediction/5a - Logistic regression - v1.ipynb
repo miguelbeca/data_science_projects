{
 "cells": [
  {
   "cell_type": "code",
   "execution_count": 88,
   "metadata": {},
   "outputs": [],
   "source": [
    "import pandas as pd\n",
    "import numpy as np\n",
    "import datetime\n",
    "import talib as ta\n",
    "import matplotlib.pyplot as plt\n",
    "import seaborn as sns\n",
    "import talib as ta"
   ]
  },
  {
   "cell_type": "code",
   "execution_count": 64,
   "metadata": {},
   "outputs": [],
   "source": [
    "#Read data\n",
    "data = pd.read_csv('data/analysis/D1_XAUUSD_Returns.csv', parse_dates=[0], index_col='Date')\n",
    "#print(data.head())"
   ]
  },
  {
   "cell_type": "code",
   "execution_count": 65,
   "metadata": {},
   "outputs": [],
   "source": [
    "#Date related features\n",
    "data['Week'] = data.index.week\n",
    "data['Day_Week'] = data.index.dayofweek\n",
    "data['daily_return'] = data.Close.pct_change().mul(100)\n",
    "data['day_week_sin'] = np.sin(data.Day_Week*(2.*np.pi/7))\n",
    "data['day_week_cos'] = np.cos(data.Day_Week*(2.*np.pi/7))\n",
    "data['week_sin'] = np.sin((data.Week-1)*(2.*np.pi/52))\n",
    "data['week_cos'] = np.cos((data.Week-1)*(2.*np.pi/52))\n",
    "data['yearday_sin'] = np.sin((data.Yearday)*(2.*np.pi/365.25))\n",
    "data['yearday_cos'] = np.cos((data.Yearday)*(2.*np.pi/365.25))\n",
    "#Simple Moving Average - 50 day\n",
    "data['SMA_50'] = ta.SMA(data.Close, timeperiod = 50)\n",
    "#Simple Moving Average - 200 day\n",
    "data['SMA_200'] = ta.SMA(data.Close, timeperiod = 200)\n",
    "# Exponential Moving Average - 9 day\n",
    "data['EMA_9'] = ta.EMA(data.Close, timeperiod = 9)\n",
    "# Exponential Moving Average - 21 day\n",
    "data['EMA_21'] = ta.EMA(data.Close, timeperiod = 21)\n",
    "# MACD\n",
    "data['macd'], data['macdsignal'], data['macdhist'] = ta.MACD(data.Close, fastperiod=12, slowperiod=200, signalperiod=9)\n",
    "# RSI\n",
    "data['RSI'] = ta.RSI(data.Close, timeperiod=14)\n",
    "#Define relative indicators\n",
    "data['SMA_Delta'] = (data['SMA_50'] - data['SMA_200']) / data['Close']\n",
    "#Define relative indicators\n",
    "data['EMA_Delta'] = (data['EMA_9'] - data['EMA_21']) / data['Close']"
   ]
  },
  {
   "cell_type": "code",
   "execution_count": 66,
   "metadata": {},
   "outputs": [
    {
     "name": "stdout",
     "output_type": "stream",
     "text": [
      "               Open     High      Low    Close  Volume    Weekday  Yearday  \\\n",
      "Date                                                                         \n",
      "2019-04-03  1291.70  1294.49  1288.34  1291.76   94534  Wednesday       93   \n",
      "2019-04-04  1291.76  1294.34  1280.85  1292.10   77631   Thursday       94   \n",
      "2019-04-05  1292.10  1293.15  1284.33  1291.18  102223     Friday       95   \n",
      "2019-04-07  1291.31  1293.63  1291.20  1291.67    2133     Sunday       97   \n",
      "2019-04-08  1291.73  1303.65  1291.58  1297.94   73029     Monday       98   \n",
      "\n",
      "            Return_per_day  Return_log  Week  ...     SMA_50     SMA_200  \\\n",
      "Date                                          ...                          \n",
      "2019-04-03        0.004645    0.000046    14  ...  1308.0620  1252.10065   \n",
      "2019-04-04        0.026321    0.000263    14  ...  1307.6060  1252.59180   \n",
      "2019-04-05       -0.071202   -0.000712    14  ...  1307.2982  1253.17900   \n",
      "2019-04-07        0.027879    0.000379    14  ...  1306.9242  1253.76085   \n",
      "2019-04-08        0.480751    0.004842    15  ...  1306.6042  1254.32715   \n",
      "\n",
      "                  EMA_9       EMA_21       macd  macdsignal  macdhist  \\\n",
      "Date                                                                    \n",
      "2019-04-03  1296.263205  1300.771727  22.199792   27.544467 -5.344675   \n",
      "2019-04-04  1295.430564  1299.983388  21.137800   26.263133 -5.125334   \n",
      "2019-04-05  1294.580451  1299.183080  20.083390   25.027185 -4.943795   \n",
      "2019-04-07  1293.998361  1298.500073  19.239840   23.869716 -4.629876   \n",
      "2019-04-08  1294.786689  1298.449157  19.405944   22.976961 -3.571017   \n",
      "\n",
      "                  RSI  SMA_Delta  EMA_Delta  \n",
      "Date                                         \n",
      "2019-04-03  42.440840   0.043322  -0.003490  \n",
      "2019-04-04  42.734791   0.042577  -0.003524  \n",
      "2019-04-05  42.108149   0.041915  -0.003565  \n",
      "2019-04-07  42.590998   0.041159  -0.003485  \n",
      "2019-04-08  48.509076   0.040277  -0.002822  \n",
      "\n",
      "[5 rows x 28 columns]\n"
     ]
    }
   ],
   "source": [
    "print(data.tail())"
   ]
  },
  {
   "cell_type": "code",
   "execution_count": 67,
   "metadata": {},
   "outputs": [],
   "source": [
    "#Choosing target variable\n",
    "data['Large_return'] = np.where(data['daily_return']>=0.5, 1, (np.where(data['daily_return']<=-0.5, -1, 0)))"
   ]
  },
  {
   "cell_type": "code",
   "execution_count": 68,
   "metadata": {},
   "outputs": [],
   "source": [
    "#Drop rows with nan values\n",
    "data.dropna(inplace=True)"
   ]
  },
  {
   "cell_type": "code",
   "execution_count": 69,
   "metadata": {},
   "outputs": [
    {
     "data": {
      "text/html": [
       "<div>\n",
       "<style scoped>\n",
       "    .dataframe tbody tr th:only-of-type {\n",
       "        vertical-align: middle;\n",
       "    }\n",
       "\n",
       "    .dataframe tbody tr th {\n",
       "        vertical-align: top;\n",
       "    }\n",
       "\n",
       "    .dataframe thead th {\n",
       "        text-align: right;\n",
       "    }\n",
       "</style>\n",
       "<table border=\"1\" class=\"dataframe\">\n",
       "  <thead>\n",
       "    <tr style=\"text-align: right;\">\n",
       "      <th></th>\n",
       "      <th>Volume</th>\n",
       "      <th>day_week_sin</th>\n",
       "      <th>day_week_cos</th>\n",
       "      <th>week_sin</th>\n",
       "      <th>week_cos</th>\n",
       "      <th>yearday_sin</th>\n",
       "      <th>yearday_cos</th>\n",
       "      <th>macdhist</th>\n",
       "      <th>RSI</th>\n",
       "      <th>SMA_Delta</th>\n",
       "      <th>EMA_Delta</th>\n",
       "    </tr>\n",
       "    <tr>\n",
       "      <th>Date</th>\n",
       "      <th></th>\n",
       "      <th></th>\n",
       "      <th></th>\n",
       "      <th></th>\n",
       "      <th></th>\n",
       "      <th></th>\n",
       "      <th></th>\n",
       "      <th></th>\n",
       "      <th></th>\n",
       "      <th></th>\n",
       "      <th></th>\n",
       "    </tr>\n",
       "  </thead>\n",
       "  <tbody>\n",
       "    <tr>\n",
       "      <th>2004-01-12</th>\n",
       "      <td>20736</td>\n",
       "      <td>0.000000</td>\n",
       "      <td>1.000000</td>\n",
       "      <td>0.239316</td>\n",
       "      <td>0.970942</td>\n",
       "      <td>0.204966</td>\n",
       "      <td>0.978769</td>\n",
       "      <td>2.239954</td>\n",
       "      <td>70.847411</td>\n",
       "      <td>0.071611</td>\n",
       "      <td>0.011534</td>\n",
       "    </tr>\n",
       "    <tr>\n",
       "      <th>2004-01-13</th>\n",
       "      <td>21473</td>\n",
       "      <td>0.781831</td>\n",
       "      <td>0.623490</td>\n",
       "      <td>0.239316</td>\n",
       "      <td>0.970942</td>\n",
       "      <td>0.221772</td>\n",
       "      <td>0.975099</td>\n",
       "      <td>1.835514</td>\n",
       "      <td>68.227339</td>\n",
       "      <td>0.072198</td>\n",
       "      <td>0.010996</td>\n",
       "    </tr>\n",
       "    <tr>\n",
       "      <th>2004-01-14</th>\n",
       "      <td>20415</td>\n",
       "      <td>0.974928</td>\n",
       "      <td>-0.222521</td>\n",
       "      <td>0.239316</td>\n",
       "      <td>0.970942</td>\n",
       "      <td>0.238513</td>\n",
       "      <td>0.971139</td>\n",
       "      <td>0.945729</td>\n",
       "      <td>57.107955</td>\n",
       "      <td>0.073547</td>\n",
       "      <td>0.009352</td>\n",
       "    </tr>\n",
       "    <tr>\n",
       "      <th>2004-01-15</th>\n",
       "      <td>22449</td>\n",
       "      <td>0.433884</td>\n",
       "      <td>-0.900969</td>\n",
       "      <td>0.239316</td>\n",
       "      <td>0.970942</td>\n",
       "      <td>0.255182</td>\n",
       "      <td>0.966893</td>\n",
       "      <td>-0.982156</td>\n",
       "      <td>39.857679</td>\n",
       "      <td>0.075568</td>\n",
       "      <td>0.005214</td>\n",
       "    </tr>\n",
       "    <tr>\n",
       "      <th>2004-01-16</th>\n",
       "      <td>19571</td>\n",
       "      <td>-0.433884</td>\n",
       "      <td>-0.900969</td>\n",
       "      <td>0.239316</td>\n",
       "      <td>0.970942</td>\n",
       "      <td>0.271777</td>\n",
       "      <td>0.962360</td>\n",
       "      <td>-2.539018</td>\n",
       "      <td>37.444023</td>\n",
       "      <td>0.076086</td>\n",
       "      <td>0.001362</td>\n",
       "    </tr>\n",
       "  </tbody>\n",
       "</table>\n",
       "</div>"
      ],
      "text/plain": [
       "            Volume  day_week_sin  day_week_cos  week_sin  week_cos  \\\n",
       "Date                                                                 \n",
       "2004-01-12   20736      0.000000      1.000000  0.239316  0.970942   \n",
       "2004-01-13   21473      0.781831      0.623490  0.239316  0.970942   \n",
       "2004-01-14   20415      0.974928     -0.222521  0.239316  0.970942   \n",
       "2004-01-15   22449      0.433884     -0.900969  0.239316  0.970942   \n",
       "2004-01-16   19571     -0.433884     -0.900969  0.239316  0.970942   \n",
       "\n",
       "            yearday_sin  yearday_cos  macdhist        RSI  SMA_Delta  \\\n",
       "Date                                                                   \n",
       "2004-01-12     0.204966     0.978769  2.239954  70.847411   0.071611   \n",
       "2004-01-13     0.221772     0.975099  1.835514  68.227339   0.072198   \n",
       "2004-01-14     0.238513     0.971139  0.945729  57.107955   0.073547   \n",
       "2004-01-15     0.255182     0.966893 -0.982156  39.857679   0.075568   \n",
       "2004-01-16     0.271777     0.962360 -2.539018  37.444023   0.076086   \n",
       "\n",
       "            EMA_Delta  \n",
       "Date                   \n",
       "2004-01-12   0.011534  \n",
       "2004-01-13   0.010996  \n",
       "2004-01-14   0.009352  \n",
       "2004-01-15   0.005214  \n",
       "2004-01-16   0.001362  "
      ]
     },
     "execution_count": 69,
     "metadata": {},
     "output_type": "execute_result"
    }
   ],
   "source": [
    "#Pick features\n",
    "features_list = ['Volume','day_week_sin','day_week_cos','week_sin','week_cos','yearday_sin','yearday_cos',\n",
    "                 'macdhist', 'RSI', 'SMA_Delta','EMA_Delta']\n",
    "features = data[features_list]\n",
    "features.head()"
   ]
  },
  {
   "cell_type": "code",
   "execution_count": 70,
   "metadata": {},
   "outputs": [
    {
     "name": "stdout",
     "output_type": "stream",
     "text": [
      "            Volume  day_week_sin  day_week_cos  week_sin      week_cos  \\\n",
      "Date                                                                     \n",
      "2019-04-02   84862      0.781831      0.623490       1.0  6.123234e-17   \n",
      "2019-04-03   94534      0.974928     -0.222521       1.0  6.123234e-17   \n",
      "2019-04-04   77631      0.433884     -0.900969       1.0  6.123234e-17   \n",
      "2019-04-05  102223     -0.433884     -0.900969       1.0  6.123234e-17   \n",
      "2019-04-07    2133     -0.781831      0.623490       1.0  6.123234e-17   \n",
      "\n",
      "            yearday_sin  yearday_cos  macdhist        RSI  SMA_Delta  \\\n",
      "Date                                                                   \n",
      "2019-04-02     0.999930    -0.011826 -5.395313  42.392384   0.044015   \n",
      "2019-04-03     0.999579    -0.029025 -5.344675  42.440840   0.043322   \n",
      "2019-04-04     0.998932    -0.046215 -5.125334  42.734791   0.042577   \n",
      "2019-04-05     0.997989    -0.063391 -4.943795  42.108149   0.041915   \n",
      "2019-04-07     0.995218    -0.097683 -4.629876  42.590998   0.041159   \n",
      "\n",
      "            EMA_Delta  \n",
      "Date                   \n",
      "2019-04-02  -0.003316  \n",
      "2019-04-03  -0.003490  \n",
      "2019-04-04  -0.003524  \n",
      "2019-04-05  -0.003565  \n",
      "2019-04-07  -0.003485  \n",
      "Date\n",
      "2019-04-02    0.0\n",
      "2019-04-03    0.0\n",
      "2019-04-04    0.0\n",
      "2019-04-05    0.0\n",
      "2019-04-07    0.0\n",
      "Name: Large_return, dtype: float64\n"
     ]
    }
   ],
   "source": [
    "#Pick target variable \n",
    "target_unshifted = data['Large_return']\n",
    "#Add shift so we can predict target on time t=1 with features from time t\n",
    "target = target_unshifted.shift(-1)\n",
    "#Drop last value from features and target (Nan)\n",
    "features = features[:-1]\n",
    "target = target[:-1]\n",
    "print(features.tail())\n",
    "print(target.tail())"
   ]
  },
  {
   "cell_type": "code",
   "execution_count": 71,
   "metadata": {},
   "outputs": [
    {
     "data": {
      "text/plain": [
       " 0.0    2585\n",
       " 1.0    1149\n",
       "-1.0    1019\n",
       "Name: Large_return, dtype: int64"
      ]
     },
     "execution_count": 71,
     "metadata": {},
     "output_type": "execute_result"
    }
   ],
   "source": [
    "target.value_counts()"
   ]
  },
  {
   "cell_type": "code",
   "execution_count": 72,
   "metadata": {},
   "outputs": [],
   "source": [
    "def split_train_test(data, train_ratio):\n",
    "    indices = np.arange(len(data))\n",
    "    train_set_size = int(len(data) * train_ratio)\n",
    "    train_indices = indices[:train_set_size]\n",
    "    test_indices = indices[train_set_size:]\n",
    "    return data.iloc[train_indices], data.iloc[test_indices]\n",
    "\n",
    "X_train_set, X_test_set = split_train_test(features, 0.8)"
   ]
  },
  {
   "cell_type": "code",
   "execution_count": 73,
   "metadata": {},
   "outputs": [
    {
     "name": "stdout",
     "output_type": "stream",
     "text": [
      "3802\n",
      "951\n",
      "Training Series: \n",
      "             Volume  day_week_sin  day_week_cos  week_sin  week_cos  \\\n",
      "Date                                                                 \n",
      "2004-01-12   20736      0.000000      1.000000  0.239316  0.970942   \n",
      "2004-01-13   21473      0.781831      0.623490  0.239316  0.970942   \n",
      "2004-01-14   20415      0.974928     -0.222521  0.239316  0.970942   \n",
      "2004-01-15   22449      0.433884     -0.900969  0.239316  0.970942   \n",
      "2004-01-16   19571     -0.433884     -0.900969  0.239316  0.970942   \n",
      "\n",
      "            yearday_sin  yearday_cos  macdhist        RSI  SMA_Delta  \\\n",
      "Date                                                                   \n",
      "2004-01-12     0.204966     0.978769  2.239954  70.847411   0.071611   \n",
      "2004-01-13     0.221772     0.975099  1.835514  68.227339   0.072198   \n",
      "2004-01-14     0.238513     0.971139  0.945729  57.107955   0.073547   \n",
      "2004-01-15     0.255182     0.966893 -0.982156  39.857679   0.075568   \n",
      "2004-01-16     0.271777     0.962360 -2.539018  37.444023   0.076086   \n",
      "\n",
      "            EMA_Delta  \n",
      "Date                   \n",
      "2004-01-12   0.011534  \n",
      "2004-01-13   0.010996  \n",
      "2004-01-14   0.009352  \n",
      "2004-01-15   0.005214  \n",
      "2004-01-16   0.001362   \n",
      "\n",
      "Training Series: \n",
      "             Volume  day_week_sin  day_week_cos  week_sin  week_cos  \\\n",
      "Date                                                                 \n",
      "2016-03-10  231578      0.433884     -0.900969  0.885456  0.464723   \n",
      "2016-03-11  218965     -0.433884     -0.900969  0.885456  0.464723   \n",
      "2016-03-13   10503     -0.781831      0.623490  0.885456  0.464723   \n",
      "2016-03-14  176424      0.000000      1.000000  0.935016  0.354605   \n",
      "2016-03-15  176486      0.781831      0.623490  0.935016  0.354605   \n",
      "\n",
      "            yearday_sin  yearday_cos  macdhist        RSI  SMA_Delta  \\\n",
      "Date                                                                   \n",
      "2016-03-10     0.933542     0.358468  7.920922  67.348227   0.041800   \n",
      "2016-03-11     0.939570     0.342357  5.388732  57.976461   0.044374   \n",
      "2016-03-13     0.950790     0.309835  3.668061  58.692565   0.046486   \n",
      "2016-03-14     0.955979     0.293434  0.356264  52.039561   0.048928   \n",
      "2016-03-15     0.960885     0.276946 -2.372502  50.813863   0.050795   \n",
      "\n",
      "            EMA_Delta  \n",
      "Date                   \n",
      "2016-03-10   0.015289  \n",
      "2016-03-11   0.013622  \n",
      "2016-03-13   0.012163  \n",
      "2016-03-14   0.009578  \n",
      "2016-03-15   0.007133   \n",
      "\n",
      "Testing Series: \n",
      "             Volume  day_week_sin  day_week_cos  week_sin  week_cos  \\\n",
      "Date                                                                 \n",
      "2016-03-16  203603      0.974928     -0.222521  0.935016  0.354605   \n",
      "2016-03-17  236375      0.433884     -0.900969  0.935016  0.354605   \n",
      "2016-03-18  192765     -0.433884     -0.900969  0.935016  0.354605   \n",
      "2016-03-20   10036     -0.781831      0.623490  0.935016  0.354605   \n",
      "2016-03-21  170563      0.000000      1.000000  0.970942  0.239316   \n",
      "\n",
      "            yearday_sin  yearday_cos  macdhist        RSI  SMA_Delta  \\\n",
      "Date                                                                   \n",
      "2016-03-16     0.965507     0.260376 -1.255343  59.005945   0.051818   \n",
      "2016-03-17     0.969843     0.243730 -0.556433  59.068259   0.053887   \n",
      "2016-03-18     0.973892     0.227011 -0.668859  57.282347   0.055904   \n",
      "2016-03-20     0.981125     0.193376 -1.030948  56.548485   0.057785   \n",
      "2016-03-21     0.984306     0.176471 -2.452664  52.421228   0.059991   \n",
      "\n",
      "            EMA_Delta  \n",
      "Date                   \n",
      "2016-03-16   0.007345  \n",
      "2016-03-17   0.007491  \n",
      "2016-03-18   0.007122  \n",
      "2016-03-20   0.006570  \n",
      "2016-03-21   0.005252  \n",
      "Testing Series: \n",
      "             Volume  day_week_sin  day_week_cos  week_sin      week_cos  \\\n",
      "Date                                                                     \n",
      "2019-04-02   84862      0.781831      0.623490       1.0  6.123234e-17   \n",
      "2019-04-03   94534      0.974928     -0.222521       1.0  6.123234e-17   \n",
      "2019-04-04   77631      0.433884     -0.900969       1.0  6.123234e-17   \n",
      "2019-04-05  102223     -0.433884     -0.900969       1.0  6.123234e-17   \n",
      "2019-04-07    2133     -0.781831      0.623490       1.0  6.123234e-17   \n",
      "\n",
      "            yearday_sin  yearday_cos  macdhist        RSI  SMA_Delta  \\\n",
      "Date                                                                   \n",
      "2019-04-02     0.999930    -0.011826 -5.395313  42.392384   0.044015   \n",
      "2019-04-03     0.999579    -0.029025 -5.344675  42.440840   0.043322   \n",
      "2019-04-04     0.998932    -0.046215 -5.125334  42.734791   0.042577   \n",
      "2019-04-05     0.997989    -0.063391 -4.943795  42.108149   0.041915   \n",
      "2019-04-07     0.995218    -0.097683 -4.629876  42.590998   0.041159   \n",
      "\n",
      "            EMA_Delta  \n",
      "Date                   \n",
      "2019-04-02  -0.003316  \n",
      "2019-04-03  -0.003490  \n",
      "2019-04-04  -0.003524  \n",
      "2019-04-05  -0.003565  \n",
      "2019-04-07  -0.003485  \n"
     ]
    }
   ],
   "source": [
    "print(len(X_train_set))\n",
    "print(len(X_test_set))\n",
    "print(\"Training Series:\", \"\\n\", X_train_set.head(), \"\\n\")\n",
    "print(\"Training Series:\", \"\\n\", X_train_set.tail(), \"\\n\")\n",
    "print(\"Testing Series:\", \"\\n\", X_test_set.head())\n",
    "print(\"Testing Series:\", \"\\n\", X_test_set.tail())"
   ]
  },
  {
   "cell_type": "code",
   "execution_count": 74,
   "metadata": {},
   "outputs": [],
   "source": [
    "y_train_set, y_test_set = split_train_test(target, 0.8)"
   ]
  },
  {
   "cell_type": "code",
   "execution_count": 75,
   "metadata": {},
   "outputs": [
    {
     "name": "stdout",
     "output_type": "stream",
     "text": [
      "3802\n",
      "951\n",
      "Training Series: \n",
      " Date\n",
      "2004-01-12    0.0\n",
      "2004-01-13   -1.0\n",
      "2004-01-14   -1.0\n",
      "2004-01-15   -1.0\n",
      "2004-01-16    0.0\n",
      "Name: Large_return, dtype: float64 \n",
      "\n",
      "Training Series: \n",
      " Date\n",
      "2016-03-10   -1.0\n",
      "2016-03-11    0.0\n",
      "2016-03-13   -1.0\n",
      "2016-03-14    0.0\n",
      "2016-03-15    1.0\n",
      "Name: Large_return, dtype: float64 \n",
      "\n",
      "Testing Series: \n",
      " Date\n",
      "2016-03-16    0.0\n",
      "2016-03-17    0.0\n",
      "2016-03-18    0.0\n",
      "2016-03-20   -1.0\n",
      "2016-03-21    0.0\n",
      "Name: Large_return, dtype: float64\n",
      "Testing Series: \n",
      " Date\n",
      "2019-04-02    0.0\n",
      "2019-04-03    0.0\n",
      "2019-04-04    0.0\n",
      "2019-04-05    0.0\n",
      "2019-04-07    0.0\n",
      "Name: Large_return, dtype: float64\n"
     ]
    }
   ],
   "source": [
    "print(len(y_train_set))\n",
    "print(len(y_test_set))\n",
    "print(\"Training Series:\", \"\\n\", y_train_set.head(), \"\\n\")\n",
    "print(\"Training Series:\", \"\\n\", y_train_set.tail(), \"\\n\")\n",
    "print(\"Testing Series:\", \"\\n\", y_test_set.head())\n",
    "print(\"Testing Series:\", \"\\n\", y_test_set.tail())"
   ]
  },
  {
   "cell_type": "code",
   "execution_count": 84,
   "metadata": {},
   "outputs": [],
   "source": [
    "from sklearn.linear_model import LogisticRegression\n",
    "#model = LogisticRegression(multi_class='multinomial',solver ='newton-cg', max_iter=50000)\n",
    "model = LogisticRegression(multi_class='multinomial',solver ='lbfgs', max_iter=100) \n",
    "model.fit(X_train_set, y_train_set.values.ravel())\n",
    "y_model = model.predict(X_test_set)\n",
    "print('Accuracy of logistic regression classifier on test set: {:.2f}'.format(model.score(X_test_set, y_test_set)))"
   ]
  },
  {
   "cell_type": "code",
   "execution_count": 86,
   "metadata": {},
   "outputs": [
    {
     "name": "stdout",
     "output_type": "stream",
     "text": [
      "Accuracy of logistic regression classifier on test set: 0.65\n"
     ]
    }
   ],
   "source": []
  },
  {
   "cell_type": "code",
   "execution_count": 89,
   "metadata": {},
   "outputs": [
    {
     "data": {
      "image/png": "[encoded data removed]",
      "text/plain": [
       "<Figure size 432x288 with 1 Axes>"
      ]
     },
     "metadata": {
      "needs_background": "light"
     },
     "output_type": "display_data"
    }
   ],
   "source": []
  },
  {
   "cell_type": "code",
   "execution_count": 90,
   "metadata": {},
   "outputs": [
    {
     "data": {
      "image/png": "[encoded data removed]",
      "text/plain": [
       "<Figure size 432x288 with 1 Axes>"
      ]
     },
     "metadata": {
      "needs_background": "light"
     },
     "output_type": "display_data"
    }
   ],
   "source": []
  },
  {
   "cell_type": "code",
   "execution_count": null,
   "metadata": {},
   "outputs": [],
   "source": []
  }
 ],
 "metadata": {
  "kernelspec": {
   "display_name": "Python 3",
   "language": "python",
   "name": "python3"
  },
  "language_info": {
   "codemirror_mode": {
    "name": "ipython",
    "version": 3
   },
   "file_extension": ".py",
   "mimetype": "text/x-python",
   "name": "python",
   "nbconvert_exporter": "python",
   "pygments_lexer": "ipython3",
   "version": "3.6.8"
  }
 },
 "nbformat": 4,
 "nbformat_minor": 2
}
