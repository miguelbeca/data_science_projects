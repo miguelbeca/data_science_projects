{
 "cells": [
  {
   "cell_type": "code",
   "execution_count": 29,
   "metadata": {},
   "outputs": [],
   "source": [
    "#Ref - https://towardsdatascience.com/building-a-logistic-regression-in-python-step-by-step-becd4d56c9c8\n",
    "import pandas as pd\n",
    "import numpy as np\n",
    "import datetime\n",
    "import talib as ta\n",
    "import matplotlib.pyplot as plt\n",
    "import seaborn as sns\n",
    "import talib as ta"
   ]
  },
  {
   "cell_type": "code",
   "execution_count": 30,
   "metadata": {},
   "outputs": [],
   "source": [
    "#Read data\n",
    "data = pd.read_csv('data/analysis/D1_XAUUSD_Returns.csv', parse_dates=[0], index_col='Date')\n",
    "#print(data.head())"
   ]
  },
  {
   "cell_type": "code",
   "execution_count": 31,
   "metadata": {},
   "outputs": [],
   "source": [
    "#Date related features\n",
    "data['Week'] = data.index.week\n",
    "data['Day_Week'] = data.index.dayofweek\n",
    "data['daily_return'] = data.Close.pct_change().mul(100)\n",
    "data['day_week_sin'] = np.sin(data.Day_Week*(2.*np.pi/7))\n",
    "data['day_week_cos'] = np.cos(data.Day_Week*(2.*np.pi/7))\n",
    "data['week_sin'] = np.sin((data.Week-1)*(2.*np.pi/52))\n",
    "data['week_cos'] = np.cos((data.Week-1)*(2.*np.pi/52))\n",
    "data['yearday_sin'] = np.sin((data.Yearday)*(2.*np.pi/365.25))\n",
    "data['yearday_cos'] = np.cos((data.Yearday)*(2.*np.pi/365.25))\n",
    "#Simple Moving Average - 50 day\n",
    "data['SMA_50'] = ta.SMA(data.Close, timeperiod = 50)\n",
    "#Simple Moving Average - 200 day\n",
    "data['SMA_200'] = ta.SMA(data.Close, timeperiod = 200)\n",
    "# Exponential Moving Average - 9 day\n",
    "data['EMA_9'] = ta.EMA(data.Close, timeperiod = 9)\n",
    "# Exponential Moving Average - 21 day\n",
    "data['EMA_21'] = ta.EMA(data.Close, timeperiod = 21)\n",
    "# MACD\n",
    "data['macd'], data['macdsignal'], data['macdhist'] = ta.MACD(data.Close, fastperiod=12, slowperiod=200, signalperiod=9)\n",
    "# RSI\n",
    "data['RSI'] = ta.RSI(data.Close, timeperiod=14)\n",
    "#Define relative indicators\n",
    "data['SMA_Delta'] = (data['SMA_50'] - data['SMA_200']) / data['Close']\n",
    "#Define relative indicators\n",
    "data['EMA_Delta'] = (data['EMA_9'] - data['EMA_21']) / data['Close']"
   ]
  },
  {
   "cell_type": "code",
   "execution_count": 32,
   "metadata": {},
   "outputs": [
    {
     "name": "stdout",
     "output_type": "stream",
     "text": [
      "               Open     High      Low    Close  Volume    Weekday  Yearday  \\\n",
      "Date                                                                         \n",
      "2019-04-03  1291.70  1294.49  1288.34  1291.76   94534  Wednesday       93   \n",
      "2019-04-04  1291.76  1294.34  1280.85  1292.10   77631   Thursday       94   \n",
      "2019-04-05  1292.10  1293.15  1284.33  1291.18  102223     Friday       95   \n",
      "2019-04-07  1291.31  1293.63  1291.20  1291.67    2133     Sunday       97   \n",
      "2019-04-08  1291.73  1303.65  1291.58  1297.94   73029     Monday       98   \n",
      "\n",
      "            Return_per_day  Return_log  Week  ...     SMA_50     SMA_200  \\\n",
      "Date                                          ...                          \n",
      "2019-04-03        0.004645    0.000046    14  ...  1308.0620  1252.10065   \n",
      "2019-04-04        0.026321    0.000263    14  ...  1307.6060  1252.59180   \n",
      "2019-04-05       -0.071202   -0.000712    14  ...  1307.2982  1253.17900   \n",
      "2019-04-07        0.027879    0.000379    14  ...  1306.9242  1253.76085   \n",
      "2019-04-08        0.480751    0.004842    15  ...  1306.6042  1254.32715   \n",
      "\n",
      "                  EMA_9       EMA_21       macd  macdsignal  macdhist  \\\n",
      "Date                                                                    \n",
      "2019-04-03  1296.263205  1300.771727  22.199792   27.544467 -5.344675   \n",
      "2019-04-04  1295.430564  1299.983388  21.137800   26.263133 -5.125334   \n",
      "2019-04-05  1294.580451  1299.183080  20.083390   25.027185 -4.943795   \n",
      "2019-04-07  1293.998361  1298.500073  19.239840   23.869716 -4.629876   \n",
      "2019-04-08  1294.786689  1298.449157  19.405944   22.976961 -3.571017   \n",
      "\n",
      "                  RSI  SMA_Delta  EMA_Delta  \n",
      "Date                                         \n",
      "2019-04-03  42.440840   0.043322  -0.003490  \n",
      "2019-04-04  42.734791   0.042577  -0.003524  \n",
      "2019-04-05  42.108149   0.041915  -0.003565  \n",
      "2019-04-07  42.590998   0.041159  -0.003485  \n",
      "2019-04-08  48.509076   0.040277  -0.002822  \n",
      "\n",
      "[5 rows x 28 columns]\n"
     ]
    }
   ],
   "source": [
    "print(data.tail())"
   ]
  },
  {
   "cell_type": "code",
   "execution_count": 33,
   "metadata": {},
   "outputs": [],
   "source": [
    "#Choosing target variable\n",
    "data['Large_return'] = np.where(data['daily_return']>=0.5, 1, 0)"
   ]
  },
  {
   "cell_type": "code",
   "execution_count": 34,
   "metadata": {},
   "outputs": [],
   "source": [
    "#Drop rows with nan values\n",
    "data.dropna(inplace=True)"
   ]
  },
  {
   "cell_type": "code",
   "execution_count": 35,
   "metadata": {},
   "outputs": [
    {
     "data": {
      "text/html": [
       "<div>\n",
       "<style scoped>\n",
       "    .dataframe tbody tr th:only-of-type {\n",
       "        vertical-align: middle;\n",
       "    }\n",
       "\n",
       "    .dataframe tbody tr th {\n",
       "        vertical-align: top;\n",
       "    }\n",
       "\n",
       "    .dataframe thead th {\n",
       "        text-align: right;\n",
       "    }\n",
       "</style>\n",
       "<table border=\"1\" class=\"dataframe\">\n",
       "  <thead>\n",
       "    <tr style=\"text-align: right;\">\n",
       "      <th></th>\n",
       "      <th>Volume</th>\n",
       "      <th>day_week_sin</th>\n",
       "      <th>day_week_cos</th>\n",
       "      <th>week_sin</th>\n",
       "      <th>week_cos</th>\n",
       "      <th>yearday_sin</th>\n",
       "      <th>yearday_cos</th>\n",
       "      <th>macdhist</th>\n",
       "      <th>RSI</th>\n",
       "      <th>SMA_Delta</th>\n",
       "      <th>EMA_Delta</th>\n",
       "    </tr>\n",
       "    <tr>\n",
       "      <th>Date</th>\n",
       "      <th></th>\n",
       "      <th></th>\n",
       "      <th></th>\n",
       "      <th></th>\n",
       "      <th></th>\n",
       "      <th></th>\n",
       "      <th></th>\n",
       "      <th></th>\n",
       "      <th></th>\n",
       "      <th></th>\n",
       "      <th></th>\n",
       "    </tr>\n",
       "  </thead>\n",
       "  <tbody>\n",
       "    <tr>\n",
       "      <th>2004-01-12</th>\n",
       "      <td>20736</td>\n",
       "      <td>0.000000</td>\n",
       "      <td>1.000000</td>\n",
       "      <td>0.239316</td>\n",
       "      <td>0.970942</td>\n",
       "      <td>0.204966</td>\n",
       "      <td>0.978769</td>\n",
       "      <td>2.239954</td>\n",
       "      <td>70.847411</td>\n",
       "      <td>0.071611</td>\n",
       "      <td>0.011534</td>\n",
       "    </tr>\n",
       "    <tr>\n",
       "      <th>2004-01-13</th>\n",
       "      <td>21473</td>\n",
       "      <td>0.781831</td>\n",
       "      <td>0.623490</td>\n",
       "      <td>0.239316</td>\n",
       "      <td>0.970942</td>\n",
       "      <td>0.221772</td>\n",
       "      <td>0.975099</td>\n",
       "      <td>1.835514</td>\n",
       "      <td>68.227339</td>\n",
       "      <td>0.072198</td>\n",
       "      <td>0.010996</td>\n",
       "    </tr>\n",
       "    <tr>\n",
       "      <th>2004-01-14</th>\n",
       "      <td>20415</td>\n",
       "      <td>0.974928</td>\n",
       "      <td>-0.222521</td>\n",
       "      <td>0.239316</td>\n",
       "      <td>0.970942</td>\n",
       "      <td>0.238513</td>\n",
       "      <td>0.971139</td>\n",
       "      <td>0.945729</td>\n",
       "      <td>57.107955</td>\n",
       "      <td>0.073547</td>\n",
       "      <td>0.009352</td>\n",
       "    </tr>\n",
       "    <tr>\n",
       "      <th>2004-01-15</th>\n",
       "      <td>22449</td>\n",
       "      <td>0.433884</td>\n",
       "      <td>-0.900969</td>\n",
       "      <td>0.239316</td>\n",
       "      <td>0.970942</td>\n",
       "      <td>0.255182</td>\n",
       "      <td>0.966893</td>\n",
       "      <td>-0.982156</td>\n",
       "      <td>39.857679</td>\n",
       "      <td>0.075568</td>\n",
       "      <td>0.005214</td>\n",
       "    </tr>\n",
       "    <tr>\n",
       "      <th>2004-01-16</th>\n",
       "      <td>19571</td>\n",
       "      <td>-0.433884</td>\n",
       "      <td>-0.900969</td>\n",
       "      <td>0.239316</td>\n",
       "      <td>0.970942</td>\n",
       "      <td>0.271777</td>\n",
       "      <td>0.962360</td>\n",
       "      <td>-2.539018</td>\n",
       "      <td>37.444023</td>\n",
       "      <td>0.076086</td>\n",
       "      <td>0.001362</td>\n",
       "    </tr>\n",
       "  </tbody>\n",
       "</table>\n",
       "</div>"
      ],
      "text/plain": [
       "            Volume  day_week_sin  day_week_cos  week_sin  week_cos  \\\n",
       "Date                                                                 \n",
       "2004-01-12   20736      0.000000      1.000000  0.239316  0.970942   \n",
       "2004-01-13   21473      0.781831      0.623490  0.239316  0.970942   \n",
       "2004-01-14   20415      0.974928     -0.222521  0.239316  0.970942   \n",
       "2004-01-15   22449      0.433884     -0.900969  0.239316  0.970942   \n",
       "2004-01-16   19571     -0.433884     -0.900969  0.239316  0.970942   \n",
       "\n",
       "            yearday_sin  yearday_cos  macdhist        RSI  SMA_Delta  \\\n",
       "Date                                                                   \n",
       "2004-01-12     0.204966     0.978769  2.239954  70.847411   0.071611   \n",
       "2004-01-13     0.221772     0.975099  1.835514  68.227339   0.072198   \n",
       "2004-01-14     0.238513     0.971139  0.945729  57.107955   0.073547   \n",
       "2004-01-15     0.255182     0.966893 -0.982156  39.857679   0.075568   \n",
       "2004-01-16     0.271777     0.962360 -2.539018  37.444023   0.076086   \n",
       "\n",
       "            EMA_Delta  \n",
       "Date                   \n",
       "2004-01-12   0.011534  \n",
       "2004-01-13   0.010996  \n",
       "2004-01-14   0.009352  \n",
       "2004-01-15   0.005214  \n",
       "2004-01-16   0.001362  "
      ]
     },
     "execution_count": 35,
     "metadata": {},
     "output_type": "execute_result"
    }
   ],
   "source": [
    "#Pick features\n",
    "features_list = ['Volume','day_week_sin','day_week_cos','week_sin','week_cos','yearday_sin','yearday_cos',\n",
    "                 'macdhist', 'RSI', 'SMA_Delta','EMA_Delta']\n",
    "features = data[features_list]\n",
    "features.head()"
   ]
  },
  {
   "cell_type": "code",
   "execution_count": 36,
   "metadata": {},
   "outputs": [
    {
     "name": "stdout",
     "output_type": "stream",
     "text": [
      "            Volume  day_week_sin  day_week_cos  week_sin      week_cos  \\\n",
      "Date                                                                     \n",
      "2019-04-02   84862      0.781831      0.623490       1.0  6.123234e-17   \n",
      "2019-04-03   94534      0.974928     -0.222521       1.0  6.123234e-17   \n",
      "2019-04-04   77631      0.433884     -0.900969       1.0  6.123234e-17   \n",
      "2019-04-05  102223     -0.433884     -0.900969       1.0  6.123234e-17   \n",
      "2019-04-07    2133     -0.781831      0.623490       1.0  6.123234e-17   \n",
      "\n",
      "            yearday_sin  yearday_cos  macdhist        RSI  SMA_Delta  \\\n",
      "Date                                                                   \n",
      "2019-04-02     0.999930    -0.011826 -5.395313  42.392384   0.044015   \n",
      "2019-04-03     0.999579    -0.029025 -5.344675  42.440840   0.043322   \n",
      "2019-04-04     0.998932    -0.046215 -5.125334  42.734791   0.042577   \n",
      "2019-04-05     0.997989    -0.063391 -4.943795  42.108149   0.041915   \n",
      "2019-04-07     0.995218    -0.097683 -4.629876  42.590998   0.041159   \n",
      "\n",
      "            EMA_Delta  \n",
      "Date                   \n",
      "2019-04-02  -0.003316  \n",
      "2019-04-03  -0.003490  \n",
      "2019-04-04  -0.003524  \n",
      "2019-04-05  -0.003565  \n",
      "2019-04-07  -0.003485  \n",
      "Date\n",
      "2019-04-02    0.0\n",
      "2019-04-03    0.0\n",
      "2019-04-04    0.0\n",
      "2019-04-05    0.0\n",
      "2019-04-07    0.0\n",
      "Name: Large_return, dtype: float64\n"
     ]
    }
   ],
   "source": [
    "#Pick target variable \n",
    "target_unshifted = data['Large_return']\n",
    "#Add shift so we can predict target on time t=1 with features from time t\n",
    "target = target_unshifted.shift(-1)\n",
    "#Drop last value from features and target (Nan)\n",
    "features = features[:-1]\n",
    "target = target[:-1]\n",
    "print(features.tail())\n",
    "print(target.tail())"
   ]
  },
  {
   "cell_type": "code",
   "execution_count": 37,
   "metadata": {},
   "outputs": [
    {
     "data": {
      "text/plain": [
       "0.0    3604\n",
       "1.0    1149\n",
       "Name: Large_return, dtype: int64"
      ]
     },
     "execution_count": 37,
     "metadata": {},
     "output_type": "execute_result"
    }
   ],
   "source": [
    "target.value_counts()"
   ]
  },
  {
   "cell_type": "code",
   "execution_count": 38,
   "metadata": {},
   "outputs": [],
   "source": [
    "def split_train_test(data, train_ratio):\n",
    "    indices = np.arange(len(data))\n",
    "    train_set_size = int(len(data) * train_ratio)\n",
    "    train_indices = indices[:train_set_size]\n",
    "    test_indices = indices[train_set_size:]\n",
    "    return data.iloc[train_indices], data.iloc[test_indices]\n",
    "\n",
    "X_train_set, X_test_set = split_train_test(features, 0.8)"
   ]
  },
  {
   "cell_type": "code",
   "execution_count": 39,
   "metadata": {},
   "outputs": [
    {
     "name": "stdout",
     "output_type": "stream",
     "text": [
      "3802\n",
      "951\n",
      "Training Series: \n",
      "             Volume  day_week_sin  day_week_cos  week_sin  week_cos  \\\n",
      "Date                                                                 \n",
      "2004-01-12   20736      0.000000      1.000000  0.239316  0.970942   \n",
      "2004-01-13   21473      0.781831      0.623490  0.239316  0.970942   \n",
      "2004-01-14   20415      0.974928     -0.222521  0.239316  0.970942   \n",
      "2004-01-15   22449      0.433884     -0.900969  0.239316  0.970942   \n",
      "2004-01-16   19571     -0.433884     -0.900969  0.239316  0.970942   \n",
      "\n",
      "            yearday_sin  yearday_cos  macdhist        RSI  SMA_Delta  \\\n",
      "Date                                                                   \n",
      "2004-01-12     0.204966     0.978769  2.239954  70.847411   0.071611   \n",
      "2004-01-13     0.221772     0.975099  1.835514  68.227339   0.072198   \n",
      "2004-01-14     0.238513     0.971139  0.945729  57.107955   0.073547   \n",
      "2004-01-15     0.255182     0.966893 -0.982156  39.857679   0.075568   \n",
      "2004-01-16     0.271777     0.962360 -2.539018  37.444023   0.076086   \n",
      "\n",
      "            EMA_Delta  \n",
      "Date                   \n",
      "2004-01-12   0.011534  \n",
      "2004-01-13   0.010996  \n",
      "2004-01-14   0.009352  \n",
      "2004-01-15   0.005214  \n",
      "2004-01-16   0.001362   \n",
      "\n",
      "Training Series: \n",
      "             Volume  day_week_sin  day_week_cos  week_sin  week_cos  \\\n",
      "Date                                                                 \n",
      "2016-03-10  231578      0.433884     -0.900969  0.885456  0.464723   \n",
      "2016-03-11  218965     -0.433884     -0.900969  0.885456  0.464723   \n",
      "2016-03-13   10503     -0.781831      0.623490  0.885456  0.464723   \n",
      "2016-03-14  176424      0.000000      1.000000  0.935016  0.354605   \n",
      "2016-03-15  176486      0.781831      0.623490  0.935016  0.354605   \n",
      "\n",
      "            yearday_sin  yearday_cos  macdhist        RSI  SMA_Delta  \\\n",
      "Date                                                                   \n",
      "2016-03-10     0.933542     0.358468  7.920922  67.348227   0.041800   \n",
      "2016-03-11     0.939570     0.342357  5.388732  57.976461   0.044374   \n",
      "2016-03-13     0.950790     0.309835  3.668061  58.692565   0.046486   \n",
      "2016-03-14     0.955979     0.293434  0.356264  52.039561   0.048928   \n",
      "2016-03-15     0.960885     0.276946 -2.372502  50.813863   0.050795   \n",
      "\n",
      "            EMA_Delta  \n",
      "Date                   \n",
      "2016-03-10   0.015289  \n",
      "2016-03-11   0.013622  \n",
      "2016-03-13   0.012163  \n",
      "2016-03-14   0.009578  \n",
      "2016-03-15   0.007133   \n",
      "\n",
      "Testing Series: \n",
      "             Volume  day_week_sin  day_week_cos  week_sin  week_cos  \\\n",
      "Date                                                                 \n",
      "2016-03-16  203603      0.974928     -0.222521  0.935016  0.354605   \n",
      "2016-03-17  236375      0.433884     -0.900969  0.935016  0.354605   \n",
      "2016-03-18  192765     -0.433884     -0.900969  0.935016  0.354605   \n",
      "2016-03-20   10036     -0.781831      0.623490  0.935016  0.354605   \n",
      "2016-03-21  170563      0.000000      1.000000  0.970942  0.239316   \n",
      "\n",
      "            yearday_sin  yearday_cos  macdhist        RSI  SMA_Delta  \\\n",
      "Date                                                                   \n",
      "2016-03-16     0.965507     0.260376 -1.255343  59.005945   0.051818   \n",
      "2016-03-17     0.969843     0.243730 -0.556433  59.068259   0.053887   \n",
      "2016-03-18     0.973892     0.227011 -0.668859  57.282347   0.055904   \n",
      "2016-03-20     0.981125     0.193376 -1.030948  56.548485   0.057785   \n",
      "2016-03-21     0.984306     0.176471 -2.452664  52.421228   0.059991   \n",
      "\n",
      "            EMA_Delta  \n",
      "Date                   \n",
      "2016-03-16   0.007345  \n",
      "2016-03-17   0.007491  \n",
      "2016-03-18   0.007122  \n",
      "2016-03-20   0.006570  \n",
      "2016-03-21   0.005252  \n",
      "Testing Series: \n",
      "             Volume  day_week_sin  day_week_cos  week_sin      week_cos  \\\n",
      "Date                                                                     \n",
      "2019-04-02   84862      0.781831      0.623490       1.0  6.123234e-17   \n",
      "2019-04-03   94534      0.974928     -0.222521       1.0  6.123234e-17   \n",
      "2019-04-04   77631      0.433884     -0.900969       1.0  6.123234e-17   \n",
      "2019-04-05  102223     -0.433884     -0.900969       1.0  6.123234e-17   \n",
      "2019-04-07    2133     -0.781831      0.623490       1.0  6.123234e-17   \n",
      "\n",
      "            yearday_sin  yearday_cos  macdhist        RSI  SMA_Delta  \\\n",
      "Date                                                                   \n",
      "2019-04-02     0.999930    -0.011826 -5.395313  42.392384   0.044015   \n",
      "2019-04-03     0.999579    -0.029025 -5.344675  42.440840   0.043322   \n",
      "2019-04-04     0.998932    -0.046215 -5.125334  42.734791   0.042577   \n",
      "2019-04-05     0.997989    -0.063391 -4.943795  42.108149   0.041915   \n",
      "2019-04-07     0.995218    -0.097683 -4.629876  42.590998   0.041159   \n",
      "\n",
      "            EMA_Delta  \n",
      "Date                   \n",
      "2019-04-02  -0.003316  \n",
      "2019-04-03  -0.003490  \n",
      "2019-04-04  -0.003524  \n",
      "2019-04-05  -0.003565  \n",
      "2019-04-07  -0.003485  \n"
     ]
    }
   ],
   "source": [
    "print(len(X_train_set))\n",
    "print(len(X_test_set))\n",
    "print(\"Training Series:\", \"\\n\", X_train_set.head(), \"\\n\")\n",
    "print(\"Training Series:\", \"\\n\", X_train_set.tail(), \"\\n\")\n",
    "print(\"Testing Series:\", \"\\n\", X_test_set.head())\n",
    "print(\"Testing Series:\", \"\\n\", X_test_set.tail())"
   ]
  },
  {
   "cell_type": "code",
   "execution_count": 40,
   "metadata": {},
   "outputs": [],
   "source": [
    "y_train_set, y_test_set = split_train_test(target, 0.8)"
   ]
  },
  {
   "cell_type": "code",
   "execution_count": 41,
   "metadata": {},
   "outputs": [
    {
     "name": "stdout",
     "output_type": "stream",
     "text": [
      "3802\n",
      "951\n",
      "Training Series: \n",
      " Date\n",
      "2004-01-12    0.0\n",
      "2004-01-13    0.0\n",
      "2004-01-14    0.0\n",
      "2004-01-15    0.0\n",
      "2004-01-16    0.0\n",
      "Name: Large_return, dtype: float64 \n",
      "\n",
      "Training Series: \n",
      " Date\n",
      "2016-03-10    0.0\n",
      "2016-03-11    0.0\n",
      "2016-03-13    0.0\n",
      "2016-03-14    0.0\n",
      "2016-03-15    1.0\n",
      "Name: Large_return, dtype: float64 \n",
      "\n",
      "Testing Series: \n",
      " Date\n",
      "2016-03-16    0.0\n",
      "2016-03-17    0.0\n",
      "2016-03-18    0.0\n",
      "2016-03-20    0.0\n",
      "2016-03-21    0.0\n",
      "Name: Large_return, dtype: float64\n",
      "Testing Series: \n",
      " Date\n",
      "2019-04-02    0.0\n",
      "2019-04-03    0.0\n",
      "2019-04-04    0.0\n",
      "2019-04-05    0.0\n",
      "2019-04-07    0.0\n",
      "Name: Large_return, dtype: float64\n"
     ]
    }
   ],
   "source": [
    "print(len(y_train_set))\n",
    "print(len(y_test_set))\n",
    "print(\"Training Series:\", \"\\n\", y_train_set.head(), \"\\n\")\n",
    "print(\"Training Series:\", \"\\n\", y_train_set.tail(), \"\\n\")\n",
    "print(\"Testing Series:\", \"\\n\", y_test_set.head())\n",
    "print(\"Testing Series:\", \"\\n\", y_test_set.tail())"
   ]
  },
  {
   "cell_type": "code",
   "execution_count": 67,
   "metadata": {},
   "outputs": [
    {
     "name": "stdout",
     "output_type": "stream",
     "text": [
      "length of oversampled data is  5620\n",
      "Number of no subscription in oversampled data 2810\n",
      "Number of positive returns 2810\n",
      "Proportion of pos. returns data in oversampled data is  0.5\n",
      "Proportion of pos. returns data in oversampled data is  0.5\n"
     ]
    }
   ],
   "source": [
    "#SMOTE to balance data\n",
    "from imblearn.over_sampling import SMOTE\n",
    "os = SMOTE(random_state=0)\n",
    "\n",
    "columns = X_train_set.columns\n",
    "\n",
    "os_data_X,os_data_y=os.fit_sample(X_train_set, y_train_set.values.ravel())\n",
    "os_data_X = pd.DataFrame(data=os_data_X,columns=columns )\n",
    "os_data_y= pd.DataFrame(data=os_data_y,columns=['y'])\n",
    "# we can Check the numbers of our data\n",
    "print(\"length of oversampled data is \",len(os_data_X))\n",
    "print(\"Number of no subscription in oversampled data\",len(os_data_y[os_data_y['y']==0]))\n",
    "print(\"Number of positive returns\",len(os_data_y[os_data_y['y']==1]))\n",
    "print(\"Proportion of pos. returns data in oversampled data is \",len(os_data_y[os_data_y['y']==0])/len(os_data_X))\n",
    "print(\"Proportion of pos. returns data in oversampled data is \",len(os_data_y[os_data_y['y']==1])/len(os_data_X))"
   ]
  },
  {
   "cell_type": "code",
   "execution_count": 68,
   "metadata": {},
   "outputs": [
    {
     "name": "stdout",
     "output_type": "stream",
     "text": [
      "[ True  True  True  True  True  True  True  True  True  True  True]\n",
      "[1 1 1 1 1 1 1 1 1 1 1]\n"
     ]
    },
    {
     "name": "stderr",
     "output_type": "stream",
     "text": [
      "C:\\Users\\mbeca\\Continuum\\anaconda3\\envs\\keras\\lib\\site-packages\\sklearn\\linear_model\\logistic.py:433: FutureWarning: Default solver will be changed to 'lbfgs' in 0.22. Specify a solver to silence this warning.\n",
      "  FutureWarning)\n"
     ]
    }
   ],
   "source": [
    "from sklearn.feature_selection import RFE\n",
    "from sklearn.linear_model import LogisticRegression\n",
    "logreg = LogisticRegression()\n",
    "rfe = RFE(logreg, 12)\n",
    "rfe = rfe.fit(os_data_X, os_data_y.values.ravel())\n",
    "print(rfe.support_)\n",
    "print(rfe.ranking_)"
   ]
  },
  {
   "cell_type": "code",
   "execution_count": 69,
   "metadata": {},
   "outputs": [],
   "source": [
    "#Use SMOTE data\n",
    "\n",
    "X_train_set, X_test_set = split_train_test(os_data_X, 0.8)\n",
    "y_train_set, y_test_set = split_train_test(os_data_y, 0.8)"
   ]
  },
  {
   "cell_type": "code",
   "execution_count": 70,
   "metadata": {},
   "outputs": [
    {
     "name": "stdout",
     "output_type": "stream",
     "text": [
      "4496\n",
      "1124\n",
      "Training Series: \n",
      "     Volume  day_week_sin  day_week_cos  week_sin  week_cos  yearday_sin  \\\n",
      "0  20736.0      0.000000      1.000000  0.239316  0.970942     0.204966   \n",
      "1  21473.0      0.781831      0.623490  0.239316  0.970942     0.221772   \n",
      "2  20415.0      0.974928     -0.222521  0.239316  0.970942     0.238513   \n",
      "3  22449.0      0.433884     -0.900969  0.239316  0.970942     0.255182   \n",
      "4  19571.0     -0.433884     -0.900969  0.239316  0.970942     0.271777   \n",
      "\n",
      "   yearday_cos  macdhist        RSI  SMA_Delta  EMA_Delta  \n",
      "0     0.978769  2.239954  70.847411   0.071611   0.011534  \n",
      "1     0.975099  1.835514  68.227339   0.072198   0.010996  \n",
      "2     0.971139  0.945729  57.107955   0.073547   0.009352  \n",
      "3     0.966893 -0.982156  39.857679   0.075568   0.005214  \n",
      "4     0.962360 -2.539018  37.444023   0.076086   0.001362   \n",
      "\n",
      "Training Series: \n",
      "             Volume  day_week_sin  day_week_cos  week_sin  week_cos  \\\n",
      "4491  14331.016310      0.831205     -0.402743  0.518991  0.285975   \n",
      "4492  79104.499241      0.433884     -0.900969 -0.315841  0.606112   \n",
      "4493  14704.087059      0.672489     -0.601768  0.913160  0.403168   \n",
      "4494  13454.142888      0.217942      0.045135  0.785576 -0.615813   \n",
      "4495  15725.631431      0.448668     -0.836194 -0.434808 -0.889088   \n",
      "\n",
      "      yearday_sin  yearday_cos   macdhist        RSI  SMA_Delta  EMA_Delta  \n",
      "4491     0.506718     0.286085   6.142929  64.024968   0.021829   0.012370  \n",
      "4492    -0.303560     0.645331   8.022912  63.010476  -0.007305   0.008072  \n",
      "4493     0.914940     0.397773 -11.511332  45.250324   0.070979  -0.005326  \n",
      "4494     0.772741    -0.628882  -9.091592  43.076135   0.063743  -0.014071  \n",
      "4495    -0.437755    -0.886653  -0.962992  47.014823   0.029115   0.001710   \n",
      "\n",
      "Testing Series: \n",
      "              Volume  day_week_sin  day_week_cos  week_sin  week_cos  \\\n",
      "4496   35170.373477      0.150410      0.341010  0.769831  0.571993   \n",
      "4497   49527.141536      0.000000      1.000000  0.577423 -0.510942   \n",
      "4498  159526.224867      0.732735     -0.526221  0.053957  0.996736   \n",
      "4499  107772.916793      0.000000      1.000000  0.067435  0.904868   \n",
      "4500   84701.817818      0.833345     -0.289732 -0.330312 -0.547838   \n",
      "\n",
      "      yearday_sin  yearday_cos  macdhist        RSI  SMA_Delta  EMA_Delta  \n",
      "4496     0.800657     0.510659 -1.603181  48.355902   0.037989  -0.001080  \n",
      "4497     0.558426    -0.526339  4.784639  70.463904   0.073864   0.012631  \n",
      "4498     0.163678     0.984141  5.375031  55.603904  -0.049211   0.003256  \n",
      "4499     0.098040     0.902222  2.043917  47.067178   0.010099  -0.004187  \n",
      "4500    -0.341207    -0.539276  6.515132  55.616225  -0.082629   0.002069  \n",
      "Testing Series: \n",
      "              Volume  day_week_sin  day_week_cos  week_sin  week_cos  \\\n",
      "5615   45208.474403     -0.433884     -0.900969 -0.494304  0.206752   \n",
      "5616   50924.759661      0.601035     -0.245213 -0.578837 -0.707341   \n",
      "5617  120282.400385      0.969472     -0.198615 -0.951527 -0.092111   \n",
      "5618   17875.627367      0.692853      0.666340 -0.550051  0.833874   \n",
      "5619    1790.368070     -0.781831      0.623490 -0.920373  0.323061   \n",
      "\n",
      "      yearday_sin  yearday_cos   macdhist        RSI  SMA_Delta  EMA_Delta  \n",
      "5615    -0.477558     0.248095   5.967080  67.824747   0.000668   0.014138  \n",
      "5616    -0.616421    -0.669228  -4.896375  45.307958   0.047960  -0.003582  \n",
      "5617    -0.955310    -0.025259 -60.509959  30.773297   0.132066  -0.036177  \n",
      "5618    -0.581848     0.811946  12.454280  82.451260   0.084848   0.022172  \n",
      "5619    -0.867541     0.446265  -9.953067  39.706766   0.076563  -0.011068  \n"
     ]
    }
   ],
   "source": [
    "print(len(X_train_set))\n",
    "print(len(X_test_set))\n",
    "print(\"Training Series:\", \"\\n\", X_train_set.head(), \"\\n\")\n",
    "print(\"Training Series:\", \"\\n\", X_train_set.tail(), \"\\n\")\n",
    "print(\"Testing Series:\", \"\\n\", X_test_set.head())\n",
    "print(\"Testing Series:\", \"\\n\", X_test_set.tail())"
   ]
  },
  {
   "cell_type": "code",
   "execution_count": 71,
   "metadata": {},
   "outputs": [
    {
     "name": "stdout",
     "output_type": "stream",
     "text": [
      "4496\n",
      "1124\n",
      "Training Series: \n",
      "      y\n",
      "0  0.0\n",
      "1  0.0\n",
      "2  0.0\n",
      "3  0.0\n",
      "4  0.0 \n",
      "\n",
      "Training Series: \n",
      "         y\n",
      "4491  1.0\n",
      "4492  1.0\n",
      "4493  1.0\n",
      "4494  1.0\n",
      "4495  1.0 \n",
      "\n",
      "Testing Series: \n",
      "         y\n",
      "4496  1.0\n",
      "4497  1.0\n",
      "4498  1.0\n",
      "4499  1.0\n",
      "4500  1.0\n",
      "Testing Series: \n",
      "         y\n",
      "5615  1.0\n",
      "5616  1.0\n",
      "5617  1.0\n",
      "5618  1.0\n",
      "5619  1.0\n"
     ]
    }
   ],
   "source": [
    "print(len(y_train_set))\n",
    "print(len(y_test_set))\n",
    "print(\"Training Series:\", \"\\n\", y_train_set.head(), \"\\n\")\n",
    "print(\"Training Series:\", \"\\n\", y_train_set.tail(), \"\\n\")\n",
    "print(\"Testing Series:\", \"\\n\", y_test_set.head())\n",
    "print(\"Testing Series:\", \"\\n\", y_test_set.tail())"
   ]
  },
  {
   "cell_type": "code",
   "execution_count": 72,
   "metadata": {},
   "outputs": [
    {
     "name": "stdout",
     "output_type": "stream",
     "text": [
      "Accuracy of logistic regression classifier on test set: 0.00\n"
     ]
    },
    {
     "name": "stderr",
     "output_type": "stream",
     "text": [
      "C:\\Users\\mbeca\\Continuum\\anaconda3\\envs\\keras\\lib\\site-packages\\sklearn\\linear_model\\logistic.py:433: FutureWarning: Default solver will be changed to 'lbfgs' in 0.22. Specify a solver to silence this warning.\n",
      "  FutureWarning)\n"
     ]
    }
   ],
   "source": [
    "#model = LogisticRegression(multi_class='multinomial',solver ='lbfgs', max_iter=100) \n",
    "model = LogisticRegression(max_iter=100) \n",
    "model.fit(X_train_set, y_train_set.values.ravel())\n",
    "y_model = model.predict(X_test_set)\n",
    "print('Accuracy of logistic regression classifier on test set: {:.2f}'.format(model.score(X_test_set, y_test_set)))"
   ]
  },
  {
   "cell_type": "code",
   "execution_count": 73,
   "metadata": {},
   "outputs": [
    {
     "name": "stdout",
     "output_type": "stream",
     "text": [
      "[[   0    0]\n",
      " [1124    0]]\n",
      "              precision    recall  f1-score   support\n",
      "\n",
      "         0.0       0.00      0.00      0.00         0\n",
      "         1.0       0.00      0.00      0.00      1124\n",
      "\n",
      "   micro avg       0.00      0.00      0.00      1124\n",
      "   macro avg       0.00      0.00      0.00      1124\n",
      "weighted avg       0.00      0.00      0.00      1124\n",
      "\n"
     ]
    },
    {
     "name": "stderr",
     "output_type": "stream",
     "text": [
      "C:\\Users\\mbeca\\Continuum\\anaconda3\\envs\\keras\\lib\\site-packages\\sklearn\\metrics\\classification.py:1143: UndefinedMetricWarning: Precision and F-score are ill-defined and being set to 0.0 in labels with no predicted samples.\n",
      "  'precision', 'predicted', average, warn_for)\n",
      "C:\\Users\\mbeca\\Continuum\\anaconda3\\envs\\keras\\lib\\site-packages\\sklearn\\metrics\\classification.py:1145: UndefinedMetricWarning: Recall and F-score are ill-defined and being set to 0.0 in labels with no true samples.\n",
      "  'recall', 'true', average, warn_for)\n",
      "C:\\Users\\mbeca\\Continuum\\anaconda3\\envs\\keras\\lib\\site-packages\\sklearn\\metrics\\classification.py:1143: UndefinedMetricWarning: Precision and F-score are ill-defined and being set to 0.0 in labels with no predicted samples.\n",
      "  'precision', 'predicted', average, warn_for)\n",
      "C:\\Users\\mbeca\\Continuum\\anaconda3\\envs\\keras\\lib\\site-packages\\sklearn\\metrics\\classification.py:1145: UndefinedMetricWarning: Recall and F-score are ill-defined and being set to 0.0 in labels with no true samples.\n",
      "  'recall', 'true', average, warn_for)\n",
      "C:\\Users\\mbeca\\Continuum\\anaconda3\\envs\\keras\\lib\\site-packages\\sklearn\\metrics\\classification.py:1143: UndefinedMetricWarning: Precision and F-score are ill-defined and being set to 0.0 in labels with no predicted samples.\n",
      "  'precision', 'predicted', average, warn_for)\n",
      "C:\\Users\\mbeca\\Continuum\\anaconda3\\envs\\keras\\lib\\site-packages\\sklearn\\metrics\\classification.py:1145: UndefinedMetricWarning: Recall and F-score are ill-defined and being set to 0.0 in labels with no true samples.\n",
      "  'recall', 'true', average, warn_for)\n"
     ]
    }
   ],
   "source": [
    "from sklearn.metrics import confusion_matrix\n",
    "from sklearn.metrics import classification_report\n",
    "confusion_matrix = confusion_matrix(y_test_set, y_model)\n",
    "print(confusion_matrix)\n",
    "print(classification_report(y_test_set, y_model))"
   ]
  },
  {
   "cell_type": "code",
   "execution_count": null,
   "metadata": {},
   "outputs": [],
   "source": []
  },
  {
   "cell_type": "code",
   "execution_count": null,
   "metadata": {},
   "outputs": [],
   "source": []
  },
  {
   "cell_type": "code",
   "execution_count": null,
   "metadata": {},
   "outputs": [],
   "source": []
  }
 ],
 "metadata": {
  "kernelspec": {
   "display_name": "Python 3",
   "language": "python",
   "name": "python3"
  },
  "language_info": {
   "codemirror_mode": {
    "name": "ipython",
    "version": 3
   },
   "file_extension": ".py",
   "mimetype": "text/x-python",
   "name": "python",
   "nbconvert_exporter": "python",
   "pygments_lexer": "ipython3",
   "version": "3.6.8"
  }
 },
 "nbformat": 4,
 "nbformat_minor": 2
}
