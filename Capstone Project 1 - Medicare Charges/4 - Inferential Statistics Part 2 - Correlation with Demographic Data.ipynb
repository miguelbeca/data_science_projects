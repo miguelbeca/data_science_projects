{
 "cells": [
  {
   "cell_type": "code",
   "execution_count": 1,
   "metadata": {},
   "outputs": [],
   "source": [
    "#Import statements\n",
    "from sqlalchemy import create_engine\n",
    "import cx_Oracle\n",
    "import pandas as pd\n",
    "import numpy as np\n"
   ]
  },
  {
   "cell_type": "code",
   "execution_count": 2,
   "metadata": {},
   "outputs": [],
   "source": [
    "import seaborn as sns\n",
    "import matplotlib.pyplot as plt\n",
    "\n",
    "%matplotlib inline"
   ]
  },
  {
   "cell_type": "code",
   "execution_count": 3,
   "metadata": {},
   "outputs": [],
   "source": [
    "#Connect to oracle DB\n",
    "\n",
    "host='localhost'\n",
    "port=1521\n",
    "sid='springboard'\n",
    "user='springboard'\n",
    "password='springboard123'\n",
    "sid = cx_Oracle.makedsn(host, port, sid=sid)\n",
    "\n",
    "cstr = 'oracle://{user}:{password}@{sid}'.format(\n",
    "    user=user,\n",
    "    password=password,\n",
    "    sid=sid\n",
    ")\n",
    "\n",
    "engine =  create_engine(\n",
    "    cstr,\n",
    "    convert_unicode=False,\n",
    "    pool_recycle=10,\n",
    "    pool_size=50,\n",
    "    echo=False\n",
    ")\n"
   ]
  },
  {
   "cell_type": "code",
   "execution_count": 4,
   "metadata": {},
   "outputs": [
    {
     "name": "stdout",
     "output_type": "stream",
     "text": [
      "  hcpcs_code                                  hcpcs_description  COUNT(*)\n",
      "0      G0008          Administration of influenza virus vaccine    140912\n",
      "1      36415  Insertion of needle into vein for collection o...     93570\n",
      "2      G0009             Administration of pneumococcal vaccine     89307\n",
      "3      90662    Vaccine for influenza for injection into muscle     85351\n",
      "4      93000  Routine EKG using at least 12 leads including ...     83106\n"
     ]
    }
   ],
   "source": [
    "#Let's continue with our preliminary analysis of the data\n",
    "#First let's find out which are the most common procedures\n",
    "\n",
    "query2 = engine.execute('SELECT HCPCS_CODE, HCPCS_DESCRIPTION, COUNT(*) '\n",
    "                        'FROM MEDICARECHARGESFINAL '\n",
    "                        'WHERE HCPCS_CODE NOT LIKE {} '\n",
    "                        'GROUP BY HCPCS_CODE, HCPCS_DESCRIPTION '\n",
    "                        'HAVING COUNT(*) >= 10000 '\n",
    "                        'ORDER BY COUNT(*) DESC '.format((\"'99%'\")))\n",
    "\n",
    "df2 = pd.DataFrame(query2.fetchall())\n",
    "df2.columns = query2.keys()\n",
    "print(df2.head())   "
   ]
  },
  {
   "cell_type": "code",
   "execution_count": 5,
   "metadata": {},
   "outputs": [],
   "source": [
    "#cpt_list - to be used in correlation calculation\n",
    "#cpt_list_str - CPT codes to be used in query\n",
    "# refinedList - formats cpt_list_str to be used inside SQL query\n",
    "\n",
    "cpt_list = df2['hcpcs_code'].tolist()\n",
    "\n",
    "df2['hcpcs_str'] = '\\'' + df2['hcpcs_code'] + '\\''\n",
    "df2.hcpcs_str.head()\n",
    "\n",
    "\n",
    "\n",
    "cpt_list_str = df2['hcpcs_str'].tolist()\n",
    "\n",
    "refinedList = ','.join(a for a in cpt_list_str)\n",
    "\n",
    "#values = list(zip(df2.hcpcs_description, df2.hcpcs_str))\n",
    "#values\n",
    "\n",
    "#refinedList"
   ]
  },
  {
   "cell_type": "code",
   "execution_count": 6,
   "metadata": {},
   "outputs": [
    {
     "name": "stdout",
     "output_type": "stream",
     "text": [
      "          npi hcpcs_code                                  hcpcs_description  \\\n",
      "0  1003000134      88304  Pathology examination of tissue using a micros...   \n",
      "1  1003000134      88305  Pathology examination of tissue using a micros...   \n",
      "2  1003000134      88341  Special stained specimen slides to examine tissue   \n",
      "3  1003000134      88342   Tissue or cell analysis by immunologic technique   \n",
      "4  1003000407      36556  Insertion of central venous catheter for infus...   \n",
      "5  1003000423      76830                   Ultrasound pelvis through vagina   \n",
      "6  1003000423      G0101  Cervical or vaginal cancer screening; pelvic a...   \n",
      "7  1003000423      Q0091  Screening papanicolaou smear; obtaining, prepa...   \n",
      "8  1003000522      83036                               Hemoglobin A1C level   \n",
      "9  1003000522      90662    Vaccine for influenza for injection into muscle   \n",
      "\n",
      "  st_abbr fips_st fips_co   avg_charges  \n",
      "0      IL      17     031           115  \n",
      "1      IL      17     031           170  \n",
      "2      IL      17     031            68  \n",
      "3      IL      17     031           147  \n",
      "4      PA      42     021           621  \n",
      "5      OH      39     035           200  \n",
      "6      OH      39     035  52.093023256  \n",
      "7      OH      39     035            40  \n",
      "8      FL      12     127            54  \n",
      "9      FL      12     127            55  \n"
     ]
    }
   ],
   "source": [
    "query3 = engine.execute('SELECT NPI,HCPCS_CODE, HCPCS_DESCRIPTION, ST_ABBR, FIPS_ST, FIPS_CO, '\n",
    "                            'AVERAGE_SUBMITTED_CHRG_AMT AS AVG_CHARGES '\n",
    "                            'FROM MEDICARECHARGESFINAL '\n",
    "                            'WHERE HCPCS_CODE IN ({}) '.format(refinedList))\n",
    "df3 = pd.DataFrame(query3.fetchall())\n",
    "df3.columns = query3.keys()\n",
    "print(df3.head(10)) "
   ]
  },
  {
   "cell_type": "code",
   "execution_count": 19,
   "metadata": {},
   "outputs": [],
   "source": [
    "#df3.to_csv('data/MedicareChargesDataCorr.csv',index = None)"
   ]
  },
  {
   "cell_type": "code",
   "execution_count": 7,
   "metadata": {},
   "outputs": [],
   "source": [
    "#Close DB connection\n",
    "conn = engine.connect()\n",
    "conn.close()"
   ]
  },
  {
   "cell_type": "code",
   "execution_count": 8,
   "metadata": {},
   "outputs": [
    {
     "data": {
      "text/html": [
       "<div>\n",
       "<style scoped>\n",
       "    .dataframe tbody tr th:only-of-type {\n",
       "        vertical-align: middle;\n",
       "    }\n",
       "\n",
       "    .dataframe tbody tr th {\n",
       "        vertical-align: top;\n",
       "    }\n",
       "\n",
       "    .dataframe thead th {\n",
       "        text-align: right;\n",
       "    }\n",
       "</style>\n",
       "<table border=\"1\" class=\"dataframe\">\n",
       "  <thead>\n",
       "    <tr style=\"text-align: right;\">\n",
       "      <th></th>\n",
       "      <th>npi</th>\n",
       "      <th>hcpcs_code</th>\n",
       "      <th>hcpcs_description</th>\n",
       "      <th>st_abbr</th>\n",
       "      <th>fips_st</th>\n",
       "      <th>fips_co</th>\n",
       "      <th>avg_charges</th>\n",
       "      <th>FIPS</th>\n",
       "    </tr>\n",
       "  </thead>\n",
       "  <tbody>\n",
       "    <tr>\n",
       "      <th>0</th>\n",
       "      <td>1003000134</td>\n",
       "      <td>88304</td>\n",
       "      <td>Pathology examination of tissue using a micros...</td>\n",
       "      <td>IL</td>\n",
       "      <td>17</td>\n",
       "      <td>031</td>\n",
       "      <td>115.0</td>\n",
       "      <td>17031</td>\n",
       "    </tr>\n",
       "    <tr>\n",
       "      <th>1</th>\n",
       "      <td>1003000134</td>\n",
       "      <td>88305</td>\n",
       "      <td>Pathology examination of tissue using a micros...</td>\n",
       "      <td>IL</td>\n",
       "      <td>17</td>\n",
       "      <td>031</td>\n",
       "      <td>170.0</td>\n",
       "      <td>17031</td>\n",
       "    </tr>\n",
       "    <tr>\n",
       "      <th>2</th>\n",
       "      <td>1003000134</td>\n",
       "      <td>88341</td>\n",
       "      <td>Special stained specimen slides to examine tissue</td>\n",
       "      <td>IL</td>\n",
       "      <td>17</td>\n",
       "      <td>031</td>\n",
       "      <td>68.0</td>\n",
       "      <td>17031</td>\n",
       "    </tr>\n",
       "    <tr>\n",
       "      <th>3</th>\n",
       "      <td>1003000134</td>\n",
       "      <td>88342</td>\n",
       "      <td>Tissue or cell analysis by immunologic technique</td>\n",
       "      <td>IL</td>\n",
       "      <td>17</td>\n",
       "      <td>031</td>\n",
       "      <td>147.0</td>\n",
       "      <td>17031</td>\n",
       "    </tr>\n",
       "    <tr>\n",
       "      <th>4</th>\n",
       "      <td>1003000407</td>\n",
       "      <td>36556</td>\n",
       "      <td>Insertion of central venous catheter for infus...</td>\n",
       "      <td>PA</td>\n",
       "      <td>42</td>\n",
       "      <td>021</td>\n",
       "      <td>621.0</td>\n",
       "      <td>42021</td>\n",
       "    </tr>\n",
       "  </tbody>\n",
       "</table>\n",
       "</div>"
      ],
      "text/plain": [
       "          npi hcpcs_code                                  hcpcs_description  \\\n",
       "0  1003000134      88304  Pathology examination of tissue using a micros...   \n",
       "1  1003000134      88305  Pathology examination of tissue using a micros...   \n",
       "2  1003000134      88341  Special stained specimen slides to examine tissue   \n",
       "3  1003000134      88342   Tissue or cell analysis by immunologic technique   \n",
       "4  1003000407      36556  Insertion of central venous catheter for infus...   \n",
       "\n",
       "  st_abbr fips_st fips_co  avg_charges   FIPS  \n",
       "0      IL      17     031        115.0  17031  \n",
       "1      IL      17     031        170.0  17031  \n",
       "2      IL      17     031         68.0  17031  \n",
       "3      IL      17     031        147.0  17031  \n",
       "4      PA      42     021        621.0  42021  "
      ]
     },
     "execution_count": 8,
     "metadata": {},
     "output_type": "execute_result"
    }
   ],
   "source": [
    "#Add FIPS column & convert avg_charges to floats\n",
    "df3['FIPS'] = df3['fips_st'] + df3['fips_co']\n",
    "df3['avg_charges'] = pd.to_numeric(df3.avg_charges, downcast='float')\n",
    "df3.head()\n"
   ]
  },
  {
   "cell_type": "code",
   "execution_count": 10,
   "metadata": {},
   "outputs": [
    {
     "data": {
      "text/html": [
       "<div>\n",
       "<style scoped>\n",
       "    .dataframe tbody tr th:only-of-type {\n",
       "        vertical-align: middle;\n",
       "    }\n",
       "\n",
       "    .dataframe tbody tr th {\n",
       "        vertical-align: top;\n",
       "    }\n",
       "\n",
       "    .dataframe thead th {\n",
       "        text-align: right;\n",
       "    }\n",
       "</style>\n",
       "<table border=\"1\" class=\"dataframe\">\n",
       "  <thead>\n",
       "    <tr style=\"text-align: right;\">\n",
       "      <th></th>\n",
       "      <th>FIPS</th>\n",
       "      <th>State</th>\n",
       "      <th>County</th>\n",
       "      <th>Median_income</th>\n",
       "      <th>Population</th>\n",
       "      <th>Perc_over_65</th>\n",
       "    </tr>\n",
       "  </thead>\n",
       "  <tbody>\n",
       "    <tr>\n",
       "      <th>0</th>\n",
       "      <td>01001</td>\n",
       "      <td>Alabama</td>\n",
       "      <td>Autauga</td>\n",
       "      <td>54487</td>\n",
       "      <td>55416</td>\n",
       "      <td>14.7</td>\n",
       "    </tr>\n",
       "    <tr>\n",
       "      <th>1</th>\n",
       "      <td>01003</td>\n",
       "      <td>Alabama</td>\n",
       "      <td>Baldwin</td>\n",
       "      <td>56460</td>\n",
       "      <td>208563</td>\n",
       "      <td>19.7</td>\n",
       "    </tr>\n",
       "    <tr>\n",
       "      <th>2</th>\n",
       "      <td>01005</td>\n",
       "      <td>Alabama</td>\n",
       "      <td>Barbour</td>\n",
       "      <td>32884</td>\n",
       "      <td>25965</td>\n",
       "      <td>18</td>\n",
       "    </tr>\n",
       "    <tr>\n",
       "      <th>3</th>\n",
       "      <td>01007</td>\n",
       "      <td>Alabama</td>\n",
       "      <td>Bibb</td>\n",
       "      <td>43079</td>\n",
       "      <td>22643</td>\n",
       "      <td>15.4</td>\n",
       "    </tr>\n",
       "    <tr>\n",
       "      <th>4</th>\n",
       "      <td>01009</td>\n",
       "      <td>Alabama</td>\n",
       "      <td>Blount</td>\n",
       "      <td>47213</td>\n",
       "      <td>57704</td>\n",
       "      <td>18</td>\n",
       "    </tr>\n",
       "    <tr>\n",
       "      <th>5</th>\n",
       "      <td>01011</td>\n",
       "      <td>Alabama</td>\n",
       "      <td>Bullock</td>\n",
       "      <td>34278</td>\n",
       "      <td>10362</td>\n",
       "      <td>16.3</td>\n",
       "    </tr>\n",
       "    <tr>\n",
       "      <th>6</th>\n",
       "      <td>01013</td>\n",
       "      <td>Alabama</td>\n",
       "      <td>Butler</td>\n",
       "      <td>35409</td>\n",
       "      <td>19998</td>\n",
       "      <td>19</td>\n",
       "    </tr>\n",
       "    <tr>\n",
       "      <th>7</th>\n",
       "      <td>01015</td>\n",
       "      <td>Alabama</td>\n",
       "      <td>Calhoun</td>\n",
       "      <td>41778</td>\n",
       "      <td>114611</td>\n",
       "      <td>16.9</td>\n",
       "    </tr>\n",
       "    <tr>\n",
       "      <th>8</th>\n",
       "      <td>01017</td>\n",
       "      <td>Alabama</td>\n",
       "      <td>Chambers</td>\n",
       "      <td>39530</td>\n",
       "      <td>33843</td>\n",
       "      <td>19.1</td>\n",
       "    </tr>\n",
       "    <tr>\n",
       "      <th>9</th>\n",
       "      <td>01019</td>\n",
       "      <td>Alabama</td>\n",
       "      <td>Cherokee</td>\n",
       "      <td>41456</td>\n",
       "      <td>25725</td>\n",
       "      <td>22</td>\n",
       "    </tr>\n",
       "  </tbody>\n",
       "</table>\n",
       "</div>"
      ],
      "text/plain": [
       "    FIPS    State    County Median_income Population Perc_over_65\n",
       "0  01001  Alabama   Autauga         54487      55416         14.7\n",
       "1  01003  Alabama   Baldwin         56460     208563         19.7\n",
       "2  01005  Alabama   Barbour         32884      25965           18\n",
       "3  01007  Alabama      Bibb         43079      22643         15.4\n",
       "4  01009  Alabama    Blount         47213      57704           18\n",
       "5  01011  Alabama   Bullock         34278      10362         16.3\n",
       "6  01013  Alabama    Butler         35409      19998           19\n",
       "7  01015  Alabama   Calhoun         41778     114611         16.9\n",
       "8  01017  Alabama  Chambers         39530      33843         19.1\n",
       "9  01019  Alabama  Cherokee         41456      25725           22"
      ]
     },
     "execution_count": 10,
     "metadata": {},
     "output_type": "execute_result"
    }
   ],
   "source": [
    "#Import demographics data into dataframe\n",
    "\n",
    "demo_data = pd.read_csv('data/DemographicData2016.csv', dtype ='str')\n",
    "demo_data.head(10)\n"
   ]
  },
  {
   "cell_type": "code",
   "execution_count": 11,
   "metadata": {},
   "outputs": [
    {
     "data": {
      "text/html": [
       "<div>\n",
       "<style scoped>\n",
       "    .dataframe tbody tr th:only-of-type {\n",
       "        vertical-align: middle;\n",
       "    }\n",
       "\n",
       "    .dataframe tbody tr th {\n",
       "        vertical-align: top;\n",
       "    }\n",
       "\n",
       "    .dataframe thead th {\n",
       "        text-align: right;\n",
       "    }\n",
       "</style>\n",
       "<table border=\"1\" class=\"dataframe\">\n",
       "  <thead>\n",
       "    <tr style=\"text-align: right;\">\n",
       "      <th></th>\n",
       "      <th>FIPS</th>\n",
       "      <th>State</th>\n",
       "      <th>County</th>\n",
       "      <th>Median_income</th>\n",
       "      <th>Population</th>\n",
       "      <th>Perc_over_65</th>\n",
       "    </tr>\n",
       "  </thead>\n",
       "  <tbody>\n",
       "    <tr>\n",
       "      <th>0</th>\n",
       "      <td>01001</td>\n",
       "      <td>Alabama</td>\n",
       "      <td>Autauga</td>\n",
       "      <td>54487.0</td>\n",
       "      <td>55416</td>\n",
       "      <td>14.700000</td>\n",
       "    </tr>\n",
       "    <tr>\n",
       "      <th>1</th>\n",
       "      <td>01003</td>\n",
       "      <td>Alabama</td>\n",
       "      <td>Baldwin</td>\n",
       "      <td>56460.0</td>\n",
       "      <td>208563</td>\n",
       "      <td>19.700001</td>\n",
       "    </tr>\n",
       "    <tr>\n",
       "      <th>2</th>\n",
       "      <td>01005</td>\n",
       "      <td>Alabama</td>\n",
       "      <td>Barbour</td>\n",
       "      <td>32884.0</td>\n",
       "      <td>25965</td>\n",
       "      <td>18.000000</td>\n",
       "    </tr>\n",
       "    <tr>\n",
       "      <th>3</th>\n",
       "      <td>01007</td>\n",
       "      <td>Alabama</td>\n",
       "      <td>Bibb</td>\n",
       "      <td>43079.0</td>\n",
       "      <td>22643</td>\n",
       "      <td>15.400000</td>\n",
       "    </tr>\n",
       "    <tr>\n",
       "      <th>4</th>\n",
       "      <td>01009</td>\n",
       "      <td>Alabama</td>\n",
       "      <td>Blount</td>\n",
       "      <td>47213.0</td>\n",
       "      <td>57704</td>\n",
       "      <td>18.000000</td>\n",
       "    </tr>\n",
       "  </tbody>\n",
       "</table>\n",
       "</div>"
      ],
      "text/plain": [
       "    FIPS    State   County  Median_income  Population  Perc_over_65\n",
       "0  01001  Alabama  Autauga        54487.0       55416     14.700000\n",
       "1  01003  Alabama  Baldwin        56460.0      208563     19.700001\n",
       "2  01005  Alabama  Barbour        32884.0       25965     18.000000\n",
       "3  01007  Alabama     Bibb        43079.0       22643     15.400000\n",
       "4  01009  Alabama   Blount        47213.0       57704     18.000000"
      ]
     },
     "execution_count": 11,
     "metadata": {},
     "output_type": "execute_result"
    }
   ],
   "source": [
    "demo_data['Median_income'] = pd.to_numeric(demo_data.Median_income, downcast='float')\n",
    "demo_data['Population'] = pd.to_numeric(demo_data.Population)\n",
    "demo_data['Perc_over_65'] = pd.to_numeric(demo_data.Perc_over_65, downcast='float')\n",
    "demo_data.head()"
   ]
  },
  {
   "cell_type": "code",
   "execution_count": null,
   "metadata": {},
   "outputs": [],
   "source": []
  },
  {
   "cell_type": "code",
   "execution_count": 12,
   "metadata": {},
   "outputs": [
    {
     "data": {
      "text/html": [
       "<div>\n",
       "<style scoped>\n",
       "    .dataframe tbody tr th:only-of-type {\n",
       "        vertical-align: middle;\n",
       "    }\n",
       "\n",
       "    .dataframe tbody tr th {\n",
       "        vertical-align: top;\n",
       "    }\n",
       "\n",
       "    .dataframe thead th {\n",
       "        text-align: right;\n",
       "    }\n",
       "</style>\n",
       "<table border=\"1\" class=\"dataframe\">\n",
       "  <thead>\n",
       "    <tr style=\"text-align: right;\">\n",
       "      <th></th>\n",
       "      <th>FIPS</th>\n",
       "      <th>avg_charges</th>\n",
       "    </tr>\n",
       "  </thead>\n",
       "  <tbody>\n",
       "    <tr>\n",
       "      <th>1220</th>\n",
       "      <td>13073</td>\n",
       "      <td>50.0</td>\n",
       "    </tr>\n",
       "    <tr>\n",
       "      <th>2018</th>\n",
       "      <td>48113</td>\n",
       "      <td>50.0</td>\n",
       "    </tr>\n",
       "    <tr>\n",
       "      <th>2058</th>\n",
       "      <td>54011</td>\n",
       "      <td>32.0</td>\n",
       "    </tr>\n",
       "    <tr>\n",
       "      <th>3423</th>\n",
       "      <td>48113</td>\n",
       "      <td>25.0</td>\n",
       "    </tr>\n",
       "    <tr>\n",
       "      <th>3801</th>\n",
       "      <td>39095</td>\n",
       "      <td>53.0</td>\n",
       "    </tr>\n",
       "  </tbody>\n",
       "</table>\n",
       "</div>"
      ],
      "text/plain": [
       "       FIPS  avg_charges\n",
       "1220  13073         50.0\n",
       "2018  48113         50.0\n",
       "2058  54011         32.0\n",
       "3423  48113         25.0\n",
       "3801  39095         53.0"
      ]
     },
     "execution_count": 12,
     "metadata": {},
     "output_type": "execute_result"
    }
   ],
   "source": [
    "#function to get dataframe with average charges and FIPS data\n",
    "def get_avg_charges_FIPS(data,cpt):\n",
    "    data_sel = data[data.hcpcs_code==cpt]\n",
    "    data_avg_FIPS =data_sel[['FIPS','avg_charges']]\n",
    "    return data_avg_FIPS\n",
    "\n",
    "\n",
    "data_test = get_avg_charges_FIPS(df3,'G0444')\n",
    "\n",
    "data_test.head()\n"
   ]
  },
  {
   "cell_type": "code",
   "execution_count": 13,
   "metadata": {},
   "outputs": [
    {
     "name": "stdout",
     "output_type": "stream",
     "text": [
      "       FIPS  avg_charges\n",
      "0     01003    20.000000\n",
      "1     01009    30.000000\n",
      "2     01015    25.000000\n",
      "3     01019    30.000000\n",
      "4     01021    20.000000\n",
      "5     01027    25.000000\n",
      "6     01031    19.439999\n",
      "7     01033    25.000000\n",
      "8     01045    22.000000\n",
      "9     01047    21.000000\n",
      "10    01049    20.000000\n",
      "11    01051    21.000000\n",
      "12    01053    22.000000\n",
      "13    01055    30.000000\n",
      "14    01069    22.000000\n",
      "15    01071    28.888889\n",
      "16    01073    26.000000\n",
      "17    01077    26.000000\n",
      "18    01081    75.000000\n",
      "19    01083    30.000000\n",
      "20    01087    21.000000\n",
      "21    01089    25.784554\n",
      "22    01097    33.000000\n",
      "23    01101    25.000000\n",
      "24    01103    25.000000\n",
      "25    01107    27.500000\n",
      "26    01111    35.000000\n",
      "27    01113    75.000000\n",
      "28    01115    19.712999\n",
      "29    01117    26.000000\n",
      "...     ...          ...\n",
      "1082  55017    25.000000\n",
      "1083  55021    15.000000\n",
      "1084  55025    27.252941\n",
      "1085  55027    20.000000\n",
      "1086  55059    52.000000\n",
      "1087  55063    35.530998\n",
      "1088  55079    76.000000\n",
      "1089  55089    76.000000\n",
      "1090  55101   100.000000\n",
      "1091  55105    50.838711\n",
      "1092  55109    64.760002\n",
      "1093  55117    20.000000\n",
      "1094  55131    66.237427\n",
      "1095  55133    36.000000\n",
      "1096  55141    40.000000\n",
      "1097  56003    20.000000\n",
      "1098  56025    31.060295\n",
      "1099  72005    29.375000\n",
      "1100  72013    30.000000\n",
      "1101  72023    26.969999\n",
      "1102  72025    10.000000\n",
      "1103  72029    20.000000\n",
      "1104  72041    32.314999\n",
      "1105  72087    26.416668\n",
      "1106  72091    14.620000\n",
      "1107  72097    36.822727\n",
      "1108  72127    20.000000\n",
      "1109  72131    20.000000\n",
      "1110  72145    36.000000\n",
      "1111  78030    50.000000\n",
      "\n",
      "[1112 rows x 2 columns]\n"
     ]
    }
   ],
   "source": [
    "#function to group dataframe with average charges and FIPS data by FIPS code\n",
    "def group_avg_charges_FIPS(data):\n",
    "    data_grouped = data.groupby('FIPS',as_index=False)['avg_charges'].median()\n",
    "    return data_grouped\n",
    "\n",
    "\n",
    "data_group_test = group_avg_charges_FIPS(data_test)\n",
    "\n",
    "print(data_group_test)"
   ]
  },
  {
   "cell_type": "code",
   "execution_count": 14,
   "metadata": {},
   "outputs": [
    {
     "name": "stdout",
     "output_type": "stream",
     "text": [
      "       avg_charges  Median_income  Population  Perc_over_65\n",
      "FIPS                                                       \n",
      "01003    20.000000        56460.0      208563     19.700001\n",
      "01009    30.000000        47213.0       57704     18.000000\n",
      "01015    25.000000        41778.0      114611     16.900000\n",
      "01019    30.000000        41456.0       25725     22.000000\n",
      "01021    20.000000        44188.0       43941     16.100000\n",
      "01027    25.000000        38512.0       13492     20.700001\n",
      "01031    19.439999        48632.0       51226     16.400000\n",
      "01033    25.000000        46572.0       54216     19.200001\n",
      "01045    22.000000        40523.0       49226     16.200001\n",
      "01047    21.000000        30488.0       40008     16.799999\n",
      "01049    20.000000        37128.0       70900     16.400000\n",
      "01051    21.000000        54553.0       81799     14.800000\n",
      "01053    22.000000        35096.0       37728     17.200001\n",
      "01055    30.000000        40972.0      102564     18.200001\n",
      "01069    22.000000        42910.0      104056     16.799999\n",
      "01071    28.888889        41407.0       52138     19.400000\n",
      "01073    26.000000        50109.0      659521     15.100000\n",
      "01077    26.000000        44124.0       92318     19.100000\n",
      "01081    75.000000        47749.0      158991     11.000000\n",
      "01083    30.000000        52181.0       92753     14.500000\n",
      "01087    21.000000        30681.0       18963     18.200001\n",
      "01089    25.784554        61193.0      356967     14.400000\n",
      "01097    33.000000        45233.0      414836     15.300000\n",
      "01101    25.000000        45111.0      226349     14.000000\n",
      "01103    25.000000        46843.0      119012     16.700001\n",
      "01107    27.500000        35968.0       20324     18.200001\n",
      "01111    35.000000        40283.0       22652     20.200001\n",
      "01113    75.000000        38617.0       58172     13.200000\n",
      "01115    19.712999        57856.0       88019     16.200001\n",
      "01117    26.000000        74212.0      210622     14.000000\n",
      "...            ...            ...         ...           ...\n",
      "53077    70.000000        48232.0      249636     13.400000\n",
      "54011    32.000000        39462.0       95987     17.700001\n",
      "54017    20.000000        40524.0        8413     17.600000\n",
      "54039    50.000000        44956.0      186241     19.299999\n",
      "54045    40.000000        35667.0       33700     18.900000\n",
      "54055    31.000000        36871.0       60468     20.600000\n",
      "54061    32.000000        49725.0      104622     11.400000\n",
      "54063    36.000000        38395.0       13370     23.600000\n",
      "54069    20.000000        43240.0       42516     20.299999\n",
      "54079    30.000000        56789.0       56941     17.600000\n",
      "54083    45.000000        38549.0       29006     20.799999\n",
      "54099    32.000000        40881.0       40531     19.600000\n",
      "54107    25.000000        46737.0       85643     19.200001\n",
      "55017    25.000000        54659.0       63649     17.200001\n",
      "55021    15.000000        62036.0       56927     17.000000\n",
      "55025    27.252941        70815.0      531273     12.800000\n",
      "55027    20.000000        56949.0       88068     17.200001\n",
      "55059    52.000000        59622.0      168183     13.200000\n",
      "55063    35.530998        55151.0      118122     15.600000\n",
      "55079    76.000000        47666.0      951448     12.700000\n",
      "55089    76.000000        85706.0       88314     18.600000\n",
      "55101   100.000000        56246.0      195140     15.500000\n",
      "55105    50.838711        51573.0      161620     15.800000\n",
      "55109    64.760002        75619.0       88029     13.200000\n",
      "55117    20.000000        55594.0      115427     17.200001\n",
      "55131    66.237427        74631.0      134296     16.900000\n",
      "55133    36.000000        82080.0      398424     17.600000\n",
      "55141    40.000000        52591.0       73107     19.600000\n",
      "56003    20.000000        49725.0       12005     20.100000\n",
      "56025    31.060295        60559.0       81039     13.800000\n",
      "\n",
      "[1099 rows x 4 columns]\n"
     ]
    }
   ],
   "source": [
    "#Function to merge avg_charges and demographics counts and get correlation dataset\n",
    "def get_correlation_dataset(data_charges,data_demo):\n",
    "    corr_data = pd.merge(data_charges[['FIPS','avg_charges']], data_demo[['FIPS','Median_income','Population','Perc_over_65']], on='FIPS')\n",
    "    corr_data.set_index('FIPS', inplace=True)\n",
    "    return corr_data\n",
    "\n",
    "correl_dataset = get_correlation_dataset(data_group_test,demo_data)\n",
    "print(correl_dataset)"
   ]
  },
  {
   "cell_type": "code",
   "execution_count": 15,
   "metadata": {},
   "outputs": [
    {
     "name": "stdout",
     "output_type": "stream",
     "text": [
      "-0.057558498967864594\n"
     ]
    }
   ],
   "source": [
    "correlation = correl_dataset['avg_charges'].corr(correl_dataset['Perc_over_65'])\n",
    "print(correlation)\n",
    "#correl_dataset.corr()"
   ]
  },
  {
   "cell_type": "code",
   "execution_count": 16,
   "metadata": {},
   "outputs": [],
   "source": [
    "def generate_corr_dict(data,demographics_data,cpt_list):\n",
    "    median_inc_corr_dict = {}\n",
    "    popul_corr_dict = {}\n",
    "    over65_corr_dict = {}\n",
    "    for cpt in cpt_list:\n",
    "        avg_charges_data = get_avg_charges_FIPS(data,cpt)\n",
    "        grouped_charges_data = group_avg_charges_FIPS(avg_charges_data)\n",
    "        correl_data = get_correlation_dataset(grouped_charges_data,demographics_data)\n",
    "        #Calculate correlation between avg charges and median income\n",
    "        correl_med_income = correl_data['avg_charges'].corr(correl_data['Median_income'])\n",
    "        median_inc_corr_dict[cpt]=correl_med_income\n",
    "        #Calculate correlation between avg charges and county population\n",
    "        correl_popul = correl_data['avg_charges'].corr(correl_data['Population'])\n",
    "        popul_corr_dict[cpt]=correl_popul\n",
    "        #Calculate correlation between avg charges and # population over 65\n",
    "        correl_over65 = correl_data['avg_charges'].corr(correl_data['Perc_over_65'])\n",
    "        over65_corr_dict[cpt]=correl_over65\n",
    "    return (median_inc_corr_dict, popul_corr_dict, over65_corr_dict)     \n",
    "\n",
    "median_dict, population_dict, over65_dict = generate_corr_dict(df3,demo_data,cpt_list)\n",
    "\n",
    "#print(test_dict1)"
   ]
  },
  {
   "cell_type": "code",
   "execution_count": 20,
   "metadata": {},
   "outputs": [
    {
     "name": "stdout",
     "output_type": "stream",
     "text": [
      "160\n"
     ]
    }
   ],
   "source": [
    "print(len(population_dict))\n",
    "#corr_df = pd.DataFrame(test_dict.items())\n",
    "#corr_df.head(10)"
   ]
  },
  {
   "cell_type": "code",
   "execution_count": 22,
   "metadata": {},
   "outputs": [
    {
     "data": {
      "image/png": "[encoded data removed]",
      "text/plain": [
       "<Figure size 432x288 with 1 Axes>"
      ]
     },
     "metadata": {
      "needs_background": "light"
     },
     "output_type": "display_data"
    }
   ],
   "source": [
    "#Plot Median Income vs Avg Charges correlation\n",
    "\n",
    "x = pd.Series(list(median_dict.values()), name=\"Correlation between Median Charges and Median Income\")\n",
    "\n",
    "#print(x)\n",
    "ax = sns.distplot(x)"
   ]
  },
  {
   "cell_type": "code",
   "execution_count": 23,
   "metadata": {},
   "outputs": [
    {
     "data": {
      "image/png": "[encoded data removed]",
      "text/plain": [
       "<Figure size 432x288 with 1 Axes>"
      ]
     },
     "metadata": {
      "needs_background": "light"
     },
     "output_type": "display_data"
    }
   ],
   "source": [
    "#Plot Population vs Avg Charges correlation\n",
    "\n",
    "y = pd.Series(list(population_dict.values()), name=\"Correlation between Median Charges and Population\")\n",
    "\n",
    "ax = sns.distplot(y)"
   ]
  },
  {
   "cell_type": "code",
   "execution_count": 24,
   "metadata": {},
   "outputs": [
    {
     "data": {
      "image/png": "[encoded data removed]",
      "text/plain": [
       "<Figure size 432x288 with 1 Axes>"
      ]
     },
     "metadata": {
      "needs_background": "light"
     },
     "output_type": "display_data"
    }
   ],
   "source": [
    "#Plot % Population over 65 vs Avg Charges correlation\n",
    "\n",
    "z = pd.Series(list(over65_dict.values()), name=\"Correlation between Median Charges and % Population over 65\")\n",
    "\n",
    "ax = sns.distplot(z)"
   ]
  },
  {
   "cell_type": "code",
   "execution_count": null,
   "metadata": {},
   "outputs": [],
   "source": []
  }
 ],
 "metadata": {
  "kernelspec": {
   "display_name": "Python 3",
   "language": "python",
   "name": "python3"
  },
  "language_info": {
   "codemirror_mode": {
    "name": "ipython",
    "version": 3
   },
   "file_extension": ".py",
   "mimetype": "text/x-python",
   "name": "python",
   "nbconvert_exporter": "python",
   "pygments_lexer": "ipython3",
   "version": "3.7.1"
  }
 },
 "nbformat": 4,
 "nbformat_minor": 2
}
