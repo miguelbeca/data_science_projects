{
 "cells": [
  {
   "cell_type": "code",
   "execution_count": 1,
   "metadata": {},
   "outputs": [],
   "source": [
    "#Import statements\n",
    "from sqlalchemy import create_engine\n",
    "import cx_Oracle\n",
    "import pandas as pd\n",
    "import numpy as np"
   ]
  },
  {
   "cell_type": "code",
   "execution_count": 2,
   "metadata": {},
   "outputs": [],
   "source": [
    "#Connect to oracle DB\n",
    "\n",
    "host='localhost'\n",
    "port=1521\n",
    "sid='springboard'\n",
    "user='springboard'\n",
    "password='springboard123'\n",
    "sid = cx_Oracle.makedsn(host, port, sid=sid)\n",
    "\n",
    "cstr = 'oracle://{user}:{password}@{sid}'.format(\n",
    "    user=user,\n",
    "    password=password,\n",
    "    sid=sid\n",
    ")\n",
    "\n",
    "engine =  create_engine(\n",
    "    cstr,\n",
    "    convert_unicode=False,\n",
    "    pool_recycle=10,\n",
    "    pool_size=50,\n",
    "    echo=False\n",
    ")\n"
   ]
  },
  {
   "cell_type": "code",
   "execution_count": 3,
   "metadata": {},
   "outputs": [
    {
     "name": "stdout",
     "output_type": "stream",
     "text": [
      "   hcpcs_code                                  hcpcs_description  COUNT(*)\n",
      "0       G0008          Administration of influenza virus vaccine    140912\n",
      "1       36415  Insertion of needle into vein for collection o...     93570\n",
      "2       G0009             Administration of pneumococcal vaccine     89307\n",
      "3       90662    Vaccine for influenza for injection into muscle     85351\n",
      "4       93000  Routine EKG using at least 12 leads including ...     83106\n",
      "5       90670     Pneumococcal vaccine for injection into muscle     77801\n",
      "6       G0439  Annual wellness visit, includes a personalized...     65776\n",
      "7       96372  Injection beneath the skin or into muscle for ...     65172\n",
      "8       71020            X-ray of chest, 2 views, front and side     64092\n",
      "9       93010  Routine electrocardiogram (EKG) using at least...     57268\n",
      "10      20610  Aspiration and/or injection of large joint or ...     46129\n",
      "11      81002                            Urinalysis, manual test     43938\n",
      "12      97110  Therapeutic exercise to develop strength, endu...     43149\n",
      "13      73030              X-ray of shoulder, minimum of 2 views     41120\n",
      "14      81003                          Automated urinalysis test     39617\n",
      "15      00740  Anesthesia for procedure on gastrointestinal t...     39370\n",
      "16      83036                               Hemoglobin A1C level     38677\n",
      "17      73502                X-ray of hip with pelvis, 2-3 views     38652\n",
      "18      93306  Ultrasound examination of heart including colo...     38282\n",
      "19      97140  Manual (physical) therapy techniques to 1 or m...     37587\n"
     ]
    }
   ],
   "source": [
    "#Let's continue with our preliminary analysis of the data\n",
    "#First let's find out which are the most common procedures\n",
    "\n",
    "query2 = engine.execute('SELECT HCPCS_CODE, HCPCS_DESCRIPTION, COUNT(*) '\n",
    "                        'FROM MEDICARECHARGESFINAL '\n",
    "                        'WHERE HCPCS_CODE NOT LIKE {} '\n",
    "                        'GROUP BY HCPCS_CODE, HCPCS_DESCRIPTION '\n",
    "                        'ORDER BY COUNT(*) DESC '\n",
    "                        'FETCH FIRST 20 ROWS ONLY'.format((\"'99%'\")))\n",
    "\n",
    "df2 = pd.DataFrame(query2.fetchall())\n",
    "df2.columns = query2.keys()\n",
    "print(df2.head(25))   "
   ]
  },
  {
   "cell_type": "code",
   "execution_count": 4,
   "metadata": {},
   "outputs": [
    {
     "data": {
      "text/plain": [
       "\"'G0008','36415','G0009','90662','93000','90670','G0439','96372','71020','93010','20610','81002','97110','73030','81003','00740','83036','73502','93306','97140'\""
      ]
     },
     "execution_count": 4,
     "metadata": {},
     "output_type": "execute_result"
    }
   ],
   "source": [
    "df2['hcpcs_str'] = '\\'' + df2['hcpcs_code'] + '\\''\n",
    "df2.hcpcs_str.head()\n",
    "\n",
    "cpt_list = df2['hcpcs_str'].tolist()\n",
    "\n",
    "refinedList = ','.join(a for a in cpt_list)\n",
    "\n",
    "#values = list(zip(df2.hcpcs_description, df2.hcpcs_str))\n",
    "#values\n",
    "\n",
    "refinedList"
   ]
  },
  {
   "cell_type": "code",
   "execution_count": 17,
   "metadata": {},
   "outputs": [
    {
     "name": "stdout",
     "output_type": "stream",
     "text": [
      "          npi hcpcs_code                                  hcpcs_description  \\\n",
      "0  1003000522      83036                               Hemoglobin A1C level   \n",
      "1  1003000522      90662    Vaccine for influenza for injection into muscle   \n",
      "2  1003000522      90670     Pneumococcal vaccine for injection into muscle   \n",
      "3  1003000522      93010  Routine electrocardiogram (EKG) using at least...   \n",
      "4  1003000522      G0008          Administration of influenza virus vaccine   \n",
      "5  1003000522      G0009             Administration of pneumococcal vaccine   \n",
      "6  1003000522      G0439  Annual wellness visit, includes a personalized...   \n",
      "7  1003000597      81002                            Urinalysis, manual test   \n",
      "8  1003000597      81003                          Automated urinalysis test   \n",
      "9  1003000829      97110  Therapeutic exercise to develop strength, endu...   \n",
      "\n",
      "  st_abbr fips_st fips_co   avg_charges  \n",
      "0      FL      12     127            54  \n",
      "1      FL      12     127            55  \n",
      "2      FL      12     127           272  \n",
      "3      FL      12     127  21.285714286  \n",
      "4      FL      12     127            73  \n",
      "5      FL      12     127           141  \n",
      "6      FL      12     127        298.64  \n",
      "7      TX      48     201             7  \n",
      "8      TX      48     201             7  \n",
      "9      CO      08     031  37.439215686  \n"
     ]
    }
   ],
   "source": [
    "query3 = engine.execute('SELECT NPI,HCPCS_CODE, HCPCS_DESCRIPTION, ST_ABBR, FIPS_ST, FIPS_CO, '\n",
    "                            'AVERAGE_SUBMITTED_CHRG_AMT AS AVG_CHARGES '\n",
    "                            'FROM MEDICARECHARGESFINAL '\n",
    "                            'WHERE HCPCS_CODE IN ({}) '.format(refinedList))\n",
    "df3 = pd.DataFrame(query3.fetchall())\n",
    "df3.columns = query3.keys()\n",
    "print(df3.head(10)) "
   ]
  },
  {
   "cell_type": "code",
   "execution_count": 19,
   "metadata": {},
   "outputs": [],
   "source": [
    "df3.to_csv('data/MedicareChargesData.csv',index = None)"
   ]
  },
  {
   "cell_type": "code",
   "execution_count": 20,
   "metadata": {},
   "outputs": [],
   "source": [
    "#Close DB connection\n",
    "conn = engine.connect()\n",
    "conn.close()"
   ]
  }
 ],
 "metadata": {
  "kernelspec": {
   "display_name": "Python 3",
   "language": "python",
   "name": "python3"
  },
  "language_info": {
   "codemirror_mode": {
    "name": "ipython",
    "version": 3
   },
   "file_extension": ".py",
   "mimetype": "text/x-python",
   "name": "python",
   "nbconvert_exporter": "python",
   "pygments_lexer": "ipython3",
   "version": "3.7.1"
  }
 },
 "nbformat": 4,
 "nbformat_minor": 2
}
