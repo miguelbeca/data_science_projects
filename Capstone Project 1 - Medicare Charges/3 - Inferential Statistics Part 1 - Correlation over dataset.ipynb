{
 "cells": [
  {
   "cell_type": "code",
   "execution_count": 1,
   "metadata": {},
   "outputs": [],
   "source": [
    "#Import statements\n",
    "from sqlalchemy import create_engine\n",
    "import cx_Oracle\n",
    "import pandas as pd\n",
    "import numpy as np"
   ]
  },
  {
   "cell_type": "code",
   "execution_count": 2,
   "metadata": {},
   "outputs": [],
   "source": [
    "import seaborn as sns\n",
    "import matplotlib.pyplot as plt\n",
    "\n",
    "%matplotlib inline"
   ]
  },
  {
   "cell_type": "code",
   "execution_count": 4,
   "metadata": {},
   "outputs": [],
   "source": [
    "#Connect to oracle DB\n",
    "\n",
    "host='localhost'\n",
    "port=1521\n",
    "sid='springboard'\n",
    "user='springboard'\n",
    "password='springboard123'\n",
    "sid = cx_Oracle.makedsn(host, port, sid=sid)\n",
    "\n",
    "cstr = 'oracle://{user}:{password}@{sid}'.format(\n",
    "    user=user,\n",
    "    password=password,\n",
    "    sid=sid\n",
    ")\n",
    "\n",
    "engine =  create_engine(\n",
    "    cstr,\n",
    "    convert_unicode=False,\n",
    "    pool_recycle=10,\n",
    "    pool_size=50,\n",
    "    echo=False\n",
    ")\n"
   ]
  },
  {
   "cell_type": "code",
   "execution_count": 5,
   "metadata": {
    "scrolled": true
   },
   "outputs": [
    {
     "name": "stdout",
     "output_type": "stream",
     "text": [
      "  hcpcs_code                                  hcpcs_description  COUNT(*)\n",
      "0      G0008          Administration of influenza virus vaccine    140912\n",
      "1      36415  Insertion of needle into vein for collection o...     93570\n",
      "2      G0009             Administration of pneumococcal vaccine     89307\n",
      "3      90662    Vaccine for influenza for injection into muscle     85351\n",
      "4      93000  Routine EKG using at least 12 leads including ...     83106\n"
     ]
    }
   ],
   "source": [
    "#Let's continue with our preliminary analysis of the data\n",
    "#First let's find out which are the most common procedures\n",
    "\n",
    "query2 = engine.execute('SELECT HCPCS_CODE, HCPCS_DESCRIPTION, COUNT(*) '\n",
    "                        'FROM MEDICARECHARGESFINAL '\n",
    "                        'WHERE HCPCS_CODE NOT LIKE {} '\n",
    "                        'GROUP BY HCPCS_CODE, HCPCS_DESCRIPTION '\n",
    "                        'HAVING COUNT(*) >= 10000 '\n",
    "                        'ORDER BY COUNT(*) DESC '.format((\"'99%'\")))\n",
    "\n",
    "df2 = pd.DataFrame(query2.fetchall())\n",
    "df2.columns = query2.keys()\n",
    "print(df2.head())   "
   ]
  },
  {
   "cell_type": "code",
   "execution_count": 6,
   "metadata": {},
   "outputs": [],
   "source": [
    "#cpt_list - to be used in correlation calculation\n",
    "#cpt_list_str - CPT codes to be used in query\n",
    "# refinedList - formats cpt_list_str to be used inside SQL query\n",
    "\n",
    "cpt_list = df2['hcpcs_code'].tolist()\n",
    "\n",
    "df2['hcpcs_str'] = '\\'' + df2['hcpcs_code'] + '\\''\n",
    "df2.hcpcs_str.head()\n",
    "\n",
    "\n",
    "\n",
    "cpt_list_str = df2['hcpcs_str'].tolist()\n",
    "\n",
    "refinedList = ','.join(a for a in cpt_list_str)"
   ]
  },
  {
   "cell_type": "code",
   "execution_count": 7,
   "metadata": {},
   "outputs": [
    {
     "name": "stdout",
     "output_type": "stream",
     "text": [
      "          npi hcpcs_code                                  hcpcs_description  \\\n",
      "0  1003000134      88304  Pathology examination of tissue using a micros...   \n",
      "1  1003000134      88305  Pathology examination of tissue using a micros...   \n",
      "2  1003000134      88341  Special stained specimen slides to examine tissue   \n",
      "3  1003000134      88342   Tissue or cell analysis by immunologic technique   \n",
      "4  1003000407      36556  Insertion of central venous catheter for infus...   \n",
      "\n",
      "  st_abbr fips_st fips_co avg_charges  \n",
      "0      IL      17     031         115  \n",
      "1      IL      17     031         170  \n",
      "2      IL      17     031          68  \n",
      "3      IL      17     031         147  \n",
      "4      PA      42     021         621  \n"
     ]
    }
   ],
   "source": [
    "query3 = engine.execute('SELECT NPI,HCPCS_CODE, HCPCS_DESCRIPTION, ST_ABBR, FIPS_ST, FIPS_CO, '\n",
    "                            'AVERAGE_SUBMITTED_CHRG_AMT AS AVG_CHARGES '\n",
    "                            'FROM MEDICARECHARGESFINAL '\n",
    "                            'WHERE HCPCS_CODE IN ({}) '.format(refinedList))\n",
    "df3 = pd.DataFrame(query3.fetchall())\n",
    "df3.columns = query3.keys()\n",
    "print(df3.head()) "
   ]
  },
  {
   "cell_type": "code",
   "execution_count": 19,
   "metadata": {},
   "outputs": [],
   "source": [
    "#df3.to_csv('data/MedicareChargesDataCorr.csv',index = None)"
   ]
  },
  {
   "cell_type": "code",
   "execution_count": 8,
   "metadata": {},
   "outputs": [],
   "source": [
    "#Close DB connection\n",
    "conn = engine.connect()\n",
    "conn.close()"
   ]
  },
  {
   "cell_type": "code",
   "execution_count": 9,
   "metadata": {},
   "outputs": [
    {
     "data": {
      "text/html": [
       "<div>\n",
       "<style scoped>\n",
       "    .dataframe tbody tr th:only-of-type {\n",
       "        vertical-align: middle;\n",
       "    }\n",
       "\n",
       "    .dataframe tbody tr th {\n",
       "        vertical-align: top;\n",
       "    }\n",
       "\n",
       "    .dataframe thead th {\n",
       "        text-align: right;\n",
       "    }\n",
       "</style>\n",
       "<table border=\"1\" class=\"dataframe\">\n",
       "  <thead>\n",
       "    <tr style=\"text-align: right;\">\n",
       "      <th></th>\n",
       "      <th>npi</th>\n",
       "      <th>hcpcs_code</th>\n",
       "      <th>hcpcs_description</th>\n",
       "      <th>st_abbr</th>\n",
       "      <th>fips_st</th>\n",
       "      <th>fips_co</th>\n",
       "      <th>avg_charges</th>\n",
       "      <th>FIPS</th>\n",
       "    </tr>\n",
       "  </thead>\n",
       "  <tbody>\n",
       "    <tr>\n",
       "      <th>0</th>\n",
       "      <td>1003000134</td>\n",
       "      <td>88304</td>\n",
       "      <td>Pathology examination of tissue using a micros...</td>\n",
       "      <td>IL</td>\n",
       "      <td>17</td>\n",
       "      <td>031</td>\n",
       "      <td>115.0</td>\n",
       "      <td>17031</td>\n",
       "    </tr>\n",
       "    <tr>\n",
       "      <th>1</th>\n",
       "      <td>1003000134</td>\n",
       "      <td>88305</td>\n",
       "      <td>Pathology examination of tissue using a micros...</td>\n",
       "      <td>IL</td>\n",
       "      <td>17</td>\n",
       "      <td>031</td>\n",
       "      <td>170.0</td>\n",
       "      <td>17031</td>\n",
       "    </tr>\n",
       "    <tr>\n",
       "      <th>2</th>\n",
       "      <td>1003000134</td>\n",
       "      <td>88341</td>\n",
       "      <td>Special stained specimen slides to examine tissue</td>\n",
       "      <td>IL</td>\n",
       "      <td>17</td>\n",
       "      <td>031</td>\n",
       "      <td>68.0</td>\n",
       "      <td>17031</td>\n",
       "    </tr>\n",
       "    <tr>\n",
       "      <th>3</th>\n",
       "      <td>1003000134</td>\n",
       "      <td>88342</td>\n",
       "      <td>Tissue or cell analysis by immunologic technique</td>\n",
       "      <td>IL</td>\n",
       "      <td>17</td>\n",
       "      <td>031</td>\n",
       "      <td>147.0</td>\n",
       "      <td>17031</td>\n",
       "    </tr>\n",
       "    <tr>\n",
       "      <th>4</th>\n",
       "      <td>1003000407</td>\n",
       "      <td>36556</td>\n",
       "      <td>Insertion of central venous catheter for infus...</td>\n",
       "      <td>PA</td>\n",
       "      <td>42</td>\n",
       "      <td>021</td>\n",
       "      <td>621.0</td>\n",
       "      <td>42021</td>\n",
       "    </tr>\n",
       "  </tbody>\n",
       "</table>\n",
       "</div>"
      ],
      "text/plain": [
       "          npi hcpcs_code                                  hcpcs_description  \\\n",
       "0  1003000134      88304  Pathology examination of tissue using a micros...   \n",
       "1  1003000134      88305  Pathology examination of tissue using a micros...   \n",
       "2  1003000134      88341  Special stained specimen slides to examine tissue   \n",
       "3  1003000134      88342   Tissue or cell analysis by immunologic technique   \n",
       "4  1003000407      36556  Insertion of central venous catheter for infus...   \n",
       "\n",
       "  st_abbr fips_st fips_co  avg_charges   FIPS  \n",
       "0      IL      17     031        115.0  17031  \n",
       "1      IL      17     031        170.0  17031  \n",
       "2      IL      17     031         68.0  17031  \n",
       "3      IL      17     031        147.0  17031  \n",
       "4      PA      42     021        621.0  42021  "
      ]
     },
     "execution_count": 9,
     "metadata": {},
     "output_type": "execute_result"
    }
   ],
   "source": [
    "#Add FIPS column & convert avg_charges to floats\n",
    "df3['FIPS'] = df3['fips_st'] + df3['fips_co']\n",
    "df3['avg_charges'] = pd.to_numeric(df3.avg_charges, downcast='float')\n",
    "df3.head()"
   ]
  },
  {
   "cell_type": "code",
   "execution_count": 13,
   "metadata": {},
   "outputs": [
    {
     "data": {
      "text/html": [
       "<div>\n",
       "<style scoped>\n",
       "    .dataframe tbody tr th:only-of-type {\n",
       "        vertical-align: middle;\n",
       "    }\n",
       "\n",
       "    .dataframe tbody tr th {\n",
       "        vertical-align: top;\n",
       "    }\n",
       "\n",
       "    .dataframe thead th {\n",
       "        text-align: right;\n",
       "    }\n",
       "</style>\n",
       "<table border=\"1\" class=\"dataframe\">\n",
       "  <thead>\n",
       "    <tr style=\"text-align: right;\">\n",
       "      <th></th>\n",
       "      <th>FIPS</th>\n",
       "      <th>avg_charges</th>\n",
       "    </tr>\n",
       "  </thead>\n",
       "  <tbody>\n",
       "    <tr>\n",
       "      <th>1220</th>\n",
       "      <td>13073</td>\n",
       "      <td>50.0</td>\n",
       "    </tr>\n",
       "    <tr>\n",
       "      <th>2018</th>\n",
       "      <td>48113</td>\n",
       "      <td>50.0</td>\n",
       "    </tr>\n",
       "    <tr>\n",
       "      <th>2058</th>\n",
       "      <td>54011</td>\n",
       "      <td>32.0</td>\n",
       "    </tr>\n",
       "    <tr>\n",
       "      <th>3423</th>\n",
       "      <td>48113</td>\n",
       "      <td>25.0</td>\n",
       "    </tr>\n",
       "    <tr>\n",
       "      <th>3801</th>\n",
       "      <td>39095</td>\n",
       "      <td>53.0</td>\n",
       "    </tr>\n",
       "  </tbody>\n",
       "</table>\n",
       "</div>"
      ],
      "text/plain": [
       "       FIPS  avg_charges\n",
       "1220  13073         50.0\n",
       "2018  48113         50.0\n",
       "2058  54011         32.0\n",
       "3423  48113         25.0\n",
       "3801  39095         53.0"
      ]
     },
     "execution_count": 13,
     "metadata": {},
     "output_type": "execute_result"
    }
   ],
   "source": [
    "#function to get dataframe with average charges and FIPS data\n",
    "def get_avg_charges_FIPS(data,cpt):\n",
    "    data_sel = data[data.hcpcs_code==cpt]\n",
    "    data_avg_FIPS =data_sel[['FIPS','avg_charges']]\n",
    "    return data_avg_FIPS\n",
    "\n",
    "#Test data for function\n",
    "data_test = get_avg_charges_FIPS(df3,'G0444')\n",
    "data_test.head()"
   ]
  },
  {
   "cell_type": "code",
   "execution_count": 14,
   "metadata": {},
   "outputs": [
    {
     "data": {
      "text/html": [
       "<div>\n",
       "<style scoped>\n",
       "    .dataframe tbody tr th:only-of-type {\n",
       "        vertical-align: middle;\n",
       "    }\n",
       "\n",
       "    .dataframe tbody tr th {\n",
       "        vertical-align: top;\n",
       "    }\n",
       "\n",
       "    .dataframe thead th {\n",
       "        text-align: right;\n",
       "    }\n",
       "</style>\n",
       "<table border=\"1\" class=\"dataframe\">\n",
       "  <thead>\n",
       "    <tr style=\"text-align: right;\">\n",
       "      <th></th>\n",
       "      <th>FIPS</th>\n",
       "      <th>avg_charges</th>\n",
       "    </tr>\n",
       "  </thead>\n",
       "  <tbody>\n",
       "    <tr>\n",
       "      <th>0</th>\n",
       "      <td>01003</td>\n",
       "      <td>20.0</td>\n",
       "    </tr>\n",
       "    <tr>\n",
       "      <th>1</th>\n",
       "      <td>01009</td>\n",
       "      <td>30.0</td>\n",
       "    </tr>\n",
       "    <tr>\n",
       "      <th>2</th>\n",
       "      <td>01015</td>\n",
       "      <td>25.0</td>\n",
       "    </tr>\n",
       "    <tr>\n",
       "      <th>3</th>\n",
       "      <td>01019</td>\n",
       "      <td>30.0</td>\n",
       "    </tr>\n",
       "    <tr>\n",
       "      <th>4</th>\n",
       "      <td>01021</td>\n",
       "      <td>20.0</td>\n",
       "    </tr>\n",
       "  </tbody>\n",
       "</table>\n",
       "</div>"
      ],
      "text/plain": [
       "    FIPS  avg_charges\n",
       "0  01003         20.0\n",
       "1  01009         30.0\n",
       "2  01015         25.0\n",
       "3  01019         30.0\n",
       "4  01021         20.0"
      ]
     },
     "execution_count": 14,
     "metadata": {},
     "output_type": "execute_result"
    }
   ],
   "source": [
    "#function to group dataframe with average charges and FIPS data by FIPS code\n",
    "def group_avg_charges_FIPS(data):\n",
    "    data_grouped = data.groupby('FIPS',as_index=False)['avg_charges'].median()\n",
    "    return data_grouped\n",
    "\n",
    "#Test data for function\n",
    "data_group_test = group_avg_charges_FIPS(data_test)\n",
    "data_group_test.head()"
   ]
  },
  {
   "cell_type": "code",
   "execution_count": 15,
   "metadata": {},
   "outputs": [
    {
     "data": {
      "text/html": [
       "<div>\n",
       "<style scoped>\n",
       "    .dataframe tbody tr th:only-of-type {\n",
       "        vertical-align: middle;\n",
       "    }\n",
       "\n",
       "    .dataframe tbody tr th {\n",
       "        vertical-align: top;\n",
       "    }\n",
       "\n",
       "    .dataframe thead th {\n",
       "        text-align: right;\n",
       "    }\n",
       "</style>\n",
       "<table border=\"1\" class=\"dataframe\">\n",
       "  <thead>\n",
       "    <tr style=\"text-align: right;\">\n",
       "      <th></th>\n",
       "      <th>FIPS</th>\n",
       "      <th>npi</th>\n",
       "    </tr>\n",
       "  </thead>\n",
       "  <tbody>\n",
       "    <tr>\n",
       "      <th>0</th>\n",
       "      <td>01003</td>\n",
       "      <td>7</td>\n",
       "    </tr>\n",
       "    <tr>\n",
       "      <th>1</th>\n",
       "      <td>01009</td>\n",
       "      <td>2</td>\n",
       "    </tr>\n",
       "    <tr>\n",
       "      <th>2</th>\n",
       "      <td>01015</td>\n",
       "      <td>9</td>\n",
       "    </tr>\n",
       "    <tr>\n",
       "      <th>3</th>\n",
       "      <td>01019</td>\n",
       "      <td>1</td>\n",
       "    </tr>\n",
       "    <tr>\n",
       "      <th>4</th>\n",
       "      <td>01021</td>\n",
       "      <td>1</td>\n",
       "    </tr>\n",
       "  </tbody>\n",
       "</table>\n",
       "</div>"
      ],
      "text/plain": [
       "    FIPS  npi\n",
       "0  01003    7\n",
       "1  01009    2\n",
       "2  01015    9\n",
       "3  01019    1\n",
       "4  01021    1"
      ]
     },
     "execution_count": 15,
     "metadata": {},
     "output_type": "execute_result"
    }
   ],
   "source": [
    "#function to group dataframe with numper of providers by county using FIPS code\n",
    "def group_prov_FIPS(data,cpt):\n",
    "    data_sel = data[data.hcpcs_code==cpt]\n",
    "    npi_grouped = data_sel.groupby('FIPS',as_index=False)['npi'].count()\n",
    "    return npi_grouped\n",
    "\n",
    "#Test data for function\n",
    "data_npi_group_test = group_prov_FIPS(df3,'G0444')\n",
    "data_npi_group_test.head()"
   ]
  },
  {
   "cell_type": "code",
   "execution_count": 17,
   "metadata": {},
   "outputs": [
    {
     "data": {
      "text/html": [
       "<div>\n",
       "<style scoped>\n",
       "    .dataframe tbody tr th:only-of-type {\n",
       "        vertical-align: middle;\n",
       "    }\n",
       "\n",
       "    .dataframe tbody tr th {\n",
       "        vertical-align: top;\n",
       "    }\n",
       "\n",
       "    .dataframe thead th {\n",
       "        text-align: right;\n",
       "    }\n",
       "</style>\n",
       "<table border=\"1\" class=\"dataframe\">\n",
       "  <thead>\n",
       "    <tr style=\"text-align: right;\">\n",
       "      <th></th>\n",
       "      <th>avg_charges</th>\n",
       "      <th>npi</th>\n",
       "    </tr>\n",
       "    <tr>\n",
       "      <th>FIPS</th>\n",
       "      <th></th>\n",
       "      <th></th>\n",
       "    </tr>\n",
       "  </thead>\n",
       "  <tbody>\n",
       "    <tr>\n",
       "      <th>01003</th>\n",
       "      <td>20.0</td>\n",
       "      <td>7</td>\n",
       "    </tr>\n",
       "    <tr>\n",
       "      <th>01009</th>\n",
       "      <td>30.0</td>\n",
       "      <td>2</td>\n",
       "    </tr>\n",
       "    <tr>\n",
       "      <th>01015</th>\n",
       "      <td>25.0</td>\n",
       "      <td>9</td>\n",
       "    </tr>\n",
       "    <tr>\n",
       "      <th>01019</th>\n",
       "      <td>30.0</td>\n",
       "      <td>1</td>\n",
       "    </tr>\n",
       "    <tr>\n",
       "      <th>01021</th>\n",
       "      <td>20.0</td>\n",
       "      <td>1</td>\n",
       "    </tr>\n",
       "  </tbody>\n",
       "</table>\n",
       "</div>"
      ],
      "text/plain": [
       "       avg_charges  npi\n",
       "FIPS                   \n",
       "01003         20.0    7\n",
       "01009         30.0    2\n",
       "01015         25.0    9\n",
       "01019         30.0    1\n",
       "01021         20.0    1"
      ]
     },
     "execution_count": 17,
     "metadata": {},
     "output_type": "execute_result"
    }
   ],
   "source": [
    "#Function to merge avg_charges and NPI counts and get correlation dataset\n",
    "def get_correlation_dataset(data_charges,data_npi):\n",
    "    corr_data = pd.merge(data_charges[['FIPS','avg_charges']], data_npi[['FIPS','npi']], on='FIPS')\n",
    "    corr_data.set_index('FIPS', inplace=True)\n",
    "    return corr_data\n",
    "\n",
    "#Test data for function\n",
    "correl_dataset = get_correlation_dataset(data_group_test,data_npi_group_test )\n",
    "correl_dataset.head()"
   ]
  },
  {
   "cell_type": "code",
   "execution_count": 19,
   "metadata": {},
   "outputs": [],
   "source": [
    "#Generate correlation dictionary for all relevant cpt codes\n",
    "def generate_corr_dict(data,cpt_list):\n",
    "    corr_dict = {}\n",
    "    for cpt in cpt_list:\n",
    "        avg_charges_data = get_avg_charges_FIPS(data,cpt)\n",
    "        grouped_charges_data = group_avg_charges_FIPS(avg_charges_data)\n",
    "        npi_grouped_data = group_prov_FIPS(data,cpt)\n",
    "        correl_data = get_correlation_dataset(grouped_charges_data,npi_grouped_data)\n",
    "        correlation = correl_data['avg_charges'].corr(correl_data['npi'])\n",
    "        corr_dict[cpt]=correlation\n",
    "    return corr_dict    \n",
    "\n",
    "test_dict = generate_corr_dict(df3,cpt_list)\n"
   ]
  },
  {
   "cell_type": "code",
   "execution_count": 23,
   "metadata": {},
   "outputs": [
    {
     "data": {
      "text/html": [
       "<div>\n",
       "<style scoped>\n",
       "    .dataframe tbody tr th:only-of-type {\n",
       "        vertical-align: middle;\n",
       "    }\n",
       "\n",
       "    .dataframe tbody tr th {\n",
       "        vertical-align: top;\n",
       "    }\n",
       "\n",
       "    .dataframe thead th {\n",
       "        text-align: right;\n",
       "    }\n",
       "</style>\n",
       "<table border=\"1\" class=\"dataframe\">\n",
       "  <thead>\n",
       "    <tr style=\"text-align: right;\">\n",
       "      <th></th>\n",
       "      <th>0</th>\n",
       "    </tr>\n",
       "  </thead>\n",
       "  <tbody>\n",
       "    <tr>\n",
       "      <th>G0008</th>\n",
       "      <td>0.129433</td>\n",
       "    </tr>\n",
       "    <tr>\n",
       "      <th>36415</th>\n",
       "      <td>0.019907</td>\n",
       "    </tr>\n",
       "    <tr>\n",
       "      <th>G0009</th>\n",
       "      <td>0.034654</td>\n",
       "    </tr>\n",
       "    <tr>\n",
       "      <th>90662</th>\n",
       "      <td>0.039237</td>\n",
       "    </tr>\n",
       "    <tr>\n",
       "      <th>93000</th>\n",
       "      <td>-0.010055</td>\n",
       "    </tr>\n",
       "  </tbody>\n",
       "</table>\n",
       "</div>"
      ],
      "text/plain": [
       "              0\n",
       "G0008  0.129433\n",
       "36415  0.019907\n",
       "G0009  0.034654\n",
       "90662  0.039237\n",
       "93000 -0.010055"
      ]
     },
     "execution_count": 23,
     "metadata": {},
     "output_type": "execute_result"
    }
   ],
   "source": [
    "#Output of correlation dictionary\n",
    "corr_df = pd.DataFrame.from_dict(test_dict,orient='index')\n",
    "corr_df.head()"
   ]
  },
  {
   "cell_type": "code",
   "execution_count": 18,
   "metadata": {},
   "outputs": [
    {
     "data": {
      "image/png": "[encoded data removed]",
      "text/plain": [
       "<Figure size 432x288 with 1 Axes>"
      ]
     },
     "metadata": {
      "needs_background": "light"
     },
     "output_type": "display_data"
    }
   ],
   "source": [
    "#Plot Distribution of correlation values\n",
    "\n",
    "x = pd.Series(list(test_dict.values()), name=\"Correlation Distribution between nr. of Providers and Median charges\")\n",
    "\n",
    "#print(x)\n",
    "ax = sns.distplot(x)"
   ]
  },
  {
   "cell_type": "markdown",
   "metadata": {},
   "source": [
    "Based on the above graph, there is no strong correlation between number of providers and average charges. "
   ]
  }
 ],
 "metadata": {
  "kernelspec": {
   "display_name": "Python 3",
   "language": "python",
   "name": "python3"
  },
  "language_info": {
   "codemirror_mode": {
    "name": "ipython",
    "version": 3
   },
   "file_extension": ".py",
   "mimetype": "text/x-python",
   "name": "python",
   "nbconvert_exporter": "python",
   "pygments_lexer": "ipython3",
   "version": "3.6.8"
  }
 },
 "nbformat": 4,
 "nbformat_minor": 2
}
