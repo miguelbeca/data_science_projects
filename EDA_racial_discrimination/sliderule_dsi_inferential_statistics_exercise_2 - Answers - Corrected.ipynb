{
 "cells": [
  {
   "cell_type": "markdown",
   "metadata": {},
   "source": [
    "# Examining Racial Discrimination in the US Job Market\n",
    "\n",
    "### Background\n",
    "Racial discrimination continues to be pervasive in cultures throughout the world. Researchers examined the level of racial discrimination in the United States labor market by randomly assigning identical résumés to black-sounding or white-sounding names and observing the impact on requests for interviews from employers.\n",
    "\n",
    "### Data\n",
    "In the dataset provided, each row represents a resume. The 'race' column has two values, 'b' and 'w', indicating black-sounding and white-sounding. The column 'call' has two values, 1 and 0, indicating whether the resume received a call from employers or not.\n",
    "\n",
    "Note that the 'b' and 'w' values in race are assigned randomly to the resumes when presented to the employer."
   ]
  },
  {
   "cell_type": "markdown",
   "metadata": {},
   "source": [
    "### Exercises\n",
    "You will perform a statistical analysis to establish whether race has a significant impact on the rate of callbacks for resumes.\n",
    "\n",
    "Answer the following questions **in this notebook below and submit to your Github account**. \n",
    "\n",
    "   1. What test is appropriate for this problem? Does CLT apply?\n",
    "   2. What are the null and alternate hypotheses?\n",
    "   3. Compute margin of error, confidence interval, and p-value. Try using both the bootstrapping and the frequentist statistical approaches.\n",
    "   4. Write a story describing the statistical significance in the context or the original problem.\n",
    "   5. Does your analysis mean that race/name is the most important factor in callback success? Why or why not? If not, how would you amend your analysis?\n",
    "\n",
    "You can include written notes in notebook cells using Markdown: \n",
    "   - In the control panel at the top, choose Cell > Cell Type > Markdown\n",
    "   - Markdown syntax: http://nestacms.com/docs/creating-content/markdown-cheat-sheet\n",
    "\n",
    "#### Resources\n",
    "+ Experiment information and data source: http://www.povertyactionlab.org/evaluation/discrimination-job-market-united-states\n",
    "+ Scipy statistical methods: http://docs.scipy.org/doc/scipy/reference/stats.html \n",
    "+ Markdown syntax: http://nestacms.com/docs/creating-content/markdown-cheat-sheet\n",
    "+ Formulas for the Bernoulli distribution: https://en.wikipedia.org/wiki/Bernoulli_distribution"
   ]
  },
  {
   "cell_type": "code",
   "execution_count": 2,
   "metadata": {},
   "outputs": [],
   "source": [
    "import pandas as pd\n",
    "import numpy as np\n",
    "from scipy import stats"
   ]
  },
  {
   "cell_type": "code",
   "execution_count": 3,
   "metadata": {},
   "outputs": [],
   "source": [
    "data = pd.io.stata.read_stata('data/us_job_market_discrimination.dta')\n",
    "#data.to_csv('data/data_file.csv')"
   ]
  },
  {
   "cell_type": "code",
   "execution_count": 4,
   "metadata": {},
   "outputs": [
    {
     "name": "stdout",
     "output_type": "stream",
     "text": [
      "157.0\n"
     ]
    }
   ],
   "source": [
    "# number of callbacks for black-sounding names\n",
    "nr_black = sum(data[data.race=='b'].call)\n",
    "print(nr_black)"
   ]
  },
  {
   "cell_type": "code",
   "execution_count": 5,
   "metadata": {},
   "outputs": [
    {
     "name": "stdout",
     "output_type": "stream",
     "text": [
      "235.0\n"
     ]
    }
   ],
   "source": [
    "nr_white = sum(data[data.race=='w'].call)\n",
    "print(nr_white)"
   ]
  },
  {
   "cell_type": "markdown",
   "metadata": {
    "collapsed": true
   },
   "source": [
    "<div class=\"span5 alert alert-success\">\n",
    "    <p>1. What test is appropriate for this problem? Does CLT apply?</p>\n",
    "</div>"
   ]
  },
  {
   "cell_type": "markdown",
   "metadata": {},
   "source": [
    "We could use 2-sample testing here to determine whether race has any effect on the ability of job candidates to obtain a phone interview, by comparing the population proportions of both white and black applicants.\n",
    "\n",
    "The Central Limit Theorem still applies here, as the sample observations are independent of each other and sample size is quite large."
   ]
  },
  {
   "cell_type": "markdown",
   "metadata": {},
   "source": [
    "<div class=\"span5 alert alert-success\">\n",
    "    <p>2. What are the null and alternate hypotheses?</p>\n",
    "</div>"
   ]
  },
  {
   "cell_type": "markdown",
   "metadata": {},
   "source": [
    "Our null hypothesis is that there is no difference in the proportion of candidates who receive a callback for a an interview due to their race (p_w -p_b = 0).\n",
    "\n",
    "Our alternative hypothesis is that there is a difference in the proportion of candidates who do receive a callback for an interview because of their race (p_w -p_b != 0)."
   ]
  },
  {
   "cell_type": "markdown",
   "metadata": {},
   "source": [
    "<div class=\"span5 alert alert-success\">\n",
    "    <p>3. Compute margin of error, confidence interval, and p-value. Try using both the bootstrapping and the frequentist statistical approaches.</p>\n",
    "</div>"
   ]
  },
  {
   "cell_type": "code",
   "execution_count": 6,
   "metadata": {},
   "outputs": [],
   "source": [
    "w = data[data.race=='w']\n",
    "b = data[data.race=='b']\n",
    "\n",
    "#Arrays with call data - to be used later\n",
    "w_calls = w['call']\n",
    "b_calls = b['call']\n"
   ]
  },
  {
   "cell_type": "code",
   "execution_count": 7,
   "metadata": {},
   "outputs": [
    {
     "name": "stdout",
     "output_type": "stream",
     "text": [
      "0.0    2200\n",
      "1.0     235\n",
      "Name: call, dtype: int64\n",
      "0.0    2278\n",
      "1.0     157\n",
      "Name: call, dtype: int64\n",
      "2435\n",
      "2435\n"
     ]
    }
   ],
   "source": [
    "#Getting some count information\n",
    "\n",
    "w_counts = w['call'].value_counts()\n",
    "b_counts = b['call'].value_counts()\n",
    "\n",
    "print(w_counts)\n",
    "print(b_counts)\n",
    "print(len(w))\n",
    "print(len(b))"
   ]
  },
  {
   "cell_type": "code",
   "execution_count": 8,
   "metadata": {},
   "outputs": [],
   "source": [
    "#Code to generate permutation sample\n",
    "#Ref - \"Statistical Thinking in Python 2\" - Datacamp\n",
    "\n",
    "#Definition of function which generates a permutation sample from two data sets\n",
    "\n",
    "def permutation_sample(data1, data2):\n",
    "    \"\"\"Generate a permutation sample from two data sets.\"\"\"\n",
    "\n",
    "    # Concatenate the data sets: data\n",
    "    data = np.concatenate((data1,data2))\n",
    "\n",
    "    # Permute the concatenated array: permuted_data\n",
    "    permuted_data = np.random.permutation(data)\n",
    "\n",
    "    # Split the permuted array into two: perm_sample_1, perm_sample_2\n",
    "    perm_sample_1 = permuted_data[:len(data1)]\n",
    "    perm_sample_2 = permuted_data[len(data1):]\n",
    "    \n",
    "    return perm_sample_1, perm_sample_2"
   ]
  },
  {
   "cell_type": "code",
   "execution_count": 9,
   "metadata": {},
   "outputs": [],
   "source": [
    "#Function to generate permutation replicates\n",
    "#Ref - \"Statistical Thinking in Python 2\" - Datacamp\n",
    "\n",
    "def draw_perm_reps(data_1, data_2, func, size=1):\n",
    "    \"\"\"Generate multiple permutation replicates.\"\"\"\n",
    "\n",
    "    # Initialize array of replicates: perm_replicates\n",
    "    perm_replicates = np.empty(size)\n",
    "\n",
    "    for i in range(size):\n",
    "        # Generate permutation sample\n",
    "        perm_sample_1, perm_sample_2 = permutation_sample(data_1,data_2)\n",
    "\n",
    "        # Compute the test statistic\n",
    "        perm_replicates[i] = func(perm_sample_1,perm_sample_2)\n",
    "        \n",
    "    return perm_replicates"
   ]
  },
  {
   "cell_type": "code",
   "execution_count": 10,
   "metadata": {},
   "outputs": [
    {
     "name": "stdout",
     "output_type": "stream",
     "text": [
      "0.06447638603696099\n"
     ]
    }
   ],
   "source": [
    "#Function to calculate fraction of applicants who got a callback\n",
    "\n",
    "def frac_yes_callback(b_calls_data, w_calls_data):\n",
    "    frac = np.sum(b_calls_data) / len(b_calls_data)\n",
    "    return frac\n",
    "\n",
    "#Proportion of callbacks for black applicants based on dataset\n",
    "prop_black = frac_yes_callback(b_calls,w_calls)\n",
    "print(prop_black)"
   ]
  },
  {
   "cell_type": "code",
   "execution_count": 11,
   "metadata": {},
   "outputs": [
    {
     "name": "stdout",
     "output_type": "stream",
     "text": [
      "Standard error: 0.004977121442811946\n",
      "95% Confidence interval: [0.05472122800904957, 0.0742315440648724]\n"
     ]
    }
   ],
   "source": [
    "#Standard Error and confidence interval\n",
    "\n",
    "SE = np.sqrt((prop_black*(1-prop_black))/len(b_calls))\n",
    "print(\"Standard error: \" + str(SE))\n",
    "\n",
    "top_conf_int = prop_black + 1.96*SE\n",
    "bottom_conf_int = prop_black - 1.96*SE\n",
    "\n",
    "conf_int = [bottom_conf_int, top_conf_int]\n",
    "print(\"95% Confidence interval: \"+ str(conf_int))"
   ]
  },
  {
   "cell_type": "code",
   "execution_count": 12,
   "metadata": {},
   "outputs": [
    {
     "name": "stdout",
     "output_type": "stream",
     "text": [
      "p_white: 0.09650924024640657\n",
      "p_white - p_black = 0.032032854209445585\n",
      "proportion of whole population p : 0.08049281314168377\n",
      "Standard deviation of p_white + p_black: 0.007796894036170457\n",
      "Z-score: 4.108412152434346\n",
      "p value: 1.991943418788722e-05\n"
     ]
    }
   ],
   "source": [
    "#Calculating p-value\n",
    "#If race is no issue proportion black should be equal to proportion white. \n",
    "\n",
    "\n",
    "#Proportion of callbacks for white applicants based on dataset\n",
    "prop_white = frac_yes_callback(w_calls,b_calls)\n",
    "print(\"p_white: \"+ str(prop_white))\n",
    "\n",
    "#Difference in proportions between white and black applicants\n",
    "diff_prop = prop_white - prop_black\n",
    "print(\"p_white - p_black = \" + str(diff_prop))\n",
    "\n",
    "#Z-score assumes mean is equal to 0 as it assumes prop_white = prob_black\n",
    "#STD (prop_white - prop_black) = SQRT((2*p(1-p))/nr_total_samples)\n",
    "#p for STD = (w_counts+b_counts)/nr_total samples\n",
    "\n",
    "p_sum = (nr_white+nr_black)/(len(w)+len(b))\n",
    "print(\"proportion of whole population p : \" + str(p_sum))\n",
    "\n",
    "std_p_diff = np.sqrt((2*p_sum*(1-p_sum))/len(w))\n",
    "print(\"Standard deviation of p_white + p_black: \" +str(std_p_diff))\n",
    "\n",
    "z_score = (diff_prop -0)/std_p_diff\n",
    "print(\"Z-score: \" + str(z_score))\n",
    "\n",
    "\n",
    "#p value for 2-sample test\n",
    "\n",
    "print(\"p value: \" + str(1 - stats.norm.cdf(z_score)))"
   ]
  },
  {
   "cell_type": "code",
   "execution_count": 16,
   "metadata": {},
   "outputs": [],
   "source": [
    "#Difference of means\n",
    "#Ref - \"Statistical Thinking in Python 2\" - Datacamp\n",
    "def diff_of_means(data_1, data_2):\n",
    "    \"\"\"Difference in means of two arrays.\"\"\"\n",
    "    # The difference of means of data_1, data_2: diff\n",
    "    diff = np.mean(data_1) - np.mean(data_2)\n",
    "\n",
    "    return diff"
   ]
  },
  {
   "cell_type": "code",
   "execution_count": 19,
   "metadata": {},
   "outputs": [
    {
     "name": "stdout",
     "output_type": "stream",
     "text": [
      "p-value = 0.0\n"
     ]
    }
   ],
   "source": [
    "#Permutation sampling & p-value\n",
    "#Ref - \"Statistical Thinking in Python 2\" - Datacamp\n",
    "\n",
    "empirical_diff_means = diff_of_means(w_calls,b_calls)\n",
    "\n",
    "# Acquire permutation samples: perm_replicates\n",
    "perm_replicates = draw_perm_reps(w_calls, b_calls, diff_of_means, 10000)\n",
    "\n",
    "#print(perm_replicates)\n",
    "# Compute and print p-value: p\n",
    "p = np.sum(perm_replicates >= empirical_diff_means) / len(perm_replicates)\n",
    "print('p-value =', p)"
   ]
  },
  {
   "cell_type": "markdown",
   "metadata": {},
   "source": [
    "<div class=\"span5 alert alert-success\">\n",
    "    <p>4. Write a story describing the statistical significance in the context or the original problem.</p>\n",
    "</div>"
   ]
  },
  {
   "cell_type": "markdown",
   "metadata": {},
   "source": [
    "Based on the p-values, we should reject the null hypothesis and accept the fact that there is discrimination based on race, given that the probability that there is such a discrepancy between white and black callback rates is statistically significant."
   ]
  },
  {
   "cell_type": "markdown",
   "metadata": {},
   "source": [
    "<div class=\"span5 alert alert-success\">\n",
    "<p>5. Does your analysis mean that race/name is the most important factor in callback success? Why or why not? If not, how would you amend your analysis?</p>\n",
    "</div>"
   ]
  },
  {
   "cell_type": "markdown",
   "metadata": {
    "collapsed": true
   },
   "source": [
    "The dataset contains a wide range of variables and race is only one of them. In order to determine if it is the most important factor, we would also need to take a look at the other factors in other to determine that. Other factors such as gender, education level, years of experience can also have an effect on whether an applicant is called for an interview.\n",
    "\n",
    "One way to filter race as a factor would be to look at applicants who have equal factors in all other variables but only vary in their race. Based on this, then we could ascertain with more confidence the importance of race in terms of getting an interview."
   ]
  }
 ],
 "metadata": {
  "kernelspec": {
   "display_name": "Python 3",
   "language": "python",
   "name": "python3"
  },
  "language_info": {
   "codemirror_mode": {
    "name": "ipython",
    "version": 3
   },
   "file_extension": ".py",
   "mimetype": "text/x-python",
   "name": "python",
   "nbconvert_exporter": "python",
   "pygments_lexer": "ipython3",
   "version": "3.7.1"
  }
 },
 "nbformat": 4,
 "nbformat_minor": 1
}
